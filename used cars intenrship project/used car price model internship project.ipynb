{
 "cells": [
  {
   "cell_type": "code",
   "execution_count": 1,
   "id": "efbcc871",
   "metadata": {},
   "outputs": [],
   "source": [
    "import numpy as np\n",
    "import pandas as pd\n",
    "import matplotlib.pyplot as plt\n",
    "import seaborn as sns\n",
    "from sklearn.model_selection import train_test_split, GridSearchCV\n",
    "from sklearn.linear_model import LinearRegression\n",
    "from sklearn.tree import DecisionTreeRegressor\n",
    "from sklearn.ensemble import RandomForestRegressor, BaggingRegressor\n",
    "from sklearn.preprocessing import StandardScaler\n",
    "from sklearn import metrics\n",
    "import pickle\n",
    "import warnings\n",
    "warnings.filterwarnings('ignore')"
   ]
  },
  {
   "cell_type": "code",
   "execution_count": 2,
   "id": "0d8c1993",
   "metadata": {},
   "outputs": [
    {
     "data": {
      "text/html": [
       "<div>\n",
       "<style scoped>\n",
       "    .dataframe tbody tr th:only-of-type {\n",
       "        vertical-align: middle;\n",
       "    }\n",
       "\n",
       "    .dataframe tbody tr th {\n",
       "        vertical-align: top;\n",
       "    }\n",
       "\n",
       "    .dataframe thead th {\n",
       "        text-align: right;\n",
       "    }\n",
       "</style>\n",
       "<table border=\"1\" class=\"dataframe\">\n",
       "  <thead>\n",
       "    <tr style=\"text-align: right;\">\n",
       "      <th></th>\n",
       "      <th>Unnamed: 0</th>\n",
       "      <th>Brand</th>\n",
       "      <th>Model</th>\n",
       "      <th>Year</th>\n",
       "      <th>Fuel</th>\n",
       "      <th>Driven Kilometers</th>\n",
       "      <th>Owner</th>\n",
       "      <th>Location</th>\n",
       "      <th>Price</th>\n",
       "    </tr>\n",
       "  </thead>\n",
       "  <tbody>\n",
       "    <tr>\n",
       "      <th>0</th>\n",
       "      <td>0</td>\n",
       "      <td>Skoda</td>\n",
       "      <td>Fabia</td>\n",
       "      <td>2009.0</td>\n",
       "      <td>PETROL</td>\n",
       "      <td>86000.0 KM</td>\n",
       "      <td>Owner\\n2nd</td>\n",
       "      <td>Location\\nAnant Nagar, Nagpur</td>\n",
       "      <td>₹ 1,70,000</td>\n",
       "    </tr>\n",
       "    <tr>\n",
       "      <th>1</th>\n",
       "      <td>1</td>\n",
       "      <td>Audi</td>\n",
       "      <td>6</td>\n",
       "      <td>2012.0</td>\n",
       "      <td>DIESEL</td>\n",
       "      <td>50500.0 KM</td>\n",
       "      <td>Owner\\n1st</td>\n",
       "      <td>Location\\nJubilee Hills, Hyderabad</td>\n",
       "      <td>₹ 10,90,000</td>\n",
       "    </tr>\n",
       "    <tr>\n",
       "      <th>2</th>\n",
       "      <td>2</td>\n",
       "      <td>Bmw 5</td>\n",
       "      <td>Series</td>\n",
       "      <td>2015.0</td>\n",
       "      <td>DIESEL</td>\n",
       "      <td>144000.0 KM</td>\n",
       "      <td>Owner\\n1st</td>\n",
       "      <td>Location\\nRS Puram, Coimbatore</td>\n",
       "      <td>₹ 26,00,000</td>\n",
       "    </tr>\n",
       "    <tr>\n",
       "      <th>3</th>\n",
       "      <td>3</td>\n",
       "      <td>Renau</td>\n",
       "      <td>t Duster</td>\n",
       "      <td>2014.0</td>\n",
       "      <td>DIESEL</td>\n",
       "      <td>30000 KM</td>\n",
       "      <td>Owner\\nFirst</td>\n",
       "      <td>Location\\nDr Mukherjee Nagar, Delhi</td>\n",
       "      <td>₹ 4,25,000</td>\n",
       "    </tr>\n",
       "    <tr>\n",
       "      <th>4</th>\n",
       "      <td>4</td>\n",
       "      <td>Chevr</td>\n",
       "      <td>let Beat</td>\n",
       "      <td>2011.0</td>\n",
       "      <td>CNG</td>\n",
       "      <td>120000 KM</td>\n",
       "      <td>Owner\\nSecond</td>\n",
       "      <td>Location\\nSector 74, Noida</td>\n",
       "      <td>₹ 1,50,000</td>\n",
       "    </tr>\n",
       "  </tbody>\n",
       "</table>\n",
       "</div>"
      ],
      "text/plain": [
       "   Unnamed: 0  Brand      Model    Year    Fuel Driven Kilometers  \\\n",
       "0           0  Skoda     Fabia   2009.0  PETROL        86000.0 KM   \n",
       "1           1  Audi          6   2012.0  DIESEL        50500.0 KM   \n",
       "2           2  Bmw 5    Series   2015.0  DIESEL       144000.0 KM   \n",
       "3           3  Renau  t Duster   2014.0  DIESEL          30000 KM   \n",
       "4           4  Chevr  let Beat   2011.0     CNG         120000 KM   \n",
       "\n",
       "           Owner                             Location        Price  \n",
       "0     Owner\\n2nd        Location\\nAnant Nagar, Nagpur   ₹ 1,70,000  \n",
       "1     Owner\\n1st   Location\\nJubilee Hills, Hyderabad  ₹ 10,90,000  \n",
       "2     Owner\\n1st       Location\\nRS Puram, Coimbatore  ₹ 26,00,000  \n",
       "3   Owner\\nFirst  Location\\nDr Mukherjee Nagar, Delhi   ₹ 4,25,000  \n",
       "4  Owner\\nSecond           Location\\nSector 74, Noida   ₹ 1,50,000  "
      ]
     },
     "execution_count": 2,
     "metadata": {},
     "output_type": "execute_result"
    }
   ],
   "source": [
    "cars = pd.read_csv('used_cars.csv')\n",
    "cars.head()"
   ]
  },
  {
   "cell_type": "code",
   "execution_count": 3,
   "id": "c1b74dc4",
   "metadata": {},
   "outputs": [],
   "source": [
    "cars.drop(['Unnamed: 0'], axis= 1, inplace= True)"
   ]
  },
  {
   "cell_type": "code",
   "execution_count": 4,
   "id": "e123e0dd",
   "metadata": {},
   "outputs": [
    {
     "data": {
      "text/plain": [
       "(5047, 8)"
      ]
     },
     "execution_count": 4,
     "metadata": {},
     "output_type": "execute_result"
    }
   ],
   "source": [
    "cars.shape"
   ]
  },
  {
   "cell_type": "code",
   "execution_count": 5,
   "id": "d1b1b1cd",
   "metadata": {},
   "outputs": [
    {
     "data": {
      "text/html": [
       "<div>\n",
       "<style scoped>\n",
       "    .dataframe tbody tr th:only-of-type {\n",
       "        vertical-align: middle;\n",
       "    }\n",
       "\n",
       "    .dataframe tbody tr th {\n",
       "        vertical-align: top;\n",
       "    }\n",
       "\n",
       "    .dataframe thead th {\n",
       "        text-align: right;\n",
       "    }\n",
       "</style>\n",
       "<table border=\"1\" class=\"dataframe\">\n",
       "  <thead>\n",
       "    <tr style=\"text-align: right;\">\n",
       "      <th></th>\n",
       "      <th>Brand</th>\n",
       "      <th>Model</th>\n",
       "      <th>Year</th>\n",
       "      <th>Fuel</th>\n",
       "      <th>Driven Kilometers</th>\n",
       "      <th>Owner</th>\n",
       "      <th>Location</th>\n",
       "      <th>Price</th>\n",
       "    </tr>\n",
       "  </thead>\n",
       "  <tbody>\n",
       "    <tr>\n",
       "      <th>count</th>\n",
       "      <td>5032</td>\n",
       "      <td>5023</td>\n",
       "      <td>5031</td>\n",
       "      <td>5047</td>\n",
       "      <td>5047</td>\n",
       "      <td>5047</td>\n",
       "      <td>5047</td>\n",
       "      <td>5047</td>\n",
       "    </tr>\n",
       "    <tr>\n",
       "      <th>unique</th>\n",
       "      <td>197</td>\n",
       "      <td>781</td>\n",
       "      <td>40</td>\n",
       "      <td>11</td>\n",
       "      <td>4325</td>\n",
       "      <td>14</td>\n",
       "      <td>187</td>\n",
       "      <td>3451</td>\n",
       "    </tr>\n",
       "    <tr>\n",
       "      <th>top</th>\n",
       "      <td>Maruti</td>\n",
       "      <td>Grand i10</td>\n",
       "      <td>2017</td>\n",
       "      <td>Petrol</td>\n",
       "      <td>-</td>\n",
       "      <td>1st Owner</td>\n",
       "      <td>DELHI</td>\n",
       "      <td>-</td>\n",
       "    </tr>\n",
       "    <tr>\n",
       "      <th>freq</th>\n",
       "      <td>1323</td>\n",
       "      <td>156</td>\n",
       "      <td>904</td>\n",
       "      <td>3563</td>\n",
       "      <td>30</td>\n",
       "      <td>3960</td>\n",
       "      <td>1204</td>\n",
       "      <td>30</td>\n",
       "    </tr>\n",
       "  </tbody>\n",
       "</table>\n",
       "</div>"
      ],
      "text/plain": [
       "          Brand        Model  Year    Fuel Driven Kilometers      Owner  \\\n",
       "count      5032         5023  5031    5047              5047       5047   \n",
       "unique      197          781    40      11              4325         14   \n",
       "top     Maruti    Grand i10   2017  Petrol                 -  1st Owner   \n",
       "freq       1323          156   904    3563                30       3960   \n",
       "\n",
       "       Location Price  \n",
       "count      5047  5047  \n",
       "unique      187  3451  \n",
       "top       DELHI     -  \n",
       "freq       1204    30  "
      ]
     },
     "execution_count": 5,
     "metadata": {},
     "output_type": "execute_result"
    }
   ],
   "source": [
    "cars.describe()"
   ]
  },
  {
   "cell_type": "code",
   "execution_count": 6,
   "id": "47ef6df0",
   "metadata": {},
   "outputs": [
    {
     "data": {
      "text/plain": [
       "Brand                15\n",
       "Model                24\n",
       "Year                 16\n",
       "Fuel                  0\n",
       "Driven Kilometers     0\n",
       "Owner                 0\n",
       "Location              0\n",
       "Price                 0\n",
       "dtype: int64"
      ]
     },
     "execution_count": 6,
     "metadata": {},
     "output_type": "execute_result"
    }
   ],
   "source": [
    "cars.isnull().sum()"
   ]
  },
  {
   "cell_type": "code",
   "execution_count": 7,
   "id": "07c7cf76",
   "metadata": {},
   "outputs": [
    {
     "data": {
      "text/html": [
       "<div>\n",
       "<style scoped>\n",
       "    .dataframe tbody tr th:only-of-type {\n",
       "        vertical-align: middle;\n",
       "    }\n",
       "\n",
       "    .dataframe tbody tr th {\n",
       "        vertical-align: top;\n",
       "    }\n",
       "\n",
       "    .dataframe thead th {\n",
       "        text-align: right;\n",
       "    }\n",
       "</style>\n",
       "<table border=\"1\" class=\"dataframe\">\n",
       "  <thead>\n",
       "    <tr style=\"text-align: right;\">\n",
       "      <th></th>\n",
       "      <th>Brand</th>\n",
       "      <th>Model</th>\n",
       "      <th>Year</th>\n",
       "      <th>Fuel</th>\n",
       "      <th>Driven Kilometers</th>\n",
       "      <th>Owner</th>\n",
       "      <th>Location</th>\n",
       "      <th>Price</th>\n",
       "    </tr>\n",
       "  </thead>\n",
       "  <tbody>\n",
       "    <tr>\n",
       "      <th>0</th>\n",
       "      <td>Skoda</td>\n",
       "      <td>Fabia</td>\n",
       "      <td>2009.0</td>\n",
       "      <td>PETROL</td>\n",
       "      <td>86000.0 KM</td>\n",
       "      <td>Owner\\n2nd</td>\n",
       "      <td>Location\\nAnant Nagar, Nagpur</td>\n",
       "      <td>₹ 1,70,000</td>\n",
       "    </tr>\n",
       "    <tr>\n",
       "      <th>1</th>\n",
       "      <td>Audi</td>\n",
       "      <td>6</td>\n",
       "      <td>2012.0</td>\n",
       "      <td>DIESEL</td>\n",
       "      <td>50500.0 KM</td>\n",
       "      <td>Owner\\n1st</td>\n",
       "      <td>Location\\nJubilee Hills, Hyderabad</td>\n",
       "      <td>₹ 10,90,000</td>\n",
       "    </tr>\n",
       "    <tr>\n",
       "      <th>2</th>\n",
       "      <td>Bmw 5</td>\n",
       "      <td>Series</td>\n",
       "      <td>2015.0</td>\n",
       "      <td>DIESEL</td>\n",
       "      <td>144000.0 KM</td>\n",
       "      <td>Owner\\n1st</td>\n",
       "      <td>Location\\nRS Puram, Coimbatore</td>\n",
       "      <td>₹ 26,00,000</td>\n",
       "    </tr>\n",
       "    <tr>\n",
       "      <th>3</th>\n",
       "      <td>Renau</td>\n",
       "      <td>t Duster</td>\n",
       "      <td>2014.0</td>\n",
       "      <td>DIESEL</td>\n",
       "      <td>30000 KM</td>\n",
       "      <td>Owner\\nFirst</td>\n",
       "      <td>Location\\nDr Mukherjee Nagar, Delhi</td>\n",
       "      <td>₹ 4,25,000</td>\n",
       "    </tr>\n",
       "    <tr>\n",
       "      <th>4</th>\n",
       "      <td>Chevr</td>\n",
       "      <td>let Beat</td>\n",
       "      <td>2011.0</td>\n",
       "      <td>CNG</td>\n",
       "      <td>120000 KM</td>\n",
       "      <td>Owner\\nSecond</td>\n",
       "      <td>Location\\nSector 74, Noida</td>\n",
       "      <td>₹ 1,50,000</td>\n",
       "    </tr>\n",
       "  </tbody>\n",
       "</table>\n",
       "</div>"
      ],
      "text/plain": [
       "   Brand      Model    Year    Fuel Driven Kilometers          Owner  \\\n",
       "0  Skoda     Fabia   2009.0  PETROL        86000.0 KM     Owner\\n2nd   \n",
       "1  Audi          6   2012.0  DIESEL        50500.0 KM     Owner\\n1st   \n",
       "2  Bmw 5    Series   2015.0  DIESEL       144000.0 KM     Owner\\n1st   \n",
       "3  Renau  t Duster   2014.0  DIESEL          30000 KM   Owner\\nFirst   \n",
       "4  Chevr  let Beat   2011.0     CNG         120000 KM  Owner\\nSecond   \n",
       "\n",
       "                              Location        Price  \n",
       "0        Location\\nAnant Nagar, Nagpur   ₹ 1,70,000  \n",
       "1   Location\\nJubilee Hills, Hyderabad  ₹ 10,90,000  \n",
       "2       Location\\nRS Puram, Coimbatore  ₹ 26,00,000  \n",
       "3  Location\\nDr Mukherjee Nagar, Delhi   ₹ 4,25,000  \n",
       "4           Location\\nSector 74, Noida   ₹ 1,50,000  "
      ]
     },
     "execution_count": 7,
     "metadata": {},
     "output_type": "execute_result"
    }
   ],
   "source": [
    "cars.head()"
   ]
  },
  {
   "cell_type": "code",
   "execution_count": 8,
   "id": "a7808493",
   "metadata": {},
   "outputs": [],
   "source": [
    "cars['Price'] = cars['Price'].str.replace(\"₹\",\"\")"
   ]
  },
  {
   "cell_type": "code",
   "execution_count": 9,
   "id": "b04443bb",
   "metadata": {},
   "outputs": [],
   "source": [
    "cars['Price'] = cars['Price'].str.replace(\",\",\"\")"
   ]
  },
  {
   "cell_type": "code",
   "execution_count": 10,
   "id": "f382b194",
   "metadata": {},
   "outputs": [],
   "source": [
    "cars['Price'] = cars['Price'].str.replace(\"\\n\",\"\")"
   ]
  },
  {
   "cell_type": "code",
   "execution_count": 11,
   "id": "080d6334",
   "metadata": {},
   "outputs": [],
   "source": [
    "cars['Price'] = cars['Price'].replace(['-','--'],[np.nan, np.nan])"
   ]
  },
  {
   "cell_type": "code",
   "execution_count": 12,
   "id": "e664266a",
   "metadata": {},
   "outputs": [
    {
     "data": {
      "text/plain": [
       "30"
      ]
     },
     "execution_count": 12,
     "metadata": {},
     "output_type": "execute_result"
    }
   ],
   "source": [
    "cars['Price'].isnull().sum()"
   ]
  },
  {
   "cell_type": "code",
   "execution_count": 13,
   "id": "df7c979c",
   "metadata": {},
   "outputs": [],
   "source": [
    "cars['Price'] = cars['Price'].fillna(method= 'bfill')"
   ]
  },
  {
   "cell_type": "code",
   "execution_count": 14,
   "id": "ec72f6c8",
   "metadata": {},
   "outputs": [
    {
     "data": {
      "text/plain": [
       "0"
      ]
     },
     "execution_count": 14,
     "metadata": {},
     "output_type": "execute_result"
    }
   ],
   "source": [
    "cars['Price'].isnull().sum()"
   ]
  },
  {
   "cell_type": "code",
   "execution_count": 15,
   "id": "c4252e77",
   "metadata": {},
   "outputs": [],
   "source": [
    "cars['Price'] = cars['Price'].str.join('')"
   ]
  },
  {
   "cell_type": "code",
   "execution_count": 16,
   "id": "ebfcd490",
   "metadata": {},
   "outputs": [],
   "source": [
    "a = []\n",
    "for i in cars['Price']:\n",
    "    i = i[:7]\n",
    "    a.append(i)"
   ]
  },
  {
   "cell_type": "code",
   "execution_count": 17,
   "id": "736516bc",
   "metadata": {},
   "outputs": [],
   "source": [
    "cars['Price'] = pd.Series(a)"
   ]
  },
  {
   "cell_type": "code",
   "execution_count": 18,
   "id": "0c9e103f",
   "metadata": {},
   "outputs": [],
   "source": [
    "cars['Price'] = cars['Price'].str.replace('e','')"
   ]
  },
  {
   "cell_type": "code",
   "execution_count": 19,
   "id": "47e02b9c",
   "metadata": {},
   "outputs": [],
   "source": [
    "cars['Price'] = pd.to_numeric(cars['Price'])"
   ]
  },
  {
   "cell_type": "code",
   "execution_count": 20,
   "id": "31d66597",
   "metadata": {},
   "outputs": [
    {
     "name": "stdout",
     "output_type": "stream",
     "text": [
      "<class 'pandas.core.frame.DataFrame'>\n",
      "RangeIndex: 5047 entries, 0 to 5046\n",
      "Data columns (total 8 columns):\n",
      " #   Column             Non-Null Count  Dtype \n",
      "---  ------             --------------  ----- \n",
      " 0   Brand              5032 non-null   object\n",
      " 1   Model              5023 non-null   object\n",
      " 2   Year               5031 non-null   object\n",
      " 3   Fuel               5047 non-null   object\n",
      " 4   Driven Kilometers  5047 non-null   object\n",
      " 5   Owner              5047 non-null   object\n",
      " 6   Location           5047 non-null   object\n",
      " 7   Price              5047 non-null   int64 \n",
      "dtypes: int64(1), object(7)\n",
      "memory usage: 315.6+ KB\n"
     ]
    }
   ],
   "source": [
    "cars.info()"
   ]
  },
  {
   "cell_type": "markdown",
   "id": "b295224c",
   "metadata": {},
   "source": [
    "1. Brand"
   ]
  },
  {
   "cell_type": "code",
   "execution_count": 21,
   "id": "130591b6",
   "metadata": {},
   "outputs": [
    {
     "data": {
      "text/plain": [
       "array(['Skoda', 'Audi ', 'Bmw 5', 'Renau', 'Chevr', 'Hyund', 'Marut', '-',\n",
       "       'Toyot', 'Tata ', 'Ashok', 'Honda', 'Ford ', 'Mahin', 'Volks',\n",
       "       'Merce', 'Jeep ', 'Nissa', 'Datsu', 'Bmw 3', 'Bajaj', 'Eiche',\n",
       "       ' Maruti ', ' Hyunda', ' Maruti Bale', ' Mahindra X', ' Hyundai ',\n",
       "       ' Maruti B', ' Honda', ' Ford Eco', ' Mahindra KU', ' Maruti Wa',\n",
       "       ' Maruti Alt', ' Toyota Etios', ' Renault', ' Hyundai Gran',\n",
       "       ' Maruti S-P', ' Maruti Vitara B', ' Toyota ', ' Maruti',\n",
       "       ' Honda ', ' Tata ', ' Maruti Swift ', ' Maruti SX4 S ',\n",
       "       ' Maruti Ce', ' Volkswagen', nan, ' Maruti Cele', ' Ford',\n",
       "       ' Volkswagen ', ' Jeep Co', ' Toyota G', ' Mahindra TU',\n",
       "       ' Nissan Micra A', ' Mahindra', ' Renault T', ' Nissan ',\n",
       "       ' Datsun R', ' Hyundai S', ' Skoda ', ' Toyota Etios ', ' MG H',\n",
       "       ' Maruti E', ' Hyundai Grand i10', ' Hyundai i20 A',\n",
       "       ' Ford Figo A', ' Maruti Wagon R Sti', ' Toyota Innova C',\n",
       "       ' Toyota Corolla ', ' Tata Ha', ' Dats', ' Renault D',\n",
       "       ' Mahindra Ma', ' Tata', ' Kia ', ' Marut', ' Toyota Urban cr',\n",
       "       ' MG Hector', ' Tata A', ' Nissan Te', ' Maruti Vitara ',\n",
       "       ' Maruti Swift', ' Renaul', ' Maruti C', ' Hyundai Gra', ' Skoda',\n",
       "       ' Hyundai', ' Maruti SX4 S', ' Maruti Al', ' Maruti S-',\n",
       "       ' Maruti W', ' Hond', ' Hyund', ' Ford Figo ', ' Hyundai Grand i1',\n",
       "       ' MG ', ' Volkswage', ' Mahindra ', ' Kia', ' Renault ', ' Maru',\n",
       "       ' Jeep C', ' Ford Ec', ' Mahindra K', ' Datsun ', ' Renau',\n",
       "       ' Hyundai Gr', ' Skod', ' Hon', ' Hyun', ' BMW 3', ' Maruti A',\n",
       "       ' Toyota Eti', ' Maruti Swif', ' ', ' Volkswag', ' Maruti Vitara',\n",
       "       ' Toyota F', ' Maruti S', ' Volvo S60 Cross ', ' Toyota Coroll',\n",
       "       ' Ford E', ' MG', ' Mercedes-Benz ', ' Jeep ', ' Datsun',\n",
       "       ' Toyota', 'Maruti', 'Ford E', 'Volksw', 'Ford F', 'Hyunda',\n",
       "       'Tata T', 'Honda ', 'Toyota', 'Nissan', 'Renaul', 'Merced',\n",
       "       'MG HEC', 'Mahind', 'Audi Q', 'Skoda ', 'Datsun', 'Audi A',\n",
       "       'BMW 5 ', 'Ford N', 'Ssangy', 'KIA SE', 'BMW 3 ', 'BMW X1',\n",
       "       'Tata N', 'Maruti ', 'Ford Ec', 'Toyota ', 'Renault', 'Tata NE',\n",
       "       'Hyundai', 'BMW 5 S', 'Tata Ti', 'Tata He', 'Mahindr', 'MG HECT',\n",
       "       'Ford FR', 'Jeep Co', 'Honda J', 'Honda C', 'Honda A', 'Ford Fi',\n",
       "       'Honda W', 'Honda B', 'Nissan ', 'KIA SEL', 'Volkswa', 'Datsun ',\n",
       "       'Skoda S', 'Tata AL', 'Skoda R', 'Mercede', 'Skoda F', 'Ford En',\n",
       "       'Chevrol', 'Skoda Y', 'Tata Su', 'Tata In', 'Honda M', 'Audi Q3',\n",
       "       'Ford Ne', 'Tata Ha', 'BMW X1 ', 'Tata TI', 'Jaguar ', 'BMW 3 S',\n",
       "       'Skoda O', 'Tata Na', 'Audi A4', 'Fiat Pu', 'Audi A3', 'Tata Ze'],\n",
       "      dtype=object)"
      ]
     },
     "execution_count": 21,
     "metadata": {},
     "output_type": "execute_result"
    }
   ],
   "source": [
    "cars['Brand'].unique()"
   ]
  },
  {
   "cell_type": "code",
   "execution_count": 22,
   "id": "9a5b8edd",
   "metadata": {},
   "outputs": [],
   "source": [
    "cars['Brand'] = cars['Brand'].replace([\"-\"],[np.nan])"
   ]
  },
  {
   "cell_type": "code",
   "execution_count": 23,
   "id": "58125d8c",
   "metadata": {},
   "outputs": [
    {
     "data": {
      "text/plain": [
       "31"
      ]
     },
     "execution_count": 23,
     "metadata": {},
     "output_type": "execute_result"
    }
   ],
   "source": [
    "cars['Brand'].isnull().sum()"
   ]
  },
  {
   "cell_type": "code",
   "execution_count": 24,
   "id": "b7b90a12",
   "metadata": {},
   "outputs": [],
   "source": [
    "cars['Brand'] = cars['Brand'].fillna(method= 'bfill')"
   ]
  },
  {
   "cell_type": "code",
   "execution_count": 25,
   "id": "8cb9a218",
   "metadata": {},
   "outputs": [
    {
     "data": {
      "text/plain": [
       "0"
      ]
     },
     "execution_count": 25,
     "metadata": {},
     "output_type": "execute_result"
    }
   ],
   "source": [
    "cars['Brand'].isnull().sum()"
   ]
  },
  {
   "cell_type": "code",
   "execution_count": 26,
   "id": "4799c5bf",
   "metadata": {},
   "outputs": [],
   "source": [
    "a = []\n",
    "for i in cars['Brand']:\n",
    "    i = i[0]\n",
    "    a.append(i)"
   ]
  },
  {
   "cell_type": "code",
   "execution_count": 27,
   "id": "2da1405d",
   "metadata": {},
   "outputs": [],
   "source": [
    "cars['Brand'] = pd.Series(a)"
   ]
  },
  {
   "cell_type": "code",
   "execution_count": 28,
   "id": "b8392ea1",
   "metadata": {},
   "outputs": [
    {
     "data": {
      "text/plain": [
       "array(['S', 'A', 'B', 'R', 'C', 'H', 'M', 'T', 'F', 'V', 'J', 'N', 'D',\n",
       "       'E', ' ', 'K'], dtype=object)"
      ]
     },
     "execution_count": 28,
     "metadata": {},
     "output_type": "execute_result"
    }
   ],
   "source": [
    "cars['Brand'].unique()"
   ]
  },
  {
   "cell_type": "code",
   "execution_count": 29,
   "id": "e7cc75d0",
   "metadata": {},
   "outputs": [],
   "source": [
    "cars['Brand'] = cars['Brand'].replace([' '], np.nan)"
   ]
  },
  {
   "cell_type": "code",
   "execution_count": 30,
   "id": "a6975c0d",
   "metadata": {},
   "outputs": [
    {
     "data": {
      "text/plain": [
       "1195"
      ]
     },
     "execution_count": 30,
     "metadata": {},
     "output_type": "execute_result"
    }
   ],
   "source": [
    "cars['Brand'].isnull().sum()"
   ]
  },
  {
   "cell_type": "code",
   "execution_count": 31,
   "id": "9956aeda",
   "metadata": {},
   "outputs": [],
   "source": [
    "cars['Brand'] = cars['Brand'].fillna(method= 'bfill')"
   ]
  },
  {
   "cell_type": "code",
   "execution_count": 32,
   "id": "4df22c12",
   "metadata": {},
   "outputs": [
    {
     "data": {
      "text/plain": [
       "0"
      ]
     },
     "execution_count": 32,
     "metadata": {},
     "output_type": "execute_result"
    }
   ],
   "source": [
    "cars['Brand'].isnull().sum()"
   ]
  },
  {
   "cell_type": "code",
   "execution_count": 33,
   "id": "9b37394c",
   "metadata": {},
   "outputs": [
    {
     "data": {
      "text/plain": [
       "array(['S', 'A', 'B', 'R', 'C', 'H', 'M', 'T', 'F', 'V', 'J', 'N', 'D',\n",
       "       'E', 'K'], dtype=object)"
      ]
     },
     "execution_count": 33,
     "metadata": {},
     "output_type": "execute_result"
    }
   ],
   "source": [
    "cars['Brand'].unique()"
   ]
  },
  {
   "cell_type": "code",
   "execution_count": 34,
   "id": "1be1968d",
   "metadata": {},
   "outputs": [
    {
     "data": {
      "image/png": "[encoded data removed]",
      "text/plain": [
       "<Figure size 1080x1080 with 2 Axes>"
      ]
     },
     "metadata": {
      "needs_background": "light"
     },
     "output_type": "display_data"
    }
   ],
   "source": [
    "plt.figure(figsize= [15,15])\n",
    "plt.subplot(221)\n",
    "sns.countplot(cars['Brand'])\n",
    "plt.xlabel('Brand')\n",
    "plt.subplot(222)\n",
    "sns.scatterplot(x= 'Brand', y= 'Price', data= cars)\n",
    "plt.xlabel('Brand')\n",
    "plt.ylabel('Price')\n",
    "plt.show()"
   ]
  },
  {
   "cell_type": "markdown",
   "id": "8474d862",
   "metadata": {},
   "source": [
    "2. Model"
   ]
  },
  {
   "cell_type": "code",
   "execution_count": 35,
   "id": "88ab64bb",
   "metadata": {},
   "outputs": [
    {
     "data": {
      "text/plain": [
       "array(['Fabia ', '6 ', 'Series ', 't Duster ', 'let Beat ', 'i I20 ',\n",
       "       ' Suzuki Wagon R ', ' Suzuki Swift Dzire ', nan, ' Suzuki Omni ',\n",
       "       ' Qualis ', 't Kwid ', 'i Santro ', 'afari ', 'Leyland Others ',\n",
       "       ' Suzuki Swift ', 'City ', 'cosport ', 'Superb ', ' Suzuki Ciaz ',\n",
       "       ' Suzuki Celerio ', 'ra Xuv500 ', ' Suzuki Ciaz S ',\n",
       "       ' Corolla Altis ', 'ra Bolero Pik-Up ', 'i Verna ', 'i Eon ',\n",
       "       'let Spark ', 'i Fluidic Verna ', ' Innova Crysta ', 'agen Polo ',\n",
       "       ' Suzuki Baleno ', ' Suzuki Ertiga ', 'let Cruze ',\n",
       "       'es Benz C-Class ', ' Suzuki Estilo ', ' Suzuki 800 ',\n",
       "       ' Suzuki Eeco ', 'es-Benz Cla ', 'umo ', 'anza ',\n",
       "       ' Suzuki Vitara Brezza ', ' Suzuki Alto K10 ', 'ra Thar ',\n",
       "       'Amaze ', 'ra Xylo ', ' Suzuki Alto ', 'i Santro Xing ',\n",
       "       'ra Jeep ', ' Suzuki Zen ', 'agen Vento ', 'i I10 ', 'ustang ',\n",
       "       'i Accent ', 'ra Xuv300 ', 'ra Scorpio ', 'ompass ', 'igo ',\n",
       "       'enon Xt ', ' Etios ', ' Sunny ', ' Go ', 'i Grand I10 ',\n",
       "       ' Micra ', ' Suzuki Ritz ', ' Suzuki Zen Estilo ', 'i Elite I20 ',\n",
       "       'es-Benz S-Coupe ', 'i Elantra ', ' Innova ', 'Jazz ',\n",
       "       'ra Ekuv100 ', 'est ', 'i Xcent ', 'Brio ', ' Suzuki S-Cross ',\n",
       "       'ndigo Xl ', 'es-Benz E-Class ', 't Fluence ', 'i Creta ', '4 ',\n",
       "       ' Suzuki S Cross ', 'iago ', ' Suzuki Others ', 'Others ',\n",
       "       ' Terrano ', ' Polaris Multix ', 'thers ', 'Wr-V ', 'ndigo Cs ',\n",
       "       ' Suzuki Alto 800 ', 'ndica ', 'let Tavera ', 'Swift', 'i i20',\n",
       "       'no RS', 'UV300', 'Verna', 'aleno', ' City', 'sport', 'V 100',\n",
       "       'gon R', 'o 800', ' Liva', 'Creta', 'Ignis', ' Brio', ' KWID',\n",
       "       'o K10', 'd i10', 'resso', 'rezza', 'Etios', 'i EON', ' Ritz',\n",
       "       'Amaze', 'Tiago', 'i i10', 'Dzire', 'Cross', 'lerio', ' Ciaz',\n",
       "       ' Polo', '-', 'Venue', 'Xcent', 'rio X', ' Figo', 'Vento', ' Jazz',\n",
       "       'mpass', 'lanza', 'V 300', 'ctive', ' Thar', 'riber', 'Kicks',\n",
       "       ' Alto', 'UV500', 'ediGO', 'antro', 'Tigor', 'Rapid', 'ector',\n",
       "       'rtiga', ' Nios', 'spire', 'ngray', 'rysta', 'Altis', 'Nexon',\n",
       "       'rrier', ' Ameo', ' BR-V', 'un GO', 'Yaris', ' Eeco', 'uster',\n",
       "       'razzo', ' Nano', 'Sonet', 'i XL6', 'uiser', ' Plus', ' WR-V',\n",
       "       'ltroz', 'rrano', ' Vento', 'Brezza', ' Dzire', 't KWID', 'elerio',\n",
       "       'nd i10', ' Rapid', ' Creta', ' Cross', 'to K10', 'Presso',\n",
       "       'i Ritz', 'agon R', ' Amaze', ' Verna', 'Santro', 'i Ciaz',\n",
       "       ' Ignis', 'Baleno', ' Tiago', 'a Brio', 'to 800', 'a CR-V',\n",
       "       'a Jazz', 'ai i20', 'Ertiga', 'Aspire', ' Xcent', 'ai EON',\n",
       "       ' Swift', '0 Nios', 'Hector', 'a City', 'n Polo', 'Bolero',\n",
       "       ' Sonet', 'Triber', 'ti XL6', 'ai i10', 'n Ameo', ' Kiger',\n",
       "       'XUV300', 'XUV500', ' Nexon', 'ompass', 'osport', 'UV 100',\n",
       "       'Duster', 'RediGO', 'KUV 100', 'i Verna', 'lt KWID', 'and i10',\n",
       "       'a Rapid', 'da City', ' Santro', ' Baleno', 'dai i20', 'a Amaze',\n",
       "       'i Swift', ' Series', 'lto 800', 'lto K10', 'os Liva', 'dai EON',\n",
       "       'i Venue', 't Dzire', 'i Creta', 'i Ignis', 'ti Ciaz', 'Audi Q5',\n",
       "       'en Polo', ' Brezza', 'ortuner', '-Presso', 'Audi A6', 'Country',\n",
       "       'Terrano', 'Scorpio', 'ti Alto', 'Audi A4', 'Wagon R', 'n Vento',\n",
       "       ' XUV500', 'ai Aura', 'da Jazz', 'a Altis', 'cosport', 'da WR-V',\n",
       "       ' Hector', 'E-Class', ' BMW X1', 'Compass', ' RediGO', ' Glanza',\n",
       "       ' Innova', 'Swift Dzire', 'A Star VXI ', 'Zen Estilo ',\n",
       "       'Swift VDI A', 'Swift VDI M', 'Ritz VDI MA', 'Swift VXI M',\n",
       "       'osport 1.5A', 'Wagon R 1.0', 'osport 1.5 ', 'Ciaz VDI PL',\n",
       "       'Vitara Brez', 'Ciaz DELTA ', 'gen Polo CO', 'go Aspire 1',\n",
       "       'Baleno ZETA', ' New Elantr', ' Elite i20 ', 'Alto 800 LX',\n",
       "       'ago XZA 1.2', ' Creta 1.6 ', 'ity ZX CVT ', 'Fortuner 3.',\n",
       "       'Terrano XV ', 'Baleno DELT', 'ago XZ 1.2 ', ' Kwid 1.0 R',\n",
       "       'Innova 2.5 ', 'Alto 800 VX', 'ivic VX CVT', 's Benz E Cl',\n",
       "       'OR SHARP HY', ' Xcent S 1.', 'a Scorpio S', 'R-V 1.2 i-V',\n",
       "       'Celerio X Z', 'IGNIS ZETA ', 'Camry HYBRI', 'ity S MT PE',\n",
       "       'gen Vento H', ' 2.0 TDI MT', ' i20 Active', ' 2.0 TDI QU',\n",
       "       ' GRAND I10 ', 'Dzire VDI M', 'Glanza G MT', 'S Cross ALP',\n",
       "       'osport 1.5T', 'Baleno ALPH', ' Duster 85 ', 'maze 1.5 VX',\n",
       "       'Dzire VDI A', 'Ertiga VDI ', ' Grand i10 ', 'Dzire VXI M',\n",
       "       'maze 1.5 EM', 'New Wagon-R', 'rio 1.2 S M', 'Ciaz VDI (O',\n",
       "       'Baleno SIGM', 'uperb 1.8 T', 'Ertiga ZDI ', 'azz 1.2 V A',\n",
       "       ' 30 TDI MT ', 'Ciaz VDI+ S', 'Redi Go 1.0', ' Verna FLUI',\n",
       "       'Corolla Alt', 'OR SHARP DC', ' Duster RXL', ' 35 TDI S L',\n",
       "       'gen Polo HI', 'Etios CROSS', 'Etios Liva ', 'ity V MT PE',\n",
       "       'osport 1.0 ', 'S PRESSO VX', 'Fortuner SP', ' 35 TDI Qua',\n",
       "       'ity SV MT D', 'Swift LXI O', 'Alto K10 VX', ' Kwid RXL M',\n",
       "       'Etios VX D ', ' Eon MAGNA ', 'Alto VXI MA', 'gen Polo TR',\n",
       "       ' i10 SPORTZ', 'Swift LXI M', 'Alto LXI MA', 'eries 520D ',\n",
       "       ' i20 ERA 1.', 'Celerio ZXI', 'azz 1.5 VX ', 'Swift LDI B',\n",
       "       'ago XT 1.2 ', 'Swift ZDI M', 'Swift ZXI M', ' i20 SPORTZ',\n",
       "       'Swift LDI O', 'rio 1.2 VX ', ' Kwid RXT M', 'Ritz VXI BS',\n",
       "       'a TUV300 T8', 'Ciaz ZDI MA', 'Celerio VXI', ' Duster RXZ',\n",
       "       'Redi Go S M', ' Tucson New', ' Xcent SX 1', 'Alto K10 LX',\n",
       "       'ity 1.5 V M', 'osport TITA', 'Swift VXI A', 'a XUV500 W1',\n",
       "       'azz 1.2 S I', ' Eon ERA PL', ' VENUE S MT', ' NEW SANTRO',\n",
       "       'esta TITANI', 'w Figo 1.2 ', 'Ritz LXI MA', 'ng Rexton R',\n",
       "       'gen Ameo Tr', 'IGNIS DELTA', 'Ertiga VXI ', 'ity SV MT P',\n",
       "       'TOS HTK 1.5', 'Dzire ZDI P', ' AURA E MT ', ' Xcent BASE',\n",
       "       'eries 320D ', ' TRIBER 1.0', 'YARIS J MT ', 'SDRIVE 20D ',\n",
       "       'GOR XZ 1.2 ', ' Eon D LITE', 'GOR Revotro', 'EESTYLE TIT',\n",
       "       'Terrano XL ', 'a XUV 3OO W', 'Innova Crys', 'XL6 ZETA SH',\n",
       "       'RV 2.4 AWD ', 'ago XM 1.2 ', ' i10 MAGNA ', ' VENUE SX(O',\n",
       "       'R-V 1.5 i-D', ' VENUE 1.0 ', ' Creta 1.4 ', ' Verna 1.6 ',\n",
       "       ' Creta S PE', 'maze 1.2 V ', 'Etios GD MA', ' Kwid RXT 1',\n",
       "       'gen Polo GT', 'XON XM 1.5 ', 'ity VX MT P', 'Ciaz VXI PL',\n",
       "       'YARIS VX CV', 'osport TREN', 'rio 1.2 V M', 'rio 1.2 E M',\n",
       "       ' Santro Xin', ' VENUE 1.0L', 'ivic ZX MT ', 'Fortuner 2.',\n",
       "       'XON XZA+ 1.', 'Etios VX MA', ' i20 MAGNA ', 'Ciaz ALPHA ',\n",
       "       'Etios V MAN', ' Captur RXT', 'S Cross ZET', 'xa Varicor ',\n",
       "       'OR SHARP 2.', 'EESTYLE TRE', 'YARIS G MT ', 'mpass LIMIT',\n",
       "       'XON XM 1.2 ', 'XON XZ+ 1.5', 'RV 2.4 AT 4', 'maze 1.5 SM',\n",
       "       'a MARAZZO M', 'Ciaz ZXI MA', 'S Cross DEL', 'eries 525D ',\n",
       "       'Ciaz ZXI PL', ' i20 ASTA 1', 'mpass 2.0 L', 'Glanza V CV',\n",
       "       'Dzire VXI A', 'Ciaz ZDI+ M', 'Dzire ZXI A', ' VENUE 1.5 ',\n",
       "       'azz VX 1.2 ', ' VENUE 1.4 ', 'azz 1.2 SV ', 'ivic ZX CVT',\n",
       "       'TOS GTX+ 1.', 'maze 1.2 VX', ' Xcent 1.2 ', 'a XUV500 W8',\n",
       "       ' VENUE SX 1', 'OR SMART DC', 'A Star LXI ', 'Ertiga ZXI ',\n",
       "       'ity V CVT A', 'S Cross SIG', 'ity VX CVT ', 'Ritz ZXI AB',\n",
       "       'Redi Go T (', 'gen Ameo CO', 'ity ZX MT P', 'Baleno RS 1',\n",
       "       'Ciaz ZDI SH', 'azz 1.2 X I', 'Swift ZDI +', 'ago XZA+ 1.',\n",
       "       ' i10 ASTA 1', 'mpass 1.4 L', 'azz 1.2 V M', 'Ciaz VXI MA',\n",
       "       'TROZ XZ 1.2', ' Xcent S AT', ' Duster RXS', 'apid STYLE ',\n",
       "       'gen Passat ', 'IGNIS SIGMA', 'Dzire ZDI M', 's Benz GLC ',\n",
       "       ' Kwid RXT O', 'Ciaz ZXI AT', 'uperb 2.0 T', ' Creta SX (',\n",
       "       'maze 1.2 SM', 'ity VX MT D', 'a Kuv100 K2', 'abia AMBITI',\n",
       "       'a Renault L', ' i10 ERA 1.', 'Go Plus T M', 'TOS GTX + A',\n",
       "       ' AURA SX+ A', 'deavour 3.2', 'Swift ZXI A', 'go 1.2 EXI ',\n",
       "       'a XUV500 W6', 'et Spark E ', 'eti AMBITIO', ' Duster 110',\n",
       "       'mo Gold EX ', 'uperb ELEGA', 'dica V2 DLS', 'A Star ZXI ',\n",
       "       'obilio 1.5 ', ' 35 TDI PRE', 'maze 1.5 SX', 'rrier XM 2.',\n",
       "       'XL6 ZETA AT', 'apid 1.0 AM', 'gen Jetta H', 'ity V CVT M',\n",
       "       'maze 1.2 SX', 'Wagon R LXI', ' Kwid 1.0 C', 'Redi Go S 1',\n",
       "       'TOS HTK PLU', 'rio 1.2 EX ', 'ity VX (O) ', 'Eeco 5 STR ',\n",
       "       'Dzire ZXI M', ' AURA S CNG', 'Ciaz VDI MA', 'Celerio ZDI',\n",
       "       ' Kwid RXL1.', 'XF 2.2 DIES', 'Micra XL CV', 'ctavia ELEG',\n",
       "       'gen Ameo HI', 'XL6 ALPHA S', 'apid 1.5 TD', 'Ciaz ZETA 1',\n",
       "       ' 30 TFSI Pr', 'Wagon R Sti', 'TOS HTX 1.5', 'XON XMA 1.5',\n",
       "       'ago XZ+ 1.2', 'no XT TWIST', ' Kwid CLIMB', 'ctavia LK 1',\n",
       "       ' 2.0 TDI S ', 'a XUV500 W7', 'ity ZX MT I', 'mpass 2.0 S',\n",
       "       'SX4 ZDI MAN', 'gen Vento C', 'a TUV300 T1', 'no TWIST XT',\n",
       "       'XON XZ+ 1.2', 'maze VX AT ', 'go 1.4 TITA', 'Wagon R ',\n",
       "       'ity V MT', ' i20 Act', 'Ertiga Z', 'Corolla ', 'Terrano ',\n",
       "       'R-V 1.5 ', 'Swift Dz', 'a TUV300', 'Swift VX', 'Celerio ',\n",
       "       ' Lodgy 1', 'Innova C', 'EESTYLE ', ' Elite i', ' Verna 1',\n",
       "       'gen Polo', 'xa Varic', 'osport 1', ' Creta 1', ' i10 MAG',\n",
       "       'Ciaz ALP', 'mpass 2.', 'ago XZ 1', 'Vitara B', 'maze 1.2',\n",
       "       'go Aspir', 'Alto K10', 'azz 1.5 ', ' Eon ERA', ' VENUE 1',\n",
       "       'Baleno D', 'azz 1.2 ', ' NEW SAN', ' Eon D L', ' Grand i',\n",
       "       'Eeco 5 S', 'Ertiga V', 'S Cross ', 'TOS HTK ', 'Innova 2',\n",
       "       'rio 1.2 ', 'Micra XL', 'Dzire VD', ' Creta S', 'OMNI E 8',\n",
       "       'A Star V', 'IGNIS DE', 'Etios V ', ' Kwid RX', 'w Figo 1',\n",
       "       'gen Ameo', 'Baleno Z', 'Baleno A', 'Swift ZX', ' Verna F',\n",
       "       ' Xcent S', 'gen Vent', 'Alto 800', 'Fortuner', 'Etios Li',\n",
       "       ' Captur ', ' GRAND I', 'ago XE 1', 'Ciaz ZET', 'New Wago',\n",
       "       'Micra Ac', 'Baleno S', ' TRIBER ', 'Dzire VX', ' i20 SPO',\n",
       "       'Dzire ZX', 'ity SV M', ' VENUE S', ' Kwid 1.', 'IGNIS AL',\n",
       "       'IGNIS SI', ' i10 SPO', ' Eon MAG', 'azz VX 1', 'S PRESSO',\n",
       "       'OMNI E S', 'Swift LX', 'Swift VD', 'apid STY', 'apid Sty',\n",
       "       'Ciaz DEL', ' i20 AST', 'ago XZA ', 'ago XT 1', 'Alto LXI',\n",
       "       'nto EVO ', 'Zen Esti', 'Alto VXI', 'XON XZA ', 'Baleno ZET',\n",
       "       'Swift Dzir', 'gen Polo C', 'Dzire VXI ', ' Elite i20',\n",
       "       ' Creta 1.6', ' 35TDI AUT', ' TRIBER 1.', 'Swift VDI ',\n",
       "       'ago XZ 1.2', 'Ritz ZXI A', 'maze 1.2 E', 'Baleno DEL',\n",
       "       'go 1.2 TIT', 'IGNIS DELT', ' i20 SPORT', 'gen Polo H',\n",
       "       'TOS GTX 1.', 'go Aspire ', ' Grand i10', 'a XUV500 W',\n",
       "       'IGNIS ALPH', 'Celerio VX', 'osport 1.5', ' NEW SANTR',\n",
       "       'ity V MT P', 'S PRESSO V', 'Swift VXI ', 'Swift ZDI ',\n",
       "       ' Kwid CLIM', ' Eon D LIT', ' Kwid RXL1', 'rio 1.2 V ',\n",
       "       ' Eon MAGNA', 'rio 1.2 VX', 'no TWIST X', 'Alto K10 V',\n",
       "       ' i10 SPORT', 'Wagon R 1.', ' i10 MAGNA', 'Celerio ZX',\n",
       "       'Ritz VXI B', 'no XT TWIS', ' i10 ERA 1', 'Eeco 5 STR',\n",
       "       'Alto 800 V', 'Celerio X ', 'Ertiga VDI', 'osport 1.0',\n",
       "       'apid ACTIV', 'YARIS V MT', 'Redi Go 1.', 'rio 1.2 S ',\n",
       "       'Vitara Bre', 'Ritz LXI M', 'w Figo 1.2', 'Baleno ALP',\n",
       "       'Redi Go LI', 'Swift LXI ', 'gen Ameo H', ' Tucson Ne',\n",
       "       'Zen Estilo', 'Ciaz DELTA', 'gen Polo G', 'maze 1.2 V',\n",
       "       ' i20 MAGNA', 'ity S MT P', 'Alto 800 L', ' VENUE S M',\n",
       "       'IGNIS ZETA', 'azz 1.2 V ', ' VENUE 1.0', ' i20 ASTA ',\n",
       "       ' Santro Xi', ' Kwid RXT ', 'ago XZA 1.', 'EESTYLE TI',\n",
       "       'Swift ZXI ', 'a XUV 3OO ', ' i20 Activ', 'Innova 2.5',\n",
       "       'YARIS V CV', 'XON XZ 1.2', 'Ritz VXI A', 'YARIS VX C',\n",
       "       ' Duster RX', 'gen Vento ', ' Eon SPORT', 'Ritz ZDI M',\n",
       "       'maze 1.2 S', 'go 1.4 TIT', 'w Figo 1.5', ' Eon ERA P',\n",
       "       'Wagon R LX', 'OMNI E 8 S', 'Terrano XL', 'st XMS RT ',\n",
       "       ' Kwid 1.0 ', 'Baleno SIG', 'Ciaz ZXI M', 'S Cross ZE',\n",
       "       'rrier XZA ', 'Innova Cry', 'Ertiga ZDI', 'apid AMBIT',\n",
       "       'uperb 1.8 ', 'OR SHARP 2', 'TOS HTX 1.', 'Alto VXI M',\n",
       "       'Alto LXI M', 'IGNIS SIGM', 'azz 1.2 VX', 'Etios Liva',\n",
       "       'Ritz VDI M', 'go 1.2 EXI', ' Verna FLU', 'ago XM 1.2',\n",
       "       'Dzire ZXI ', 'azz 1.2 S ', 'OR SMART D', 'Ertiga ZXI'],\n",
       "      dtype=object)"
      ]
     },
     "execution_count": 35,
     "metadata": {},
     "output_type": "execute_result"
    }
   ],
   "source": [
    "cars['Model'].unique()"
   ]
  },
  {
   "cell_type": "code",
   "execution_count": 36,
   "id": "e8d3c270",
   "metadata": {},
   "outputs": [],
   "source": [
    "cars['Model'] = cars['Model'].replace([\"-\"], np.nan)"
   ]
  },
  {
   "cell_type": "code",
   "execution_count": 37,
   "id": "a6b21a3d",
   "metadata": {},
   "outputs": [
    {
     "data": {
      "text/plain": [
       "30"
      ]
     },
     "execution_count": 37,
     "metadata": {},
     "output_type": "execute_result"
    }
   ],
   "source": [
    "cars['Model'].isnull().sum()"
   ]
  },
  {
   "cell_type": "code",
   "execution_count": 38,
   "id": "0c0eb7df",
   "metadata": {},
   "outputs": [],
   "source": [
    "cars['Model'] = cars['Model'].fillna(method= 'bfill')"
   ]
  },
  {
   "cell_type": "code",
   "execution_count": 39,
   "id": "7e765fe8",
   "metadata": {},
   "outputs": [],
   "source": [
    "a = []\n",
    "for i in cars['Model']:\n",
    "    i = i[0]\n",
    "    a.append(i)"
   ]
  },
  {
   "cell_type": "code",
   "execution_count": 40,
   "id": "dd3a4f0e",
   "metadata": {},
   "outputs": [],
   "source": [
    "cars['Model'] = pd.Series(a)"
   ]
  },
  {
   "cell_type": "code",
   "execution_count": 41,
   "id": "2625d7f7",
   "metadata": {},
   "outputs": [
    {
     "data": {
      "text/plain": [
       "array(['F', '6', 'S', 't', 'l', 'i', ' ', 'a', 'L', 'C', 'c', 'r', 'e',\n",
       "       'u', 'A', 'o', 'J', 'B', 'n', '4', 'O', 'W', 'U', 'V', 's', 'g',\n",
       "       'I', 'd', 'E', 'T', 'D', 'X', 'm', 'K', 'R', 'N', 'Y', 'P', '0',\n",
       "       'H', '-', 'Z', 'G', 'w', 'x', 'M'], dtype=object)"
      ]
     },
     "execution_count": 41,
     "metadata": {},
     "output_type": "execute_result"
    }
   ],
   "source": [
    "cars['Model'].unique()"
   ]
  },
  {
   "cell_type": "code",
   "execution_count": 42,
   "id": "f5f567f5",
   "metadata": {},
   "outputs": [],
   "source": [
    "cars['Model'] = cars['Model'].replace(['-',' '],[np.nan, np.nan])"
   ]
  },
  {
   "cell_type": "code",
   "execution_count": 43,
   "id": "d1dc05dd",
   "metadata": {},
   "outputs": [
    {
     "data": {
      "text/plain": [
       "1347"
      ]
     },
     "execution_count": 43,
     "metadata": {},
     "output_type": "execute_result"
    }
   ],
   "source": [
    "cars['Model'].isnull().sum()"
   ]
  },
  {
   "cell_type": "code",
   "execution_count": 44,
   "id": "752e04ee",
   "metadata": {},
   "outputs": [],
   "source": [
    "cars['Model'] = cars['Model'].fillna(method= 'bfill')"
   ]
  },
  {
   "cell_type": "code",
   "execution_count": 45,
   "id": "a4318cc8",
   "metadata": {},
   "outputs": [
    {
     "data": {
      "text/plain": [
       "0"
      ]
     },
     "execution_count": 45,
     "metadata": {},
     "output_type": "execute_result"
    }
   ],
   "source": [
    "cars['Model'].isnull().sum()"
   ]
  },
  {
   "cell_type": "code",
   "execution_count": 46,
   "id": "886b732f",
   "metadata": {},
   "outputs": [
    {
     "data": {
      "text/plain": [
       "array(['F', '6', 'S', 't', 'l', 'i', 'a', 'L', 'C', 'c', 'r', 'e', 'u',\n",
       "       'A', 'o', 'J', 'B', 'n', '4', 'O', 'W', 'U', 'V', 's', 'g', 'I',\n",
       "       'd', 'E', 'T', 'D', 'X', 'm', 'K', 'R', 'N', 'Y', 'P', '0', 'H',\n",
       "       'Z', 'G', 'w', 'x', 'M'], dtype=object)"
      ]
     },
     "execution_count": 46,
     "metadata": {},
     "output_type": "execute_result"
    }
   ],
   "source": [
    "cars['Model'].unique()"
   ]
  },
  {
   "cell_type": "code",
   "execution_count": 47,
   "id": "dbca9dda",
   "metadata": {},
   "outputs": [],
   "source": [
    "cars['Model'] = cars['Model'].replace(['t','l','i','a','c','r','e','u','o','n','s','g','d','m'],\n",
    "                                      ['T','L','I','A','C','R','E','U','O','N','S','G','D','M'])\n",
    "cars['Model'] = cars['Model'].replace(['6','4','0'],['F','D','O'])"
   ]
  },
  {
   "cell_type": "code",
   "execution_count": 48,
   "id": "9e17c8cc",
   "metadata": {},
   "outputs": [],
   "source": [
    "cars['Model'] = cars['Model'].replace(['w','x'],['W','X'])"
   ]
  },
  {
   "cell_type": "code",
   "execution_count": 49,
   "id": "a2d67985",
   "metadata": {},
   "outputs": [
    {
     "data": {
      "text/plain": [
       "array(['F', 'S', 'T', 'L', 'I', 'A', 'C', 'R', 'E', 'U', 'O', 'J', 'B',\n",
       "       'N', 'D', 'W', 'V', 'G', 'X', 'M', 'K', 'Y', 'P', 'H', 'Z'],\n",
       "      dtype=object)"
      ]
     },
     "execution_count": 49,
     "metadata": {},
     "output_type": "execute_result"
    }
   ],
   "source": [
    "cars['Model'].unique()"
   ]
  },
  {
   "cell_type": "code",
   "execution_count": 50,
   "id": "e9129a66",
   "metadata": {},
   "outputs": [
    {
     "data": {
      "image/png": "[encoded data removed]",
      "text/plain": [
       "<Figure size 1080x1080 with 2 Axes>"
      ]
     },
     "metadata": {
      "needs_background": "light"
     },
     "output_type": "display_data"
    }
   ],
   "source": [
    "plt.figure(figsize= [15,15])\n",
    "plt.subplot(221)\n",
    "sns.countplot(cars['Model'])\n",
    "plt.xlabel('Model')\n",
    "plt.subplot(222)\n",
    "sns.scatterplot(x= 'Model', y= 'Price', data= cars)\n",
    "plt.xlabel('Model')\n",
    "plt.ylabel('Price')\n",
    "plt.show()"
   ]
  },
  {
   "cell_type": "markdown",
   "id": "465ba73a",
   "metadata": {},
   "source": [
    "3. Year"
   ]
  },
  {
   "cell_type": "code",
   "execution_count": 51,
   "id": "793f5ab4",
   "metadata": {},
   "outputs": [
    {
     "data": {
      "text/plain": [
       "array(['2009.0', '2012.0', '2015.0', '2014.0', '2011.0', '2008.0',\n",
       "       '2013.0', nan, '1999.0', '2003.0', '2018.0', '2001.0', '2007.0',\n",
       "       '2017.0', '2016.0', '2021.0', '2010.0', '2022.0', '2019.0',\n",
       "       '2005.0', '2020.0', '2006.0', '1990.0', '2004.0', '2012', '2016',\n",
       "       '2017', '2019', '2018', '2014', '2020', '2015', '2011', '2013',\n",
       "       '-', '2021', '2010', '2009', '2008', '2007', '2003'], dtype=object)"
      ]
     },
     "execution_count": 51,
     "metadata": {},
     "output_type": "execute_result"
    }
   ],
   "source": [
    "cars['Year'].unique()"
   ]
  },
  {
   "cell_type": "code",
   "execution_count": 52,
   "id": "b3c88b70",
   "metadata": {},
   "outputs": [],
   "source": [
    "cars['Year'] = cars['Year'].replace(['-'],[np.nan])"
   ]
  },
  {
   "cell_type": "code",
   "execution_count": 53,
   "id": "0f32fa01",
   "metadata": {},
   "outputs": [
    {
     "data": {
      "text/plain": [
       "30"
      ]
     },
     "execution_count": 53,
     "metadata": {},
     "output_type": "execute_result"
    }
   ],
   "source": [
    "cars['Year'].isnull().sum()"
   ]
  },
  {
   "cell_type": "code",
   "execution_count": 54,
   "id": "7f13ee80",
   "metadata": {},
   "outputs": [],
   "source": [
    "cars['Year'] = cars['Year'].fillna(method= 'bfill')"
   ]
  },
  {
   "cell_type": "code",
   "execution_count": 55,
   "id": "54f4bded",
   "metadata": {},
   "outputs": [
    {
     "data": {
      "text/plain": [
       "array(['2009.0', '2012.0', '2015.0', '2014.0', '2011.0', '2008.0',\n",
       "       '2013.0', '1999.0', '2003.0', '2018.0', '2001.0', '2007.0',\n",
       "       '2017.0', '2016.0', '2021.0', '2010.0', '2022.0', '2019.0',\n",
       "       '2005.0', '2020.0', '2006.0', '1990.0', '2004.0', '2012', '2016',\n",
       "       '2017', '2019', '2018', '2014', '2020', '2015', '2011', '2013',\n",
       "       '2021', '2010', '2009', '2008', '2007', '2003'], dtype=object)"
      ]
     },
     "execution_count": 55,
     "metadata": {},
     "output_type": "execute_result"
    }
   ],
   "source": [
    "cars['Year'].unique()"
   ]
  },
  {
   "cell_type": "code",
   "execution_count": 56,
   "id": "587de221",
   "metadata": {},
   "outputs": [],
   "source": [
    "cars['Year'] = pd.to_numeric(cars['Year'])"
   ]
  },
  {
   "cell_type": "code",
   "execution_count": 57,
   "id": "68c33182",
   "metadata": {},
   "outputs": [
    {
     "data": {
      "image/png": "[encoded data removed]",
      "text/plain": [
       "<Figure size 1080x1080 with 2 Axes>"
      ]
     },
     "metadata": {
      "needs_background": "light"
     },
     "output_type": "display_data"
    }
   ],
   "source": [
    "plt.figure(figsize= [15,15])\n",
    "plt.subplot(221)\n",
    "sns.countplot(cars['Year'])\n",
    "plt.xlabel('Year')\n",
    "plt.xticks(rotation= 90)\n",
    "plt.subplot(222)\n",
    "sns.scatterplot(x= 'Year', y= 'Price', data= cars)\n",
    "plt.xlabel('Year')\n",
    "plt.xticks(rotation= 90)\n",
    "plt.ylabel('Price')\n",
    "plt.show()"
   ]
  },
  {
   "cell_type": "markdown",
   "id": "5c671e67",
   "metadata": {},
   "source": [
    "4. Fuel"
   ]
  },
  {
   "cell_type": "code",
   "execution_count": 58,
   "id": "487e42aa",
   "metadata": {},
   "outputs": [
    {
     "data": {
      "text/plain": [
       "array(['PETROL', 'DIESEL', 'CNG', '-', 'CNG & HYBRIDS', '--', 'LPG',\n",
       "       'Petrol', 'Diesel', 'Petrol + CNG', 'Petrol + LPG'], dtype=object)"
      ]
     },
     "execution_count": 58,
     "metadata": {},
     "output_type": "execute_result"
    }
   ],
   "source": [
    "cars['Fuel'].unique()"
   ]
  },
  {
   "cell_type": "code",
   "execution_count": 59,
   "id": "96677eaf",
   "metadata": {},
   "outputs": [],
   "source": [
    "cars['Fuel'] = cars['Fuel'].replace(['-','--'],[np.nan,np.nan])"
   ]
  },
  {
   "cell_type": "code",
   "execution_count": 60,
   "id": "dd3412c3",
   "metadata": {},
   "outputs": [
    {
     "data": {
      "text/plain": [
       "31"
      ]
     },
     "execution_count": 60,
     "metadata": {},
     "output_type": "execute_result"
    }
   ],
   "source": [
    "cars['Fuel'].isnull().sum()"
   ]
  },
  {
   "cell_type": "code",
   "execution_count": 61,
   "id": "55b3c31a",
   "metadata": {},
   "outputs": [],
   "source": [
    "cars['Fuel'] = cars['Fuel'].fillna(method= 'bfill')"
   ]
  },
  {
   "cell_type": "code",
   "execution_count": 62,
   "id": "6d22f618",
   "metadata": {},
   "outputs": [
    {
     "data": {
      "text/plain": [
       "0"
      ]
     },
     "execution_count": 62,
     "metadata": {},
     "output_type": "execute_result"
    }
   ],
   "source": [
    "cars['Fuel'].isnull().sum()"
   ]
  },
  {
   "cell_type": "code",
   "execution_count": 63,
   "id": "9b5c75db",
   "metadata": {},
   "outputs": [
    {
     "data": {
      "text/plain": [
       "array(['PETROL', 'DIESEL', 'CNG', 'CNG & HYBRIDS', 'LPG', 'Petrol',\n",
       "       'Diesel', 'Petrol + CNG', 'Petrol + LPG'], dtype=object)"
      ]
     },
     "execution_count": 63,
     "metadata": {},
     "output_type": "execute_result"
    }
   ],
   "source": [
    "cars['Fuel'].unique()"
   ]
  },
  {
   "cell_type": "code",
   "execution_count": 64,
   "id": "433dd5d8",
   "metadata": {},
   "outputs": [],
   "source": [
    "cars['Fuel'] = cars['Fuel'].replace(['PETROL','DIESEL'],['Petrol','Diesel'])"
   ]
  },
  {
   "cell_type": "code",
   "execution_count": 65,
   "id": "4eb1f895",
   "metadata": {},
   "outputs": [
    {
     "data": {
      "text/plain": [
       "array(['Petrol', 'Diesel', 'CNG', 'CNG & HYBRIDS', 'LPG', 'Petrol + CNG',\n",
       "       'Petrol + LPG'], dtype=object)"
      ]
     },
     "execution_count": 65,
     "metadata": {},
     "output_type": "execute_result"
    }
   ],
   "source": [
    "cars['Fuel'].unique()"
   ]
  },
  {
   "cell_type": "code",
   "execution_count": 66,
   "id": "7d088c7d",
   "metadata": {},
   "outputs": [
    {
     "data": {
      "image/png": "[encoded data removed]",
      "text/plain": [
       "<Figure size 1080x1080 with 2 Axes>"
      ]
     },
     "metadata": {
      "needs_background": "light"
     },
     "output_type": "display_data"
    }
   ],
   "source": [
    "plt.figure(figsize= [15,15])\n",
    "plt.subplot(221)\n",
    "sns.countplot(cars['Fuel'])\n",
    "plt.xlabel('Fuel')\n",
    "plt.xticks(rotation= 90)\n",
    "plt.subplot(222)\n",
    "sns.scatterplot(x= 'Fuel', y= 'Price', data= cars)\n",
    "plt.xlabel('Fuel')\n",
    "plt.xticks(rotation= 90)\n",
    "plt.ylabel('Price')\n",
    "plt.show()"
   ]
  },
  {
   "cell_type": "markdown",
   "id": "4ac07fd0",
   "metadata": {},
   "source": [
    "5. Driven Kilometers"
   ]
  },
  {
   "cell_type": "code",
   "execution_count": 67,
   "id": "c69ecd0c",
   "metadata": {},
   "outputs": [
    {
     "data": {
      "text/plain": [
       "array(['86000.0 KM', '50500.0 KM', '144000.0 KM', ..., '13,465 km',\n",
       "       '17,916 km', '26,166 km'], dtype=object)"
      ]
     },
     "execution_count": 67,
     "metadata": {},
     "output_type": "execute_result"
    }
   ],
   "source": [
    "cars['Driven Kilometers'].unique()"
   ]
  },
  {
   "cell_type": "code",
   "execution_count": 68,
   "id": "78a4514b",
   "metadata": {},
   "outputs": [],
   "source": [
    "cars['Driven Kilometers'] = cars['Driven Kilometers'].replace(['-'],[np.nan])"
   ]
  },
  {
   "cell_type": "code",
   "execution_count": 69,
   "id": "1b91a0d1",
   "metadata": {},
   "outputs": [
    {
     "data": {
      "text/plain": [
       "30"
      ]
     },
     "execution_count": 69,
     "metadata": {},
     "output_type": "execute_result"
    }
   ],
   "source": [
    "cars['Driven Kilometers'].isnull().sum()"
   ]
  },
  {
   "cell_type": "code",
   "execution_count": 70,
   "id": "be7e6fa0",
   "metadata": {},
   "outputs": [],
   "source": [
    "cars['Driven Kilometers'] = cars['Driven Kilometers'].fillna(method= 'bfill')"
   ]
  },
  {
   "cell_type": "code",
   "execution_count": 71,
   "id": "8d813f14",
   "metadata": {},
   "outputs": [
    {
     "data": {
      "text/plain": [
       "0"
      ]
     },
     "execution_count": 71,
     "metadata": {},
     "output_type": "execute_result"
    }
   ],
   "source": [
    "cars['Driven Kilometers'].isnull().sum()"
   ]
  },
  {
   "cell_type": "code",
   "execution_count": 72,
   "id": "967ead6f",
   "metadata": {},
   "outputs": [],
   "source": [
    "a = []\n",
    "for i in cars['Driven Kilometers']:\n",
    "    i = i[:-3]\n",
    "    a.append(i)"
   ]
  },
  {
   "cell_type": "code",
   "execution_count": 73,
   "id": "d4b8c107",
   "metadata": {},
   "outputs": [],
   "source": [
    "cars['Driven Kilometers'] = pd.Series(a)"
   ]
  },
  {
   "cell_type": "code",
   "execution_count": 74,
   "id": "0efe23bc",
   "metadata": {},
   "outputs": [],
   "source": [
    "cars['Driven Kilometers'] = cars['Driven Kilometers'].str.replace(',','')"
   ]
  },
  {
   "cell_type": "code",
   "execution_count": 75,
   "id": "d67350b5",
   "metadata": {},
   "outputs": [],
   "source": [
    "cars['Driven Kilometers'] = cars['Driven Kilometers'].replace(['--'], np.nan)"
   ]
  },
  {
   "cell_type": "code",
   "execution_count": 76,
   "id": "2e67384d",
   "metadata": {},
   "outputs": [
    {
     "data": {
      "text/plain": [
       "1"
      ]
     },
     "execution_count": 76,
     "metadata": {},
     "output_type": "execute_result"
    }
   ],
   "source": [
    "cars['Driven Kilometers'].isnull().sum()"
   ]
  },
  {
   "cell_type": "code",
   "execution_count": 77,
   "id": "4c115450",
   "metadata": {},
   "outputs": [],
   "source": [
    "cars['Driven Kilometers'] = cars['Driven Kilometers'].fillna(method= 'bfill')"
   ]
  },
  {
   "cell_type": "code",
   "execution_count": 78,
   "id": "38dc55ec",
   "metadata": {},
   "outputs": [
    {
     "data": {
      "text/plain": [
       "0"
      ]
     },
     "execution_count": 78,
     "metadata": {},
     "output_type": "execute_result"
    }
   ],
   "source": [
    "cars['Driven Kilometers'].isnull().sum()"
   ]
  },
  {
   "cell_type": "code",
   "execution_count": 79,
   "id": "69ecd336",
   "metadata": {},
   "outputs": [],
   "source": [
    "cars['Driven Kilometers'] = pd.to_numeric(cars['Driven Kilometers'])"
   ]
  },
  {
   "cell_type": "code",
   "execution_count": 80,
   "id": "fdde414e",
   "metadata": {},
   "outputs": [
    {
     "data": {
      "image/png": "[encoded data removed]",
      "text/plain": [
       "<Figure size 1080x1080 with 2 Axes>"
      ]
     },
     "metadata": {
      "needs_background": "light"
     },
     "output_type": "display_data"
    }
   ],
   "source": [
    "plt.figure(figsize= [15,15])\n",
    "plt.subplot(221)\n",
    "sns.distplot(cars['Driven Kilometers'])\n",
    "plt.xlabel('Driven Kilometers')\n",
    "plt.xticks(rotation= 90)\n",
    "plt.subplot(222)\n",
    "sns.scatterplot(x= 'Driven Kilometers', y= 'Price', data= cars)\n",
    "plt.xlabel('Driven Kilometers')\n",
    "plt.xticks(rotation= 90)\n",
    "plt.ylabel('Price')\n",
    "plt.show()"
   ]
  },
  {
   "cell_type": "markdown",
   "id": "c950b17f",
   "metadata": {},
   "source": [
    "6. Owner"
   ]
  },
  {
   "cell_type": "code",
   "execution_count": 81,
   "id": "0b3782f5",
   "metadata": {},
   "outputs": [
    {
     "data": {
      "text/plain": [
       "array(['Owner\\n2nd', 'Owner\\n1st', 'Owner\\nFirst', 'Owner\\nSecond',\n",
       "       'Owner\\n3rd', '-', 'Owner\\n4th', 'Owner\\n--', 'Owner\\nThird',\n",
       "       'Owner\\nFourth', '2nd Owner', '1st Owner', '3rd Owner',\n",
       "       '4th Owner'], dtype=object)"
      ]
     },
     "execution_count": 81,
     "metadata": {},
     "output_type": "execute_result"
    }
   ],
   "source": [
    "cars['Owner'].unique()"
   ]
  },
  {
   "cell_type": "code",
   "execution_count": 82,
   "id": "eade583c",
   "metadata": {},
   "outputs": [],
   "source": [
    "cars['Owner'] = cars['Owner'].replace(['-','Owner\\n--'],[np.nan, np.nan])"
   ]
  },
  {
   "cell_type": "code",
   "execution_count": 83,
   "id": "728e239e",
   "metadata": {},
   "outputs": [
    {
     "data": {
      "text/plain": [
       "33"
      ]
     },
     "execution_count": 83,
     "metadata": {},
     "output_type": "execute_result"
    }
   ],
   "source": [
    "cars['Owner'].isnull().sum()"
   ]
  },
  {
   "cell_type": "code",
   "execution_count": 84,
   "id": "e6337bba",
   "metadata": {},
   "outputs": [],
   "source": [
    "cars['Owner'] = cars['Owner'].fillna(method= 'bfill')"
   ]
  },
  {
   "cell_type": "code",
   "execution_count": 85,
   "id": "a8adeede",
   "metadata": {},
   "outputs": [
    {
     "data": {
      "text/plain": [
       "0"
      ]
     },
     "execution_count": 85,
     "metadata": {},
     "output_type": "execute_result"
    }
   ],
   "source": [
    "cars['Owner'].isnull().sum()"
   ]
  },
  {
   "cell_type": "code",
   "execution_count": 86,
   "id": "91fcd350",
   "metadata": {},
   "outputs": [
    {
     "data": {
      "text/plain": [
       "array(['Owner\\n2nd', 'Owner\\n1st', 'Owner\\nFirst', 'Owner\\nSecond',\n",
       "       'Owner\\n3rd', 'Owner\\n4th', 'Owner\\nThird', 'Owner\\nFourth',\n",
       "       '2nd Owner', '1st Owner', '3rd Owner', '4th Owner'], dtype=object)"
      ]
     },
     "execution_count": 86,
     "metadata": {},
     "output_type": "execute_result"
    }
   ],
   "source": [
    "cars['Owner'].unique()"
   ]
  },
  {
   "cell_type": "code",
   "execution_count": 87,
   "id": "b7a532da",
   "metadata": {},
   "outputs": [],
   "source": [
    "cars['Owner'] = cars['Owner'].replace(['Owner\\n2nd', 'Owner\\n1st', 'Owner\\nFirst', 'Owner\\nSecond',\n",
    "                                       'Owner\\n3rd', 'Owner\\n4th', 'Owner\\nThird', 'Owner\\nFourth',\n",
    "                                       '2nd Owner', '1st Owner', '3rd Owner', '4th Owner'],[2,1,1,2,3,4,3,4,2,1,3,4])"
   ]
  },
  {
   "cell_type": "code",
   "execution_count": 88,
   "id": "9148c373",
   "metadata": {},
   "outputs": [
    {
     "data": {
      "text/plain": [
       "array([2, 1, 3, 4], dtype=int64)"
      ]
     },
     "execution_count": 88,
     "metadata": {},
     "output_type": "execute_result"
    }
   ],
   "source": [
    "cars['Owner'].unique()"
   ]
  },
  {
   "cell_type": "code",
   "execution_count": 89,
   "id": "934f5b2b",
   "metadata": {},
   "outputs": [
    {
     "data": {
      "image/png": "[encoded data removed]",
      "text/plain": [
       "<Figure size 1080x1080 with 2 Axes>"
      ]
     },
     "metadata": {
      "needs_background": "light"
     },
     "output_type": "display_data"
    }
   ],
   "source": [
    "plt.figure(figsize= [15,15])\n",
    "plt.subplot(221)\n",
    "sns.countplot(cars['Owner'])\n",
    "plt.xlabel('Owner')\n",
    "plt.xticks(rotation= 90)\n",
    "plt.subplot(222)\n",
    "sns.scatterplot(x= 'Owner', y= 'Price', data= cars)\n",
    "plt.xlabel('Owner')\n",
    "plt.xticks(rotation= 90)\n",
    "plt.ylabel('Price')\n",
    "plt.show()"
   ]
  },
  {
   "cell_type": "markdown",
   "id": "af35dc30",
   "metadata": {},
   "source": [
    "7. Locations"
   ]
  },
  {
   "cell_type": "code",
   "execution_count": 90,
   "id": "d4d6f181",
   "metadata": {},
   "outputs": [
    {
     "data": {
      "text/plain": [
       "array(['Location\\nAnant Nagar, Nagpur',\n",
       "       'Location\\nJubilee Hills, Hyderabad',\n",
       "       'Location\\nRS Puram, Coimbatore',\n",
       "       'Location\\nDr Mukherjee Nagar, Delhi',\n",
       "       'Location\\nSector 74, Noida', 'Location\\nKamakshipalya, Bengaluru',\n",
       "       'Location\\nChitaipur, Varanasi', 'Location\\nSEVOKE ROAD, Siliguri',\n",
       "       '-', 'Location\\nNTPC Township, Haripad',\n",
       "       'Location\\nVijaya Nagar Colony, Hyderabad',\n",
       "       'Location\\nJuhi, Kanpur', 'Location\\nGomti Nagar, Lucknow',\n",
       "       'Location\\nMIDC, Ahmadnagar', 'Location\\nOyoor, Kollam',\n",
       "       'Location\\nMajathia Enclave, Patiala',\n",
       "       'Location\\nSector 128, Noida',\n",
       "       'Location\\nCheenivila, Kanjiramkulam',\n",
       "       'Location\\nAnand Vihar, Delhi', 'Location\\nViman Nagar, Pune',\n",
       "       'Location\\nPWD Colony, Jodhpur',\n",
       "       'Location\\nBhangel, Greater Noida', 'Location\\nMira Road, Mumbai',\n",
       "       'Location\\nPattambi, Palakkad', 'Location\\nSector 18D, Chandigarh',\n",
       "       'Location\\nRohini Sector 7, Delhi', 'Location\\nSherpur, Maghar',\n",
       "       'Location\\nPimpri Chinchwad, Pune',\n",
       "       'Location\\nJamia Nagar, Ranchi',\n",
       "       'Location\\nAdityapur Industrial Area Phase 6, Jamshedpur',\n",
       "       'Location\\nAkhra, Bhilai',\n",
       "       'Location\\nMaduravoyal VGP Amudha Nagar, Chennai',\n",
       "       'Location\\nShyam Nagar, Raipur',\n",
       "       'Location\\nUniversity Area North Campus, Delhi',\n",
       "       'Location\\nRajouri Garden, Delhi',\n",
       "       'Location\\nChittaranjan Park, Delhi',\n",
       "       'Location\\nVCV Layout, Coimbatore',\n",
       "       'Location\\nAkasha Village, Anand', 'Location\\nDadri Road, Noida',\n",
       "       'Location\\nTarapur Colony, Jaunpur',\n",
       "       'Location\\nCV Raman Nagar, Bengaluru',\n",
       "       'Location\\nKhatodara Colony, Surat', 'Location\\nSuncity, Gurgaon',\n",
       "       'Location\\nErnakulam, Kochi', 'Location\\nBelthangadi, Beltangadi',\n",
       "       'Location\\nNagla Kanch, Rati Ka Nagla Industrial Area',\n",
       "       'Location\\nPalarivattom, Kochi',\n",
       "       'Location\\nShivaji Nagar, Belagavi',\n",
       "       'Location\\nMadhukarnagar, Pusad',\n",
       "       'Location\\nKhaza Khadri Colony, Kalaburagi',\n",
       "       'Location\\nChelamattom, Perumbavoor',\n",
       "       'Location\\nSHAKAMBARI NAGAR, Bengaluru',\n",
       "       'Location\\nSector 19, Panchkula', 'Location\\nAttapur, Hyderabad',\n",
       "       'Location\\nVasai East, Mumbai', 'Location\\nJayanagar, Bengaluru',\n",
       "       'Location\\nKailash Nagar, Mumbai', 'Location\\nSector 59, Gurgaon',\n",
       "       'Location\\nPuttur, Palakkad',\n",
       "       'Location\\nPennakonam South, Labbaikudikadu',\n",
       "       'Location\\nJ Sector Rahul Tiwari Colony, Bhilwara',\n",
       "       'Location\\nNannookkad, Pathanamthitta',\n",
       "       'Location\\nCIDCO, Aurangabad', 'Location\\nGiri Nagar, Bengaluru',\n",
       "       'Location\\nGujarat Housing Board, Amreli',\n",
       "       'Location\\nShakarpur, Delhi', 'Location\\nSinghpura, Kurali',\n",
       "       'Location\\nKandhla, Kairana', 'Location\\nAdajan, Surat',\n",
       "       'Location\\nKannan, Kuchanur',\n",
       "       'Location\\nGKNM Hospital, Coimbatore',\n",
       "       'Location\\nVikaspuri, Delhi', 'Location\\nDadahu, Renuka',\n",
       "       'Location\\nFort, Mumbai', 'Location\\nDahisar West, Mumbai',\n",
       "       'Location\\nKarmayogi Nagar, Nashik',\n",
       "       'Location\\nAreekad, Kozhikode', 'Location\\nECIL, Hyderabad',\n",
       "       'Location\\nVenkateswara Nagar, Rajahmundry',\n",
       "       'Location\\nMongam, Malappuram',\n",
       "       'Location\\nSahadatpura, Maunath Bhanjan',\n",
       "       'Location\\nNagole, Hyderabad', 'Location\\nMount Road, Chennai',\n",
       "       'Location\\nKoduvally, Kozhikode',\n",
       "       'Location\\nSatkartar Nagar, Ludhiana',\n",
       "       'Location\\nPapakkad, Kizhuparamba', 'Location\\nKishore Pura, Kota',\n",
       "       'Location\\nGreen Park, Delhi',\n",
       "       'Location\\nKunjapuri Vihar, Dehradun', 'Location\\nSewri, Mumbai',\n",
       "       'Location\\nJamia Nagar, Delhi', 'Location\\nBallabhgarh, Faridabad',\n",
       "       'Location\\nKarkar Duma, Delhi',\n",
       "       'Location\\nAmarvila, Neyyattinkara',\n",
       "       'Location\\nBaner - Mahalunge Road, Pune',\n",
       "       'Location\\nChilla, Allahabad', 'Location\\nBadalpur, Greater Noida',\n",
       "       'Location\\nTeynampet Thiru Vika Kudiyiruppu, Chennai',\n",
       "       'Location\\nAlipura, Saharanpur',\n",
       "       'Location\\nGulab Bagh Pomposh Colony Zoon B, Srinagar',\n",
       "       'Location\\nSouth Amolapatty, Dibrugarh',\n",
       "       'Location\\nKarol Bagh, Delhi',\n",
       "       'Location\\nSultan Palaya, Bengaluru',\n",
       "       'Location\\nKuloor, Mangaluru',\n",
       "       'Location\\nKatraj Kondhwa Road, Pune', 'Location\\nSamalkha, Delhi',\n",
       "       'Location\\nPal Nagar, Karnal', 'Location\\nGandhi Nagar, Agra',\n",
       "       'Location\\nGhatkopar West, Mumbai',\n",
       "       'Location\\nMahesh Nagar, Ambala',\n",
       "       'Location\\nSundararaj Nagar, Tiruchirappalli',\n",
       "       'Location\\nMaraimalai Nagar, Singaperumalkoil',\n",
       "       'Location\\nSatya Vihar, Bhubaneshwar',\n",
       "       'Location\\nHoyelkev, Chemancheri',\n",
       "       'Location\\nNew Hari Enclave, Kharar',\n",
       "       'Location\\nShehanshah Chowk, Nagpur',\n",
       "       'Location\\nKhushalpur, Moradabad',\n",
       "       'Location\\nJust Relax Circle, Kolhapur',\n",
       "       'Location\\nNew Mandi, Muzaffarnagar',\n",
       "       'Location\\nSector 9, Faridabad', 'Location\\nMulund East, Mumbai',\n",
       "       'Location\\nAndheri West, Mumbai', 'Location\\nChhani, Vadodara',\n",
       "       'Location\\nGachibowli, Hyderabad',\n",
       "       'Location\\nShankar Nagar, Salem', 'Location\\nVirar West, Mumbai',\n",
       "       'Location\\nG T B Nagar, Mumbai',\n",
       "       'Location\\nDLF City Phase 2, Gurgaon',\n",
       "       'Location\\nRTC Colony, Hyderabad',\n",
       "       'Location\\nLajpat Nagar 1, Delhi', 'Location\\nNehru Road, Mumbai',\n",
       "       'Location\\nVidya Nagar, Bid', 'Location\\nBalkampet, Hyderabad',\n",
       "       'Location\\nBhande Chowk, Nagpur', 'Location\\nLulla Nagar, Pune',\n",
       "       'Location\\nKhatyari, Almora', 'Location\\nPalam, Delhi',\n",
       "       'Location\\nKalali, Vadodara',\n",
       "       'Location\\nIndustrial Area, Chandigarh',\n",
       "       'Location\\nSector 35, Noida', 'Location\\nSoura, Srinagar',\n",
       "       'Location\\nRohini Sector 16, Delhi',\n",
       "       'Location\\nElectronic City Phase I, Bengaluru',\n",
       "       'Location\\nAvinash Residential Complex, Coimbatore',\n",
       "       'Location\\nAshok Vihar, Delhi', 'Location\\nKanakia Road, Mumbai',\n",
       "       'Location\\nPeelamedu, Coimbatore',\n",
       "       'Location\\nGurunanak Nagar, Gwalior',\n",
       "       'Location\\nVashi, Navi Mumbai',\n",
       "       'Location\\nGurrappagari Palli, Rayachoti',\n",
       "       'Location\\nMadhapur, Hyderabad', 'Location\\nSG Highway, Ahmedabad',\n",
       "       'Location\\nSarabha Nagar, Ludhiana',\n",
       "       'Location\\nSector 39, Gurgaon', 'Location\\nJagdish Colony, Rohtak',\n",
       "       'Location\\nTupudana, Ranchi', 'Location\\nTUDA Layout, Tumakuru',\n",
       "       'Location\\nUrapakkam, Chennai', 'Location\\nCity Enclave, Jagraon',\n",
       "       'Location\\nMuttathara, Thiruvananthapuram',\n",
       "       'Location\\nAgrasen Chowk, Surajpur',\n",
       "       'Location\\nPatrakar Colony, Vadodara',\n",
       "       'Location\\nMasandam Nagar, Vellore',\n",
       "       'Location\\nMasarahalli, Bhadravati', 'Location\\nKottiyam, Kollam',\n",
       "       'Location\\nDadpur Govindpur, Bahadarabad',\n",
       "       'ILD Trade Centre, GF 11, Sohna Rd, Sector 47, Gurugram, Haryana|',\n",
       "       'Khasra No-305,Dera More Fatehpur Beri,Near CNG Pump|',\n",
       "       'Shop No.1LGF EDM Mall Kaushambi|',\n",
       "       'Vardhman Premium Mall, Outer Ring Road, Pitampura, New Delhi|',\n",
       "       'Behind Botanical Garden Metro Station , Multilevel Parking 1st Floor , Sec 37 , Noida.201303|',\n",
       "       'Ghitorni Metro Station Parking|',\n",
       "       '1st Floor, Multilevel Parking, Behind Botanical Garden Metro Station, Sector 37, Noida - 201303|',\n",
       "       'Ground Floor, MCGM Parking, The Address Wadhwa, Opp R-City Mall, Ghatkopar West, Mumbai|',\n",
       "       'Ground Floor, MCGM Parking, Lodha Fiorenza, Adjacent Hub Mall, Goregaon East, Mumbai|',\n",
       "       'Garuda Mall, Magrath Rd, Ashok Nagar, Bengaluru, Karnataka - 560025|',\n",
       "       'Sri Shivananda Stores, HSR Layout - Bookmycrackers, Mangammanapalya Main Road, ITI Layout, Hosapalay|',\n",
       "       'MFC Yard, Near Life Point Hospital, Next To Wakad Bridge, Near Shankar Kalat Nagar, Waghmare Chowk,|',\n",
       "       'Serve No 40/AA 48/AA 49/AA Attapur To Nandimusliaguda Link Road Bharat Nagar Colony|Backside Attapur, Hyderabad',\n",
       "       'Plot No. E/1-A, Poddar Circle, Near Crown Plaza, Sitapura Industrial Area, Jaipur, Rajasthan|',\n",
       "       'DELHI', 'FARIDABAD', 'NOIDA', 'MUMBAI', 'PUNE', 'CHENNAI',\n",
       "       'BENGALURU'], dtype=object)"
      ]
     },
     "execution_count": 90,
     "metadata": {},
     "output_type": "execute_result"
    }
   ],
   "source": [
    "cars['Location'].unique()"
   ]
  },
  {
   "cell_type": "code",
   "execution_count": 91,
   "id": "5888baf6",
   "metadata": {},
   "outputs": [],
   "source": [
    "cars['Location'] = cars['Location'].str.replace('Location\\n','')"
   ]
  },
  {
   "cell_type": "code",
   "execution_count": 92,
   "id": "12403240",
   "metadata": {},
   "outputs": [],
   "source": [
    "cars['Location'] = cars['Location'].replace(['-'], np.nan)"
   ]
  },
  {
   "cell_type": "code",
   "execution_count": 93,
   "id": "0132882d",
   "metadata": {},
   "outputs": [
    {
     "data": {
      "text/plain": [
       "30"
      ]
     },
     "execution_count": 93,
     "metadata": {},
     "output_type": "execute_result"
    }
   ],
   "source": [
    "cars['Location'].isnull().sum()"
   ]
  },
  {
   "cell_type": "code",
   "execution_count": 94,
   "id": "c863ab47",
   "metadata": {},
   "outputs": [],
   "source": [
    "cars['Location'] = cars['Location'].fillna(method= 'bfill')"
   ]
  },
  {
   "cell_type": "code",
   "execution_count": 95,
   "id": "ef83cc14",
   "metadata": {},
   "outputs": [],
   "source": [
    "a = []\n",
    "for i in cars['Location']:\n",
    "    i = i[0]\n",
    "    a.append(i)"
   ]
  },
  {
   "cell_type": "code",
   "execution_count": 96,
   "id": "383a4b37",
   "metadata": {},
   "outputs": [],
   "source": [
    "cars['Location'] = pd.Series(a)"
   ]
  },
  {
   "cell_type": "code",
   "execution_count": 97,
   "id": "60f0da54",
   "metadata": {},
   "outputs": [
    {
     "data": {
      "text/plain": [
       "array(['A', 'J', 'R', 'D', 'S', 'K', 'C', 'N', 'V', 'G', 'M', 'O', 'P',\n",
       "       'B', 'U', 'T', 'E', 'F', 'H', 'L', 'I', '1'], dtype=object)"
      ]
     },
     "execution_count": 97,
     "metadata": {},
     "output_type": "execute_result"
    }
   ],
   "source": [
    "cars['Location'].unique()"
   ]
  },
  {
   "cell_type": "code",
   "execution_count": 98,
   "id": "8bb5f8c3",
   "metadata": {},
   "outputs": [
    {
     "data": {
      "image/png": "[encoded data removed]",
      "text/plain": [
       "<Figure size 1080x1080 with 2 Axes>"
      ]
     },
     "metadata": {
      "needs_background": "light"
     },
     "output_type": "display_data"
    }
   ],
   "source": [
    "plt.figure(figsize= [15,15])\n",
    "plt.subplot(221)\n",
    "sns.countplot(cars['Location'])\n",
    "plt.xlabel('Location')\n",
    "plt.xticks(rotation= 90)\n",
    "plt.subplot(222)\n",
    "sns.scatterplot(x= 'Location', y= 'Price', data= cars)\n",
    "plt.xlabel('Location')\n",
    "plt.xticks(rotation= 90)\n",
    "plt.ylabel('Price')\n",
    "plt.show()"
   ]
  },
  {
   "cell_type": "code",
   "execution_count": 99,
   "id": "5284bb2a",
   "metadata": {},
   "outputs": [
    {
     "name": "stdout",
     "output_type": "stream",
     "text": [
      "<class 'pandas.core.frame.DataFrame'>\n",
      "RangeIndex: 5047 entries, 0 to 5046\n",
      "Data columns (total 8 columns):\n",
      " #   Column             Non-Null Count  Dtype  \n",
      "---  ------             --------------  -----  \n",
      " 0   Brand              5047 non-null   object \n",
      " 1   Model              5047 non-null   object \n",
      " 2   Year               5047 non-null   float64\n",
      " 3   Fuel               5047 non-null   object \n",
      " 4   Driven Kilometers  5047 non-null   float64\n",
      " 5   Owner              5047 non-null   int64  \n",
      " 6   Location           5047 non-null   object \n",
      " 7   Price              5047 non-null   int64  \n",
      "dtypes: float64(2), int64(2), object(4)\n",
      "memory usage: 315.6+ KB\n"
     ]
    }
   ],
   "source": [
    "cars.info()"
   ]
  },
  {
   "cell_type": "code",
   "execution_count": 100,
   "id": "916db7e9",
   "metadata": {},
   "outputs": [
    {
     "data": {
      "text/plain": [
       "array(['S', 'A', 'B', 'R', 'C', 'H', 'M', 'T', 'F', 'V', 'J', 'N', 'D',\n",
       "       'E', 'K'], dtype=object)"
      ]
     },
     "execution_count": 100,
     "metadata": {},
     "output_type": "execute_result"
    }
   ],
   "source": [
    "cars['Brand'].unique()"
   ]
  },
  {
   "cell_type": "code",
   "execution_count": 101,
   "id": "647ad885",
   "metadata": {},
   "outputs": [],
   "source": [
    "cars['Brand'] = cars['Brand'].replace(['S', 'A', 'B', 'R', 'C', 'H', 'M', 'T', 'F', 'V', 'J', 'N', 'D','E', 'K'],\n",
    "                                       np.arange(0,15))"
   ]
  },
  {
   "cell_type": "code",
   "execution_count": 102,
   "id": "020176b6",
   "metadata": {},
   "outputs": [
    {
     "data": {
      "text/plain": [
       "array(['F', 'S', 'T', 'L', 'I', 'A', 'C', 'R', 'E', 'U', 'O', 'J', 'B',\n",
       "       'N', 'D', 'W', 'V', 'G', 'X', 'M', 'K', 'Y', 'P', 'H', 'Z'],\n",
       "      dtype=object)"
      ]
     },
     "execution_count": 102,
     "metadata": {},
     "output_type": "execute_result"
    }
   ],
   "source": [
    "cars['Model'].unique()"
   ]
  },
  {
   "cell_type": "code",
   "execution_count": 103,
   "id": "29d8a255",
   "metadata": {},
   "outputs": [],
   "source": [
    "cars['Model'] = cars['Model'].replace(['F', 'S', 'T', 'L', 'I', 'A', 'C', 'R', 'E', 'U', 'O', 'J', 'B',\n",
    "                                       'N', 'D', 'W', 'V', 'G', 'X', 'M', 'K', 'Y', 'P', 'H', 'Z'], np.arange(0,25))"
   ]
  },
  {
   "cell_type": "code",
   "execution_count": 104,
   "id": "2a381804",
   "metadata": {},
   "outputs": [
    {
     "data": {
      "text/plain": [
       "array(['Petrol', 'Diesel', 'CNG', 'CNG & HYBRIDS', 'LPG', 'Petrol + CNG',\n",
       "       'Petrol + LPG'], dtype=object)"
      ]
     },
     "execution_count": 104,
     "metadata": {},
     "output_type": "execute_result"
    }
   ],
   "source": [
    "cars['Fuel'].unique()"
   ]
  },
  {
   "cell_type": "code",
   "execution_count": 105,
   "id": "cd71e956",
   "metadata": {},
   "outputs": [],
   "source": [
    "cars['Fuel'] = cars['Fuel'].replace(['Petrol', 'Diesel', 'CNG', 'CNG & HYBRIDS', 'LPG', 'Petrol + CNG',\n",
    "                                     'Petrol + LPG'],np.arange(0,7))"
   ]
  },
  {
   "cell_type": "code",
   "execution_count": 106,
   "id": "69f853d7",
   "metadata": {},
   "outputs": [
    {
     "data": {
      "text/plain": [
       "array(['A', 'J', 'R', 'D', 'S', 'K', 'C', 'N', 'V', 'G', 'M', 'O', 'P',\n",
       "       'B', 'U', 'T', 'E', 'F', 'H', 'L', 'I', '1'], dtype=object)"
      ]
     },
     "execution_count": 106,
     "metadata": {},
     "output_type": "execute_result"
    }
   ],
   "source": [
    "cars['Location'].unique()"
   ]
  },
  {
   "cell_type": "code",
   "execution_count": 107,
   "id": "47f26f73",
   "metadata": {},
   "outputs": [],
   "source": [
    "cars['Location'] = cars['Location'].replace(['A', 'J', 'R', 'D', 'S', 'K', 'C', 'N', 'V', 'G', 'M', 'O', 'P',\n",
    "                                             'B', 'U', 'T', 'E', 'F', 'H', 'L', 'I', '1'],np.arange(0,22))"
   ]
  },
  {
   "cell_type": "code",
   "execution_count": 108,
   "id": "7dc117a1",
   "metadata": {},
   "outputs": [
    {
     "name": "stdout",
     "output_type": "stream",
     "text": [
      "<class 'pandas.core.frame.DataFrame'>\n",
      "RangeIndex: 5047 entries, 0 to 5046\n",
      "Data columns (total 8 columns):\n",
      " #   Column             Non-Null Count  Dtype  \n",
      "---  ------             --------------  -----  \n",
      " 0   Brand              5047 non-null   int32  \n",
      " 1   Model              5047 non-null   int32  \n",
      " 2   Year               5047 non-null   float64\n",
      " 3   Fuel               5047 non-null   int32  \n",
      " 4   Driven Kilometers  5047 non-null   float64\n",
      " 5   Owner              5047 non-null   int64  \n",
      " 6   Location           5047 non-null   int32  \n",
      " 7   Price              5047 non-null   int64  \n",
      "dtypes: float64(2), int32(4), int64(2)\n",
      "memory usage: 236.7 KB\n"
     ]
    }
   ],
   "source": [
    "cars.info()"
   ]
  },
  {
   "cell_type": "code",
   "execution_count": 109,
   "id": "2fc0531e",
   "metadata": {},
   "outputs": [
    {
     "data": {
      "image/png": "[encoded data removed]",
      "text/plain": [
       "<Figure size 720x720 with 2 Axes>"
      ]
     },
     "metadata": {
      "needs_background": "light"
     },
     "output_type": "display_data"
    }
   ],
   "source": [
    "plt.figure(figsize= [10,10])\n",
    "sns.heatmap(cars.corr(), annot= True)\n",
    "plt.show()"
   ]
  },
  {
   "cell_type": "code",
   "execution_count": 110,
   "id": "1fd32ed6",
   "metadata": {},
   "outputs": [],
   "source": [
    "cars.drop(['Brand'], axis= 1, inplace= True)"
   ]
  },
  {
   "cell_type": "code",
   "execution_count": 111,
   "id": "e8efbc14",
   "metadata": {},
   "outputs": [],
   "source": [
    "X = cars.drop(['Price'], axis= 1)\n",
    "y = cars['Price']"
   ]
  },
  {
   "cell_type": "code",
   "execution_count": 112,
   "id": "99dc1481",
   "metadata": {},
   "outputs": [],
   "source": [
    "X_train, X_test, y_train, y_test = train_test_split(X, y, test_size= 0.25, random_state= 135)"
   ]
  },
  {
   "cell_type": "code",
   "execution_count": 113,
   "id": "ef1cc648",
   "metadata": {},
   "outputs": [],
   "source": [
    "scaler = StandardScaler()"
   ]
  },
  {
   "cell_type": "code",
   "execution_count": 114,
   "id": "5cd83b0d",
   "metadata": {},
   "outputs": [],
   "source": [
    "scaledX_train = scaler.fit_transform(X_train)\n",
    "scaledX_test = scaler.transform(X_test)"
   ]
  },
  {
   "cell_type": "markdown",
   "id": "7c07e13d",
   "metadata": {},
   "source": [
    "1. Linear Regression Model"
   ]
  },
  {
   "cell_type": "code",
   "execution_count": 115,
   "id": "fca16cb7",
   "metadata": {},
   "outputs": [],
   "source": [
    "lr = LinearRegression()\n",
    "lrf = GridSearchCV(lr, param_grid= {'n_jobs': [1,2,3,4,5]}, scoring= 'r2', cv= 5)"
   ]
  },
  {
   "cell_type": "code",
   "execution_count": 116,
   "id": "4558a919",
   "metadata": {},
   "outputs": [
    {
     "data": {
      "text/plain": [
       "GridSearchCV(cv=5, estimator=LinearRegression(),\n",
       "             param_grid={'n_jobs': [1, 2, 3, 4, 5]}, scoring='r2')"
      ]
     },
     "execution_count": 116,
     "metadata": {},
     "output_type": "execute_result"
    }
   ],
   "source": [
    "lrf.fit(scaledX_train, y_train)"
   ]
  },
  {
   "cell_type": "code",
   "execution_count": 117,
   "id": "c346f139",
   "metadata": {},
   "outputs": [
    {
     "data": {
      "text/plain": [
       "{'n_jobs': 1}"
      ]
     },
     "execution_count": 117,
     "metadata": {},
     "output_type": "execute_result"
    }
   ],
   "source": [
    "lrf.best_params_"
   ]
  },
  {
   "cell_type": "code",
   "execution_count": 118,
   "id": "07c46fed",
   "metadata": {},
   "outputs": [
    {
     "name": "stdout",
     "output_type": "stream",
     "text": [
      "Training Score :  0.18179496524778915\n",
      "Testing Score :  0.21046098869764385\n"
     ]
    }
   ],
   "source": [
    "print('Training Score : ', lrf.score(scaledX_train, y_train))\n",
    "print('Testing Score : ', lrf.score(scaledX_test, y_test))"
   ]
  },
  {
   "cell_type": "markdown",
   "id": "4f879db6",
   "metadata": {},
   "source": [
    "2. Decision Tree Regression Model"
   ]
  },
  {
   "cell_type": "code",
   "execution_count": 119,
   "id": "d17a2590",
   "metadata": {},
   "outputs": [],
   "source": [
    "dt = DecisionTreeRegressor()\n",
    "dtf = GridSearchCV(dt, param_grid= {'max_depth': [1,2,3,4,5], 'min_samples_split': [1,2,3,4,5], 'min_samples_leaf': [1,2,3,4,5]},\n",
    "                   scoring= 'r2', cv= 5)"
   ]
  },
  {
   "cell_type": "code",
   "execution_count": 120,
   "id": "f79bcf42",
   "metadata": {},
   "outputs": [
    {
     "data": {
      "text/plain": [
       "GridSearchCV(cv=5, estimator=DecisionTreeRegressor(),\n",
       "             param_grid={'max_depth': [1, 2, 3, 4, 5],\n",
       "                         'min_samples_leaf': [1, 2, 3, 4, 5],\n",
       "                         'min_samples_split': [1, 2, 3, 4, 5]},\n",
       "             scoring='r2')"
      ]
     },
     "execution_count": 120,
     "metadata": {},
     "output_type": "execute_result"
    }
   ],
   "source": [
    "dtf.fit(scaledX_train, y_train)"
   ]
  },
  {
   "cell_type": "code",
   "execution_count": 121,
   "id": "9b891231",
   "metadata": {},
   "outputs": [
    {
     "data": {
      "text/plain": [
       "{'max_depth': 5, 'min_samples_leaf': 3, 'min_samples_split': 2}"
      ]
     },
     "execution_count": 121,
     "metadata": {},
     "output_type": "execute_result"
    }
   ],
   "source": [
    "dtf.best_params_"
   ]
  },
  {
   "cell_type": "code",
   "execution_count": 122,
   "id": "339b254f",
   "metadata": {},
   "outputs": [
    {
     "name": "stdout",
     "output_type": "stream",
     "text": [
      "Training Score :  0.3232156914850228\n",
      "Testing Score :  0.31635778436691175\n"
     ]
    }
   ],
   "source": [
    "print('Training Score : ', dtf.score(scaledX_train, y_train))\n",
    "print('Testing Score : ', dtf.score(scaledX_test, y_test))"
   ]
  },
  {
   "cell_type": "code",
   "execution_count": 123,
   "id": "483eddff",
   "metadata": {},
   "outputs": [],
   "source": [
    "rf = RandomForestRegressor()\n",
    "rff = GridSearchCV(rf, param_grid= {'max_depth': [1,2,3,4,5], 'min_samples_split': [1,2,3,4,5], 'min_samples_leaf': [1,2,3,4,5]},\n",
    "                   scoring= 'r2', cv= 5)"
   ]
  },
  {
   "cell_type": "code",
   "execution_count": 124,
   "id": "e938ed8e",
   "metadata": {},
   "outputs": [
    {
     "data": {
      "text/plain": [
       "GridSearchCV(cv=5, estimator=RandomForestRegressor(),\n",
       "             param_grid={'max_depth': [1, 2, 3, 4, 5],\n",
       "                         'min_samples_leaf': [1, 2, 3, 4, 5],\n",
       "                         'min_samples_split': [1, 2, 3, 4, 5]},\n",
       "             scoring='r2')"
      ]
     },
     "execution_count": 124,
     "metadata": {},
     "output_type": "execute_result"
    }
   ],
   "source": [
    "rff.fit(scaledX_train, y_train)"
   ]
  },
  {
   "cell_type": "code",
   "execution_count": 125,
   "id": "3fbd2e62",
   "metadata": {},
   "outputs": [
    {
     "data": {
      "text/plain": [
       "{'max_depth': 5, 'min_samples_leaf': 1, 'min_samples_split': 5}"
      ]
     },
     "execution_count": 125,
     "metadata": {},
     "output_type": "execute_result"
    }
   ],
   "source": [
    "rff.best_params_"
   ]
  },
  {
   "cell_type": "code",
   "execution_count": 126,
   "id": "e7e5b54c",
   "metadata": {},
   "outputs": [
    {
     "name": "stdout",
     "output_type": "stream",
     "text": [
      "Training Score :  0.3621672439408222\n",
      "Testing Score :  0.33955193300791797\n"
     ]
    }
   ],
   "source": [
    "print('Training Score : ', rff.score(scaledX_train, y_train))\n",
    "print('Testing Score : ', rff.score(scaledX_test, y_test))"
   ]
  },
  {
   "cell_type": "markdown",
   "id": "c1bd3c78",
   "metadata": {},
   "source": [
    "4. Bagging Regression Model"
   ]
  },
  {
   "cell_type": "code",
   "execution_count": 127,
   "id": "6573fb79",
   "metadata": {},
   "outputs": [],
   "source": [
    "br = BaggingRegressor()\n",
    "brf = GridSearchCV(br, param_grid= {'max_samples': [1,2,3,4,5], 'max_features': [1,2,3,4,5]}, scoring= 'r2', cv= 5)"
   ]
  },
  {
   "cell_type": "code",
   "execution_count": 128,
   "id": "2d883dfb",
   "metadata": {},
   "outputs": [
    {
     "data": {
      "text/plain": [
       "GridSearchCV(cv=5, estimator=BaggingRegressor(),\n",
       "             param_grid={'max_features': [1, 2, 3, 4, 5],\n",
       "                         'max_samples': [1, 2, 3, 4, 5]},\n",
       "             scoring='r2')"
      ]
     },
     "execution_count": 128,
     "metadata": {},
     "output_type": "execute_result"
    }
   ],
   "source": [
    "brf.fit(scaledX_train, y_train)"
   ]
  },
  {
   "cell_type": "code",
   "execution_count": 129,
   "id": "6cac054d",
   "metadata": {},
   "outputs": [
    {
     "data": {
      "text/plain": [
       "{'max_features': 2, 'max_samples': 4}"
      ]
     },
     "execution_count": 129,
     "metadata": {},
     "output_type": "execute_result"
    }
   ],
   "source": [
    "brf.best_params_"
   ]
  },
  {
   "cell_type": "code",
   "execution_count": 130,
   "id": "8faa261e",
   "metadata": {},
   "outputs": [
    {
     "name": "stdout",
     "output_type": "stream",
     "text": [
      "Training Score :  -0.11128891995189893\n",
      "Testing Score :  -0.11384186377987637\n"
     ]
    }
   ],
   "source": [
    "print('Training Score : ', brf.score(scaledX_train, y_train))\n",
    "print('Testing Score : ', brf.score(scaledX_test, y_test))"
   ]
  },
  {
   "cell_type": "markdown",
   "id": "033f3d34",
   "metadata": {},
   "source": [
    "#### Selection of best model"
   ]
  },
  {
   "cell_type": "code",
   "execution_count": 131,
   "id": "fc4e1b96",
   "metadata": {},
   "outputs": [],
   "source": [
    "rf = RandomForestRegressor()"
   ]
  },
  {
   "cell_type": "code",
   "execution_count": 132,
   "id": "4a47d0d5",
   "metadata": {},
   "outputs": [],
   "source": [
    "pred = rf.fit(X_train, y_train).predict(X_test)"
   ]
  },
  {
   "cell_type": "code",
   "execution_count": 133,
   "id": "4e225bfc",
   "metadata": {},
   "outputs": [
    {
     "data": {
      "text/html": [
       "<div>\n",
       "<style scoped>\n",
       "    .dataframe tbody tr th:only-of-type {\n",
       "        vertical-align: middle;\n",
       "    }\n",
       "\n",
       "    .dataframe tbody tr th {\n",
       "        vertical-align: top;\n",
       "    }\n",
       "\n",
       "    .dataframe thead th {\n",
       "        text-align: right;\n",
       "    }\n",
       "</style>\n",
       "<table border=\"1\" class=\"dataframe\">\n",
       "  <thead>\n",
       "    <tr style=\"text-align: right;\">\n",
       "      <th></th>\n",
       "      <th>Actual</th>\n",
       "      <th>Prediction</th>\n",
       "    </tr>\n",
       "  </thead>\n",
       "  <tbody>\n",
       "    <tr>\n",
       "      <th>720</th>\n",
       "      <td>484000</td>\n",
       "      <td>544236.0</td>\n",
       "    </tr>\n",
       "    <tr>\n",
       "      <th>73</th>\n",
       "      <td>135000</td>\n",
       "      <td>174470.0</td>\n",
       "    </tr>\n",
       "    <tr>\n",
       "      <th>3523</th>\n",
       "      <td>353099</td>\n",
       "      <td>352301.0</td>\n",
       "    </tr>\n",
       "    <tr>\n",
       "      <th>2643</th>\n",
       "      <td>1075399</td>\n",
       "      <td>764316.0</td>\n",
       "    </tr>\n",
       "    <tr>\n",
       "      <th>2210</th>\n",
       "      <td>658499</td>\n",
       "      <td>691364.0</td>\n",
       "    </tr>\n",
       "  </tbody>\n",
       "</table>\n",
       "</div>"
      ],
      "text/plain": [
       "       Actual  Prediction\n",
       "720    484000    544236.0\n",
       "73     135000    174470.0\n",
       "3523   353099    352301.0\n",
       "2643  1075399    764316.0\n",
       "2210   658499    691364.0"
      ]
     },
     "execution_count": 133,
     "metadata": {},
     "output_type": "execute_result"
    }
   ],
   "source": [
    "df = pd.DataFrame({'Actual': y_test, 'Prediction': np.round(pred,0)})\n",
    "df.head()"
   ]
  },
  {
   "cell_type": "code",
   "execution_count": 134,
   "id": "467653d9",
   "metadata": {},
   "outputs": [
    {
     "name": "stdout",
     "output_type": "stream",
     "text": [
      "r2 score :  0.44304544318483885\n"
     ]
    }
   ],
   "source": [
    "print('r2 score : ',metrics.r2_score(y_test, pred))"
   ]
  },
  {
   "cell_type": "code",
   "execution_count": 135,
   "id": "11d6cc0b",
   "metadata": {},
   "outputs": [
    {
     "name": "stdout",
     "output_type": "stream",
     "text": [
      "rmse score :  237229.23181199288\n"
     ]
    }
   ],
   "source": [
    "print('rmse score : ', np.sqrt(metrics.mean_squared_error(y_test, pred)))"
   ]
  },
  {
   "cell_type": "code",
   "execution_count": 136,
   "id": "a852ceef",
   "metadata": {},
   "outputs": [
    {
     "name": "stdout",
     "output_type": "stream",
     "text": [
      "mae score :  143524.34931061804\n"
     ]
    }
   ],
   "source": [
    "print('mae score : ', metrics.mean_absolute_error(y_test, pred))"
   ]
  },
  {
   "cell_type": "markdown",
   "id": "694f95c8",
   "metadata": {},
   "source": [
    "#### Saving model"
   ]
  },
  {
   "cell_type": "code",
   "execution_count": 137,
   "id": "a2895924",
   "metadata": {},
   "outputs": [],
   "source": [
    "save_m = pickle.dumps(rf)"
   ]
  }
 ],
 "metadata": {
  "kernelspec": {
   "display_name": "Python 3 (ipykernel)",
   "language": "python",
   "name": "python3"
  },
  "language_info": {
   "codemirror_mode": {
    "name": "ipython",
    "version": 3
   },
   "file_extension": ".py",
   "mimetype": "text/x-python",
   "name": "python",
   "nbconvert_exporter": "python",
   "pygments_lexer": "ipython3",
   "version": "3.9.7"
  }
 },
 "nbformat": 4,
 "nbformat_minor": 5
}
