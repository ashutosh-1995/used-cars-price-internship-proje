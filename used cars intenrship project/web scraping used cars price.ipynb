{
 "cells": [
  {
   "cell_type": "code",
   "execution_count": 1,
   "id": "b1d33a0d",
   "metadata": {},
   "outputs": [],
   "source": [
    "import numpy as np\n",
    "import pandas as pd\n",
    "import selenium\n",
    "import time\n",
    "from selenium import webdriver\n",
    "import warnings\n",
    "warnings.filterwarnings('ignore')"
   ]
  },
  {
   "cell_type": "code",
   "execution_count": 41,
   "id": "b26bcfee",
   "metadata": {},
   "outputs": [],
   "source": [
    "driver = webdriver.Chrome('C:/Users/dell/Downloads/chromedriver_win32 (1)/chromedriver.exe')"
   ]
  },
  {
   "cell_type": "code",
   "execution_count": 3,
   "id": "72c3783b",
   "metadata": {},
   "outputs": [],
   "source": [
    "driver.get('https://www.olx.in/items/q-car?isSearchCall=true')"
   ]
  },
  {
   "cell_type": "code",
   "execution_count": 4,
   "id": "870869a3",
   "metadata": {},
   "outputs": [],
   "source": [
    "url = []\n",
    "for i in driver.find_elements_by_xpath(\"//li[@class= 'EIR5N']/a\"):\n",
    "    url.append(i.get_attribute('href'))"
   ]
  },
  {
   "cell_type": "code",
   "execution_count": 6,
   "id": "95add867",
   "metadata": {},
   "outputs": [
    {
     "data": {
      "text/plain": [
       "196"
      ]
     },
     "execution_count": 6,
     "metadata": {},
     "output_type": "execute_result"
    }
   ],
   "source": [
    "len(url)"
   ]
  },
  {
   "cell_type": "code",
   "execution_count": 10,
   "id": "cbae398c",
   "metadata": {},
   "outputs": [],
   "source": [
    "name = []\n",
    "fuel = []\n",
    "kilo = []\n",
    "owner = []\n",
    "location = []\n",
    "price = []\n",
    "for j in url:\n",
    "    driver.get(j)\n",
    "    time.sleep(2)\n",
    "    try:\n",
    "        na = driver.find_element_by_xpath(\"//div[@class= '_35xN1']\")\n",
    "        name.append(na.text.replace(\"/n\",\"new line\"))\n",
    "    except:\n",
    "        name.append(\"-\")\n",
    "    \n",
    "    try:\n",
    "        fu = driver.find_element_by_xpath(\"//div[@class= 'aOxkz']/div[1]\")\n",
    "        fuel.append(fu.text.replace(\"/n\",\"new line\"))\n",
    "    except:\n",
    "        fuel.append(\"-\")\n",
    "        \n",
    "    try:\n",
    "        ki = driver.find_element_by_xpath(\"//div[@class= 'aOxkz']/div[2]\")\n",
    "        kilo.append(ki.text.replace(\"/n\",\"new line\"))\n",
    "    except:\n",
    "        kilo.append(\"-\")\n",
    "        \n",
    "    try:\n",
    "        ow = driver.find_element_by_xpath(\"//div[@class= '_1l939']/div[1]\")\n",
    "        owner.append(ow.text.replace(\"/n\",\"new line\"))\n",
    "    except:\n",
    "        owner.append(\"-\")\n",
    "        \n",
    "    try:\n",
    "        lo = driver.find_element_by_xpath(\"//div[@class= '_1l939']/div[2]\")\n",
    "        location.append(lo.text.replace(\"/n\",\"new line\"))\n",
    "    except:\n",
    "        location.append(\"-\")\n",
    "        \n",
    "    try:\n",
    "        pr = driver.find_element_by_xpath(\"//div[@class= '_3FkyT']\")\n",
    "        price.append(pr.text.replace(\"/n\",\"new line\"))\n",
    "    except:\n",
    "        price.append(\"-\")"
   ]
  },
  {
   "cell_type": "code",
   "execution_count": 17,
   "id": "2564183c",
   "metadata": {},
   "outputs": [
    {
     "data": {
      "text/plain": [
       "196"
      ]
     },
     "execution_count": 17,
     "metadata": {},
     "output_type": "execute_result"
    }
   ],
   "source": [
    "len(name)"
   ]
  },
  {
   "cell_type": "code",
   "execution_count": 18,
   "id": "200cf3af",
   "metadata": {},
   "outputs": [
    {
     "data": {
      "text/plain": [
       "196"
      ]
     },
     "execution_count": 18,
     "metadata": {},
     "output_type": "execute_result"
    }
   ],
   "source": [
    "len(fuel)"
   ]
  },
  {
   "cell_type": "code",
   "execution_count": 19,
   "id": "11585031",
   "metadata": {},
   "outputs": [
    {
     "data": {
      "text/plain": [
       "196"
      ]
     },
     "execution_count": 19,
     "metadata": {},
     "output_type": "execute_result"
    }
   ],
   "source": [
    "len(kilo)"
   ]
  },
  {
   "cell_type": "code",
   "execution_count": 20,
   "id": "0e7bcceb",
   "metadata": {},
   "outputs": [
    {
     "data": {
      "text/plain": [
       "196"
      ]
     },
     "execution_count": 20,
     "metadata": {},
     "output_type": "execute_result"
    }
   ],
   "source": [
    "len(owner)"
   ]
  },
  {
   "cell_type": "code",
   "execution_count": 21,
   "id": "64b3cdcb",
   "metadata": {},
   "outputs": [
    {
     "data": {
      "text/plain": [
       "196"
      ]
     },
     "execution_count": 21,
     "metadata": {},
     "output_type": "execute_result"
    }
   ],
   "source": [
    "len(location)"
   ]
  },
  {
   "cell_type": "code",
   "execution_count": 22,
   "id": "453c5c9c",
   "metadata": {},
   "outputs": [
    {
     "data": {
      "text/plain": [
       "196"
      ]
     },
     "execution_count": 22,
     "metadata": {},
     "output_type": "execute_result"
    }
   ],
   "source": [
    "len(price)"
   ]
  },
  {
   "cell_type": "code",
   "execution_count": 24,
   "id": "de016893",
   "metadata": {},
   "outputs": [],
   "source": [
    "brand = []\n",
    "model = []\n",
    "year = []\n",
    "for i in name:\n",
    "    i = i[:5]\n",
    "    brand.append(i)"
   ]
  },
  {
   "cell_type": "code",
   "execution_count": 37,
   "id": "66a78b3c",
   "metadata": {},
   "outputs": [
    {
     "data": {
      "text/plain": [
       "196"
      ]
     },
     "execution_count": 37,
     "metadata": {},
     "output_type": "execute_result"
    }
   ],
   "source": [
    "len(name)"
   ]
  },
  {
   "cell_type": "code",
   "execution_count": 27,
   "id": "4c5b32dc",
   "metadata": {},
   "outputs": [],
   "source": [
    "for i in name:\n",
    "    i = i[-5:-1]\n",
    "    year.append(i)"
   ]
  },
  {
   "cell_type": "code",
   "execution_count": 29,
   "id": "6d00d1a9",
   "metadata": {},
   "outputs": [],
   "source": [
    "for i in name:\n",
    "    i = i[6:-6]\n",
    "    model.append(i)"
   ]
  },
  {
   "cell_type": "code",
   "execution_count": 36,
   "id": "8afe3063",
   "metadata": {},
   "outputs": [
    {
     "data": {
      "text/plain": [
       "196"
      ]
     },
     "execution_count": 36,
     "metadata": {},
     "output_type": "execute_result"
    }
   ],
   "source": [
    "len(model)"
   ]
  },
  {
   "cell_type": "code",
   "execution_count": 31,
   "id": "55a5d8e4",
   "metadata": {},
   "outputs": [],
   "source": [
    "car1 = pd.DataFrame({'Brand': brand, 'Model': model, 'Year': year, 'Fuel': fuel, 'Driven Kilometers': kilo, 'Owner': owner,\n",
    "                    'Location': location, 'Price': price})"
   ]
  },
  {
   "cell_type": "code",
   "execution_count": 34,
   "id": "ef664aa5",
   "metadata": {},
   "outputs": [],
   "source": [
    "car1 = car1.to_csv('car1.csv')"
   ]
  },
  {
   "cell_type": "code",
   "execution_count": 3,
   "id": "cae2029f",
   "metadata": {},
   "outputs": [],
   "source": [
    "driver.get('https://www.cardekho.com/buy-used-cars+in+delhi-ncr?utm_campaign=UCR-Search-SaleCar-Delhi&utm_device=c&utm_term=car%20second%20hand%20for%20sale&network=g&utm_medium=cpc&utm_source=google&agid=131627860967&ap=&aoi=&ci=14858885652&cre=549875387676&fid=&lop=9061686&ma=p&mo=&pl=&ti=kwd-297652187221&gclid=Cj0KCQiAu62QBhC7ARIsALXijXTXwea0RL7h3_6tqo0wR8P7_buRBRRNCioEsaTMIMNWMW9TLYMsgFYaAijlEALw_wcB')"
   ]
  },
  {
   "cell_type": "code",
   "execution_count": 4,
   "id": "bb1e8bd1",
   "metadata": {},
   "outputs": [],
   "source": [
    "url = []\n",
    "for i in driver.find_elements_by_xpath(\"//div[@class= 'gsc_col-xs-6  carsName']/a\"):\n",
    "    url.append(i.get_attribute('href'))"
   ]
  },
  {
   "cell_type": "code",
   "execution_count": 5,
   "id": "23d8dcd8",
   "metadata": {},
   "outputs": [
    {
     "data": {
      "text/plain": [
       "245"
      ]
     },
     "execution_count": 5,
     "metadata": {},
     "output_type": "execute_result"
    }
   ],
   "source": [
    "len(url)"
   ]
  },
  {
   "cell_type": "code",
   "execution_count": 6,
   "id": "7a19dca8",
   "metadata": {},
   "outputs": [],
   "source": [
    "name = []\n",
    "fuel = []\n",
    "kilo = []\n",
    "owner = []\n",
    "location = []\n",
    "price = []\n",
    "for i in url:\n",
    "    driver.get(i)\n",
    "    time.sleep(2)\n",
    "    try:\n",
    "        na = driver.find_element_by_xpath(\"//div[@class= 'gsc_col-xs-12']/h1\")\n",
    "        name.append(na.text.replace(\"/n\",\"new line\"))\n",
    "    except:\n",
    "        name.append(\"-\")\n",
    "        \n",
    "    try:\n",
    "        fu = driver.find_element_by_xpath(\"//ul[@class= 'gsc_row detailsList']/li[3]/div/div[2]\")\n",
    "        fuel.append(fu.text.replace(\"/n\",\"new line\"))\n",
    "    except:\n",
    "        fuel.append(\"-\")\n",
    "        \n",
    "    try:\n",
    "        ki = driver.find_element_by_xpath(\"//ul[@class= 'gsc_row detailsList']/li[4]/div/div[2]\")\n",
    "        kilo.append(ki.text.replace(\"/n\",\"new line\"))\n",
    "    except:\n",
    "        kilo.append(\"-\")\n",
    "        \n",
    "    try:\n",
    "        ow = driver.find_element_by_xpath(\"//ul[@class= 'gsc_row detailsList']/li[6]/div/div[2]\")\n",
    "        owner.append(ow.text.replace(\"/n\",\"new line\"))\n",
    "    except:\n",
    "        owner.append(\"-\")\n",
    "        \n",
    "    try:\n",
    "        lo = driver.find_element_by_xpath(\"//span[@class= 'store-address']\")\n",
    "        location.append(lo.text.replace(\"/n\",\"new line\"))\n",
    "    except:\n",
    "        location.append(\"-\")\n",
    "        \n",
    "    try:\n",
    "        pr = driver.find_element_by_xpath(\"//div[@class= 'priceSection']\")\n",
    "        price.append(pr.text.replace(\"/n\",\"new line\"))\n",
    "    except:\n",
    "        price.append(\"-\")"
   ]
  },
  {
   "cell_type": "code",
   "execution_count": 27,
   "id": "75914eb7",
   "metadata": {},
   "outputs": [
    {
     "data": {
      "text/plain": [
       "245"
      ]
     },
     "execution_count": 27,
     "metadata": {},
     "output_type": "execute_result"
    }
   ],
   "source": [
    "len(name)"
   ]
  },
  {
   "cell_type": "code",
   "execution_count": 8,
   "id": "d1e99f21",
   "metadata": {},
   "outputs": [],
   "source": [
    "brand = []\n",
    "model = []\n",
    "year = []\n",
    "for i in name:\n",
    "    i = i[:4]\n",
    "    year.append(i)"
   ]
  },
  {
   "cell_type": "code",
   "execution_count": 9,
   "id": "f5252712",
   "metadata": {},
   "outputs": [],
   "source": [
    "for i in name:\n",
    "    i = i[-5:]\n",
    "    model.append(i)"
   ]
  },
  {
   "cell_type": "code",
   "execution_count": 10,
   "id": "49b03988",
   "metadata": {},
   "outputs": [],
   "source": [
    "for i in name:\n",
    "    i = i[4:-5]\n",
    "    brand.append(i)"
   ]
  },
  {
   "cell_type": "code",
   "execution_count": 12,
   "id": "e10f0d9d",
   "metadata": {},
   "outputs": [
    {
     "data": {
      "text/plain": [
       "245"
      ]
     },
     "execution_count": 12,
     "metadata": {},
     "output_type": "execute_result"
    }
   ],
   "source": [
    "len(brand)"
   ]
  },
  {
   "cell_type": "code",
   "execution_count": 14,
   "id": "75aad5b8",
   "metadata": {},
   "outputs": [
    {
     "data": {
      "text/plain": [
       "245"
      ]
     },
     "execution_count": 14,
     "metadata": {},
     "output_type": "execute_result"
    }
   ],
   "source": [
    "len(model)"
   ]
  },
  {
   "cell_type": "code",
   "execution_count": 16,
   "id": "28dca032",
   "metadata": {},
   "outputs": [
    {
     "data": {
      "text/plain": [
       "245"
      ]
     },
     "execution_count": 16,
     "metadata": {},
     "output_type": "execute_result"
    }
   ],
   "source": [
    "len(year)"
   ]
  },
  {
   "cell_type": "code",
   "execution_count": 18,
   "id": "4a678819",
   "metadata": {},
   "outputs": [
    {
     "data": {
      "text/plain": [
       "245"
      ]
     },
     "execution_count": 18,
     "metadata": {},
     "output_type": "execute_result"
    }
   ],
   "source": [
    "len(kilo)"
   ]
  },
  {
   "cell_type": "code",
   "execution_count": 20,
   "id": "a76a15fd",
   "metadata": {},
   "outputs": [
    {
     "data": {
      "text/plain": [
       "245"
      ]
     },
     "execution_count": 20,
     "metadata": {},
     "output_type": "execute_result"
    }
   ],
   "source": [
    "len(fuel)"
   ]
  },
  {
   "cell_type": "code",
   "execution_count": 22,
   "id": "e33c08d1",
   "metadata": {},
   "outputs": [
    {
     "data": {
      "text/plain": [
       "245"
      ]
     },
     "execution_count": 22,
     "metadata": {},
     "output_type": "execute_result"
    }
   ],
   "source": [
    "len(location)"
   ]
  },
  {
   "cell_type": "code",
   "execution_count": 24,
   "id": "c8b1decf",
   "metadata": {},
   "outputs": [
    {
     "data": {
      "text/plain": [
       "245"
      ]
     },
     "execution_count": 24,
     "metadata": {},
     "output_type": "execute_result"
    }
   ],
   "source": [
    "len(owner)"
   ]
  },
  {
   "cell_type": "code",
   "execution_count": 26,
   "id": "a9ad96d1",
   "metadata": {},
   "outputs": [
    {
     "data": {
      "text/plain": [
       "245"
      ]
     },
     "execution_count": 26,
     "metadata": {},
     "output_type": "execute_result"
    }
   ],
   "source": [
    "len(price)"
   ]
  },
  {
   "cell_type": "code",
   "execution_count": 29,
   "id": "f8721674",
   "metadata": {},
   "outputs": [],
   "source": [
    "car2 = pd.DataFrame({'Brand': brand, 'Model': model, 'Year': year, 'Fuel': fuel, 'Driven Kilometers': kilo, 'Owner': owner,\n",
    "                    'Location': location, 'Price': price})"
   ]
  },
  {
   "cell_type": "code",
   "execution_count": 30,
   "id": "de8496b6",
   "metadata": {},
   "outputs": [],
   "source": [
    "car2 = car2.to_csv('car2.csv')"
   ]
  },
  {
   "cell_type": "code",
   "execution_count": 3,
   "id": "83261286",
   "metadata": {},
   "outputs": [],
   "source": [
    "driver.get('https://www.cardekho.com/buy-used-cars+in+delhi-ncr?utm_campaign=UCR-Search-SaleCar-Delhi&utm_device=c&utm_term=car%20second%20hand%20for%20sale&network=g&utm_medium=cpc&utm_source=google&agid=131627860967&ap=&aoi=&ci=14858885652&cre=549875387676&fid=&lop=9061686&ma=p&mo=&pl=&ti=kwd-297652187221&gclid=Cj0KCQiAu62QBhC7ARIsALXijXTXwea0RL7h3_6tqo0wR8P7_buRBRRNCioEsaTMIMNWMW9TLYMsgFYaAijlEALw_wcB')"
   ]
  },
  {
   "cell_type": "code",
   "execution_count": 4,
   "id": "8301cf61",
   "metadata": {},
   "outputs": [],
   "source": [
    "url = []\n",
    "for i in driver.find_elements_by_xpath(\"//div[@class= 'gsc_col-xs-6  carsName']/a\"):\n",
    "    url.append(i.get_attribute('href'))"
   ]
  },
  {
   "cell_type": "code",
   "execution_count": 6,
   "id": "870dd5ee",
   "metadata": {},
   "outputs": [
    {
     "data": {
      "text/plain": [
       "367"
      ]
     },
     "execution_count": 6,
     "metadata": {},
     "output_type": "execute_result"
    }
   ],
   "source": [
    "len(url)"
   ]
  },
  {
   "cell_type": "code",
   "execution_count": 7,
   "id": "ea182b75",
   "metadata": {},
   "outputs": [],
   "source": [
    "name = []\n",
    "fuel = []\n",
    "kilo = []\n",
    "owner = []\n",
    "location = []\n",
    "price = []\n",
    "for i in url:\n",
    "    driver.get(i)\n",
    "    time.sleep(2)\n",
    "    try:\n",
    "        na = driver.find_element_by_xpath(\"//div[@class= 'gsc_col-xs-12']/h1\")\n",
    "        name.append(na.text.replace(\"/n\",\"new line\"))\n",
    "    except:\n",
    "        name.append(\"-\")\n",
    "        \n",
    "    try:\n",
    "        fu = driver.find_element_by_xpath(\"//ul[@class= 'gsc_row detailsList']/li[3]/div/div[2]\")\n",
    "        fuel.append(fu.text.replace(\"/n\",\"new line\"))\n",
    "    except:\n",
    "        fuel.append(\"-\")\n",
    "        \n",
    "    try:\n",
    "        ki = driver.find_element_by_xpath(\"//ul[@class= 'gsc_row detailsList']/li[4]/div/div[2]\")\n",
    "        kilo.append(ki.text.replace(\"/n\",\"new line\"))\n",
    "    except:\n",
    "        kilo.append(\"-\")\n",
    "        \n",
    "    try:\n",
    "        ow = driver.find_element_by_xpath(\"//ul[@class= 'gsc_row detailsList']/li[6]/div/div[2]\")\n",
    "        owner.append(ow.text.replace(\"/n\",\"new line\"))\n",
    "    except:\n",
    "        owner.append(\"-\")\n",
    "        \n",
    "    try:\n",
    "        lo = driver.find_element_by_xpath(\"//span[@class= 'store-address']\")\n",
    "        location.append(lo.text.replace(\"/n\",\"new line\"))\n",
    "    except:\n",
    "        location.append(\"-\")\n",
    "        \n",
    "    try:\n",
    "        pr = driver.find_element_by_xpath(\"//div[@class= 'priceSection']\")\n",
    "        price.append(pr.text.replace(\"/n\",\"new line\"))\n",
    "    except:\n",
    "        price.append(\"-\")"
   ]
  },
  {
   "cell_type": "code",
   "execution_count": 28,
   "id": "a728a429",
   "metadata": {},
   "outputs": [
    {
     "data": {
      "text/plain": [
       "367"
      ]
     },
     "execution_count": 28,
     "metadata": {},
     "output_type": "execute_result"
    }
   ],
   "source": [
    "len(name)"
   ]
  },
  {
   "cell_type": "code",
   "execution_count": 9,
   "id": "78abf574",
   "metadata": {},
   "outputs": [],
   "source": [
    "year = []\n",
    "for i in name:\n",
    "    i = i[:4]\n",
    "    year.append(i)"
   ]
  },
  {
   "cell_type": "code",
   "execution_count": 11,
   "id": "91696bae",
   "metadata": {},
   "outputs": [],
   "source": [
    "model = []\n",
    "for i in name:\n",
    "    i = i[-5:]\n",
    "    model.append(i)"
   ]
  },
  {
   "cell_type": "code",
   "execution_count": 13,
   "id": "35b217e4",
   "metadata": {},
   "outputs": [],
   "source": [
    "brand = []\n",
    "for i in name:\n",
    "    i = i[4:-5]\n",
    "    brand.append(i)"
   ]
  },
  {
   "cell_type": "code",
   "execution_count": 15,
   "id": "4bc7e290",
   "metadata": {},
   "outputs": [
    {
     "data": {
      "text/plain": [
       "367"
      ]
     },
     "execution_count": 15,
     "metadata": {},
     "output_type": "execute_result"
    }
   ],
   "source": [
    "len(year)"
   ]
  },
  {
   "cell_type": "code",
   "execution_count": 16,
   "id": "d6451273",
   "metadata": {},
   "outputs": [
    {
     "data": {
      "text/plain": [
       "367"
      ]
     },
     "execution_count": 16,
     "metadata": {},
     "output_type": "execute_result"
    }
   ],
   "source": [
    "len(brand)"
   ]
  },
  {
   "cell_type": "code",
   "execution_count": 17,
   "id": "7849915c",
   "metadata": {},
   "outputs": [
    {
     "data": {
      "text/plain": [
       "367"
      ]
     },
     "execution_count": 17,
     "metadata": {},
     "output_type": "execute_result"
    }
   ],
   "source": [
    "len(model)"
   ]
  },
  {
   "cell_type": "code",
   "execution_count": 19,
   "id": "51103904",
   "metadata": {},
   "outputs": [
    {
     "data": {
      "text/plain": [
       "367"
      ]
     },
     "execution_count": 19,
     "metadata": {},
     "output_type": "execute_result"
    }
   ],
   "source": [
    "len(fuel)"
   ]
  },
  {
   "cell_type": "code",
   "execution_count": 21,
   "id": "93709131",
   "metadata": {},
   "outputs": [
    {
     "data": {
      "text/plain": [
       "367"
      ]
     },
     "execution_count": 21,
     "metadata": {},
     "output_type": "execute_result"
    }
   ],
   "source": [
    "len(kilo)"
   ]
  },
  {
   "cell_type": "code",
   "execution_count": 23,
   "id": "32dc0b82",
   "metadata": {},
   "outputs": [
    {
     "data": {
      "text/plain": [
       "367"
      ]
     },
     "execution_count": 23,
     "metadata": {},
     "output_type": "execute_result"
    }
   ],
   "source": [
    "len(owner)"
   ]
  },
  {
   "cell_type": "code",
   "execution_count": 25,
   "id": "5fe5214f",
   "metadata": {},
   "outputs": [
    {
     "data": {
      "text/plain": [
       "367"
      ]
     },
     "execution_count": 25,
     "metadata": {},
     "output_type": "execute_result"
    }
   ],
   "source": [
    "len(location)"
   ]
  },
  {
   "cell_type": "code",
   "execution_count": 27,
   "id": "cf1f727d",
   "metadata": {},
   "outputs": [
    {
     "data": {
      "text/plain": [
       "367"
      ]
     },
     "execution_count": 27,
     "metadata": {},
     "output_type": "execute_result"
    }
   ],
   "source": [
    "len(price)"
   ]
  },
  {
   "cell_type": "code",
   "execution_count": 29,
   "id": "e841b487",
   "metadata": {},
   "outputs": [],
   "source": [
    "car3 = pd.DataFrame({'Brand': brand, 'Model': model, 'Year': year, 'Fuel': fuel, 'Driven Kilometers': kilo, 'Owner': owner,\n",
    "                    'Location': location, 'Price': price})"
   ]
  },
  {
   "cell_type": "code",
   "execution_count": 31,
   "id": "1e7da97d",
   "metadata": {},
   "outputs": [],
   "source": [
    "car3 = car3.to_csv('car3.csv')"
   ]
  },
  {
   "cell_type": "code",
   "execution_count": 34,
   "id": "1bdf8de6",
   "metadata": {},
   "outputs": [],
   "source": [
    "driver.get('https://www.cardekho.com/buy-used-cars+in+delhi-ncr?utm_campaign=UCR-Search-SaleCar-Delhi&utm_device=c&utm_term=car%20second%20hand%20for%20sale&network=g&utm_medium=cpc&utm_source=google&agid=131627860967&ap=&aoi=&ci=14858885652&cre=549875387676&fid=&lop=9061686&ma=p&mo=&pl=&ti=kwd-297652187221&gclid=Cj0KCQiAu62QBhC7ARIsALXijXTXwea0RL7h3_6tqo0wR8P7_buRBRRNCioEsaTMIMNWMW9TLYMsgFYaAijlEALw_wcB')"
   ]
  },
  {
   "cell_type": "code",
   "execution_count": 35,
   "id": "851c15ba",
   "metadata": {},
   "outputs": [],
   "source": [
    "url = []\n",
    "for i in driver.find_elements_by_xpath(\"//div[@class= 'gsc_col-xs-6  carsName']/a\"):\n",
    "    url.append(i.get_attribute('href'))"
   ]
  },
  {
   "cell_type": "code",
   "execution_count": 37,
   "id": "4a56b5f7",
   "metadata": {},
   "outputs": [
    {
     "data": {
      "text/plain": [
       "212"
      ]
     },
     "execution_count": 37,
     "metadata": {},
     "output_type": "execute_result"
    }
   ],
   "source": [
    "len(url)"
   ]
  },
  {
   "cell_type": "code",
   "execution_count": 38,
   "id": "575d62f9",
   "metadata": {},
   "outputs": [],
   "source": [
    "name = []\n",
    "fuel = []\n",
    "kilo = []\n",
    "owner = []\n",
    "location = []\n",
    "price = []\n",
    "for i in url:\n",
    "    driver.get(i)\n",
    "    time.sleep(2)\n",
    "    try:\n",
    "        na = driver.find_element_by_xpath(\"//div[@class= 'gsc_col-xs-12']/h1\")\n",
    "        name.append(na.text.replace(\"/n\",\"new line\"))\n",
    "    except:\n",
    "        name.append(\"-\")\n",
    "        \n",
    "    try:\n",
    "        fu = driver.find_element_by_xpath(\"//ul[@class= 'gsc_row detailsList']/li[3]/div/div[2]\")\n",
    "        fuel.append(fu.text.replace(\"/n\",\"new line\"))\n",
    "    except:\n",
    "        fuel.append(\"-\")\n",
    "        \n",
    "    try:\n",
    "        ki = driver.find_element_by_xpath(\"//ul[@class= 'gsc_row detailsList']/li[4]/div/div[2]\")\n",
    "        kilo.append(ki.text.replace(\"/n\",\"new line\"))\n",
    "    except:\n",
    "        kilo.append(\"-\")\n",
    "        \n",
    "    try:\n",
    "        ow = driver.find_element_by_xpath(\"//ul[@class= 'gsc_row detailsList']/li[6]/div/div[2]\")\n",
    "        owner.append(ow.text.replace(\"/n\",\"new line\"))\n",
    "    except:\n",
    "        owner.append(\"-\")\n",
    "        \n",
    "    try:\n",
    "        lo = driver.find_element_by_xpath(\"//span[@class= 'store-address']\")\n",
    "        location.append(lo.text.replace(\"/n\",\"new line\"))\n",
    "    except:\n",
    "        location.append(\"-\")\n",
    "        \n",
    "    try:\n",
    "        pr = driver.find_element_by_xpath(\"//div[@class= 'priceSection']\")\n",
    "        price.append(pr.text.replace(\"/n\",\"new line\"))\n",
    "    except:\n",
    "        price.append(\"-\")"
   ]
  },
  {
   "cell_type": "code",
   "execution_count": 59,
   "id": "be65ccde",
   "metadata": {},
   "outputs": [
    {
     "data": {
      "text/plain": [
       "212"
      ]
     },
     "execution_count": 59,
     "metadata": {},
     "output_type": "execute_result"
    }
   ],
   "source": [
    "len(name)"
   ]
  },
  {
   "cell_type": "code",
   "execution_count": 40,
   "id": "ba619453",
   "metadata": {},
   "outputs": [],
   "source": [
    "year = []\n",
    "for i in name:\n",
    "    i = i[:4]\n",
    "    year.append(i)"
   ]
  },
  {
   "cell_type": "code",
   "execution_count": 42,
   "id": "9f0ead64",
   "metadata": {},
   "outputs": [],
   "source": [
    "model = []\n",
    "for i in name:\n",
    "    i = i[-5:]\n",
    "    model.append(i)"
   ]
  },
  {
   "cell_type": "code",
   "execution_count": 44,
   "id": "1b221f0b",
   "metadata": {},
   "outputs": [],
   "source": [
    "brand = []\n",
    "for i in name:\n",
    "    i = i[4:-5]\n",
    "    brand.append(i)"
   ]
  },
  {
   "cell_type": "code",
   "execution_count": 46,
   "id": "0003e8b3",
   "metadata": {},
   "outputs": [
    {
     "data": {
      "text/plain": [
       "212"
      ]
     },
     "execution_count": 46,
     "metadata": {},
     "output_type": "execute_result"
    }
   ],
   "source": [
    "len(year)"
   ]
  },
  {
   "cell_type": "code",
   "execution_count": 47,
   "id": "d2d64a13",
   "metadata": {},
   "outputs": [
    {
     "data": {
      "text/plain": [
       "212"
      ]
     },
     "execution_count": 47,
     "metadata": {},
     "output_type": "execute_result"
    }
   ],
   "source": [
    "len(model)"
   ]
  },
  {
   "cell_type": "code",
   "execution_count": 48,
   "id": "03c0c270",
   "metadata": {},
   "outputs": [
    {
     "data": {
      "text/plain": [
       "212"
      ]
     },
     "execution_count": 48,
     "metadata": {},
     "output_type": "execute_result"
    }
   ],
   "source": [
    "len(brand)"
   ]
  },
  {
   "cell_type": "code",
   "execution_count": 50,
   "id": "d0fc10b4",
   "metadata": {},
   "outputs": [
    {
     "data": {
      "text/plain": [
       "212"
      ]
     },
     "execution_count": 50,
     "metadata": {},
     "output_type": "execute_result"
    }
   ],
   "source": [
    "len(fuel)"
   ]
  },
  {
   "cell_type": "code",
   "execution_count": 52,
   "id": "0d8a715f",
   "metadata": {},
   "outputs": [
    {
     "data": {
      "text/plain": [
       "212"
      ]
     },
     "execution_count": 52,
     "metadata": {},
     "output_type": "execute_result"
    }
   ],
   "source": [
    "len(kilo)"
   ]
  },
  {
   "cell_type": "code",
   "execution_count": 54,
   "id": "5d1dc109",
   "metadata": {},
   "outputs": [
    {
     "data": {
      "text/plain": [
       "212"
      ]
     },
     "execution_count": 54,
     "metadata": {},
     "output_type": "execute_result"
    }
   ],
   "source": [
    "len(owner)"
   ]
  },
  {
   "cell_type": "code",
   "execution_count": 56,
   "id": "98f95341",
   "metadata": {
    "scrolled": false
   },
   "outputs": [
    {
     "data": {
      "text/plain": [
       "212"
      ]
     },
     "execution_count": 56,
     "metadata": {},
     "output_type": "execute_result"
    }
   ],
   "source": [
    "len(location)"
   ]
  },
  {
   "cell_type": "code",
   "execution_count": 58,
   "id": "aa1f0f73",
   "metadata": {},
   "outputs": [
    {
     "data": {
      "text/plain": [
       "212"
      ]
     },
     "execution_count": 58,
     "metadata": {},
     "output_type": "execute_result"
    }
   ],
   "source": [
    "len(price)"
   ]
  },
  {
   "cell_type": "code",
   "execution_count": 60,
   "id": "5fec7abe",
   "metadata": {},
   "outputs": [],
   "source": [
    "car4 = pd.DataFrame({'Brand': brand, 'Model': model, 'Year': year, 'Fuel': fuel, 'Driven Kilometers': kilo, 'Owner': owner,\n",
    "                    'Location': location, 'Price': price})"
   ]
  },
  {
   "cell_type": "code",
   "execution_count": 61,
   "id": "84eb1ba2",
   "metadata": {},
   "outputs": [],
   "source": [
    "car4 = car4.to_csv('car4.csv')"
   ]
  },
  {
   "cell_type": "code",
   "execution_count": 63,
   "id": "a29aaa82",
   "metadata": {},
   "outputs": [],
   "source": [
    "driver.get('https://www.cardekho.com/buy-used-cars+in+delhi-ncr?utm_campaign=UCR-Search-SaleCar-Delhi&utm_device=c&utm_term=car%20second%20hand%20for%20sale&network=g&utm_medium=cpc&utm_source=google&agid=131627860967&ap=&aoi=&ci=14858885652&cre=549875387676&fid=&lop=9061686&ma=p&mo=&pl=&ti=kwd-297652187221&gclid=Cj0KCQiAu62QBhC7ARIsALXijXTXwea0RL7h3_6tqo0wR8P7_buRBRRNCioEsaTMIMNWMW9TLYMsgFYaAijlEALw_wcB')"
   ]
  },
  {
   "cell_type": "code",
   "execution_count": 64,
   "id": "1fde683b",
   "metadata": {},
   "outputs": [],
   "source": [
    "url = []\n",
    "for i in driver.find_elements_by_xpath(\"//div[@class= 'gsc_col-xs-6  carsName']/a\"):\n",
    "    url.append(i.get_attribute('href'))"
   ]
  },
  {
   "cell_type": "code",
   "execution_count": 66,
   "id": "01da1e48",
   "metadata": {},
   "outputs": [
    {
     "data": {
      "text/plain": [
       "54"
      ]
     },
     "execution_count": 66,
     "metadata": {},
     "output_type": "execute_result"
    }
   ],
   "source": [
    "len(url)"
   ]
  },
  {
   "cell_type": "code",
   "execution_count": 67,
   "id": "a552f792",
   "metadata": {},
   "outputs": [],
   "source": [
    "name = []\n",
    "fuel = []\n",
    "kilo = []\n",
    "owner = []\n",
    "location = []\n",
    "price = []\n",
    "for i in url:\n",
    "    driver.get(i)\n",
    "    time.sleep(2)\n",
    "    try:\n",
    "        na = driver.find_element_by_xpath(\"//div[@class= 'gsc_col-xs-12']/h1\")\n",
    "        name.append(na.text.replace(\"/n\",\"new line\"))\n",
    "    except:\n",
    "        name.append(\"-\")\n",
    "        \n",
    "    try:\n",
    "        fu = driver.find_element_by_xpath(\"//ul[@class= 'gsc_row detailsList']/li[3]/div/div[2]\")\n",
    "        fuel.append(fu.text.replace(\"/n\",\"new line\"))\n",
    "    except:\n",
    "        fuel.append(\"-\")\n",
    "        \n",
    "    try:\n",
    "        ki = driver.find_element_by_xpath(\"//ul[@class= 'gsc_row detailsList']/li[4]/div/div[2]\")\n",
    "        kilo.append(ki.text.replace(\"/n\",\"new line\"))\n",
    "    except:\n",
    "        kilo.append(\"-\")\n",
    "        \n",
    "    try:\n",
    "        ow = driver.find_element_by_xpath(\"//ul[@class= 'gsc_row detailsList']/li[6]/div/div[2]\")\n",
    "        owner.append(ow.text.replace(\"/n\",\"new line\"))\n",
    "    except:\n",
    "        owner.append(\"-\")\n",
    "        \n",
    "    try:\n",
    "        lo = driver.find_element_by_xpath(\"//span[@class= 'store-address']\")\n",
    "        location.append(lo.text.replace(\"/n\",\"new line\"))\n",
    "    except:\n",
    "        location.append(\"-\")\n",
    "        \n",
    "    try:\n",
    "        pr = driver.find_element_by_xpath(\"//div[@class= 'priceSection']\")\n",
    "        price.append(pr.text.replace(\"/n\",\"new line\"))\n",
    "    except:\n",
    "        price.append(\"-\")"
   ]
  },
  {
   "cell_type": "code",
   "execution_count": 75,
   "id": "4e95928b",
   "metadata": {},
   "outputs": [
    {
     "data": {
      "text/plain": [
       "54"
      ]
     },
     "execution_count": 75,
     "metadata": {},
     "output_type": "execute_result"
    }
   ],
   "source": [
    "len(name)"
   ]
  },
  {
   "cell_type": "code",
   "execution_count": 69,
   "id": "2e839ad7",
   "metadata": {},
   "outputs": [],
   "source": [
    "year = []\n",
    "for i in name:\n",
    "    i = i[:4]\n",
    "    year.append(i)"
   ]
  },
  {
   "cell_type": "code",
   "execution_count": 71,
   "id": "cfa83da1",
   "metadata": {},
   "outputs": [],
   "source": [
    "model = []\n",
    "for i in name:\n",
    "    i = i[-6:]\n",
    "    model.append(i)"
   ]
  },
  {
   "cell_type": "code",
   "execution_count": 73,
   "id": "58144c71",
   "metadata": {},
   "outputs": [],
   "source": [
    "brand = []\n",
    "for i in name:\n",
    "    i = i[4:-6]\n",
    "    brand.append(i)"
   ]
  },
  {
   "cell_type": "code",
   "execution_count": 76,
   "id": "c0fe93ea",
   "metadata": {},
   "outputs": [
    {
     "data": {
      "text/plain": [
       "54"
      ]
     },
     "execution_count": 76,
     "metadata": {},
     "output_type": "execute_result"
    }
   ],
   "source": [
    "len(brand)"
   ]
  },
  {
   "cell_type": "code",
   "execution_count": 77,
   "id": "a52cd04a",
   "metadata": {},
   "outputs": [
    {
     "data": {
      "text/plain": [
       "54"
      ]
     },
     "execution_count": 77,
     "metadata": {},
     "output_type": "execute_result"
    }
   ],
   "source": [
    "len(year)"
   ]
  },
  {
   "cell_type": "code",
   "execution_count": 78,
   "id": "e330ba26",
   "metadata": {},
   "outputs": [
    {
     "data": {
      "text/plain": [
       "54"
      ]
     },
     "execution_count": 78,
     "metadata": {},
     "output_type": "execute_result"
    }
   ],
   "source": [
    "len(model)"
   ]
  },
  {
   "cell_type": "code",
   "execution_count": 80,
   "id": "d83f2e1a",
   "metadata": {},
   "outputs": [
    {
     "data": {
      "text/plain": [
       "54"
      ]
     },
     "execution_count": 80,
     "metadata": {},
     "output_type": "execute_result"
    }
   ],
   "source": [
    "len(fuel)"
   ]
  },
  {
   "cell_type": "code",
   "execution_count": 82,
   "id": "c0bee895",
   "metadata": {},
   "outputs": [
    {
     "data": {
      "text/plain": [
       "54"
      ]
     },
     "execution_count": 82,
     "metadata": {},
     "output_type": "execute_result"
    }
   ],
   "source": [
    "len(kilo)"
   ]
  },
  {
   "cell_type": "code",
   "execution_count": 84,
   "id": "4c3d8203",
   "metadata": {},
   "outputs": [
    {
     "data": {
      "text/plain": [
       "54"
      ]
     },
     "execution_count": 84,
     "metadata": {},
     "output_type": "execute_result"
    }
   ],
   "source": [
    "len(owner)"
   ]
  },
  {
   "cell_type": "code",
   "execution_count": 86,
   "id": "104a3ce5",
   "metadata": {},
   "outputs": [
    {
     "data": {
      "text/plain": [
       "54"
      ]
     },
     "execution_count": 86,
     "metadata": {},
     "output_type": "execute_result"
    }
   ],
   "source": [
    "len(location)"
   ]
  },
  {
   "cell_type": "code",
   "execution_count": 88,
   "id": "7e9026dc",
   "metadata": {},
   "outputs": [
    {
     "data": {
      "text/plain": [
       "54"
      ]
     },
     "execution_count": 88,
     "metadata": {},
     "output_type": "execute_result"
    }
   ],
   "source": [
    "len(price)"
   ]
  },
  {
   "cell_type": "code",
   "execution_count": 89,
   "id": "e2e5aee7",
   "metadata": {},
   "outputs": [],
   "source": [
    "car5 = pd.DataFrame({'Brand': brand, 'Model': model, 'Year': year, 'Fuel': fuel, 'Driven Kilometers': kilo, 'Owner': owner,\n",
    "                    'Location': location, 'Price': price})"
   ]
  },
  {
   "cell_type": "code",
   "execution_count": 91,
   "id": "a4d824d8",
   "metadata": {},
   "outputs": [],
   "source": [
    "car5 = car5.to_csv('car5.csv')"
   ]
  },
  {
   "cell_type": "code",
   "execution_count": 93,
   "id": "7a510ed9",
   "metadata": {},
   "outputs": [],
   "source": [
    "driver.get('https://www.cardekho.com/buy-used-cars+in+delhi-ncr?utm_campaign=UCR-Search-SaleCar-Delhi&utm_device=c&utm_term=car%20second%20hand%20for%20sale&network=g&utm_medium=cpc&utm_source=google&agid=131627860967&ap=&aoi=&ci=14858885652&cre=549875387676&fid=&lop=9061686&ma=p&mo=&pl=&ti=kwd-297652187221&gclid=Cj0KCQiAu62QBhC7ARIsALXijXTXwea0RL7h3_6tqo0wR8P7_buRBRRNCioEsaTMIMNWMW9TLYMsgFYaAijlEALw_wcB')"
   ]
  },
  {
   "cell_type": "code",
   "execution_count": 94,
   "id": "c63ecda7",
   "metadata": {},
   "outputs": [],
   "source": [
    "url = []\n",
    "for i in driver.find_elements_by_xpath(\"//div[@class= 'gsc_col-xs-6  carsName']/a\"):\n",
    "    url.append(i.get_attribute('href'))"
   ]
  },
  {
   "cell_type": "code",
   "execution_count": 96,
   "id": "1b0bf777",
   "metadata": {},
   "outputs": [
    {
     "data": {
      "text/plain": [
       "150"
      ]
     },
     "execution_count": 96,
     "metadata": {},
     "output_type": "execute_result"
    }
   ],
   "source": [
    "len(url)"
   ]
  },
  {
   "cell_type": "code",
   "execution_count": 97,
   "id": "5841118b",
   "metadata": {},
   "outputs": [],
   "source": [
    "name = []\n",
    "fuel = []\n",
    "kilo = []\n",
    "owner = []\n",
    "location = []\n",
    "price = []\n",
    "for i in url:\n",
    "    driver.get(i)\n",
    "    time.sleep(2)\n",
    "    try:\n",
    "        na = driver.find_element_by_xpath(\"//div[@class= 'gsc_col-xs-12']/h1\")\n",
    "        name.append(na.text.replace(\"/n\",\"new line\"))\n",
    "    except:\n",
    "        name.append(\"-\")\n",
    "        \n",
    "    try:\n",
    "        fu = driver.find_element_by_xpath(\"//ul[@class= 'gsc_row detailsList']/li[3]/div/div[2]\")\n",
    "        fuel.append(fu.text.replace(\"/n\",\"new line\"))\n",
    "    except:\n",
    "        fuel.append(\"-\")\n",
    "        \n",
    "    try:\n",
    "        ki = driver.find_element_by_xpath(\"//ul[@class= 'gsc_row detailsList']/li[4]/div/div[2]\")\n",
    "        kilo.append(ki.text.replace(\"/n\",\"new line\"))\n",
    "    except:\n",
    "        kilo.append(\"-\")\n",
    "        \n",
    "    try:\n",
    "        ow = driver.find_element_by_xpath(\"//ul[@class= 'gsc_row detailsList']/li[6]/div/div[2]\")\n",
    "        owner.append(ow.text.replace(\"/n\",\"new line\"))\n",
    "    except:\n",
    "        owner.append(\"-\")\n",
    "        \n",
    "    try:\n",
    "        lo = driver.find_element_by_xpath(\"//span[@class= 'store-address']\")\n",
    "        location.append(lo.text.replace(\"/n\",\"new line\"))\n",
    "    except:\n",
    "        location.append(\"-\")\n",
    "        \n",
    "    try:\n",
    "        pr = driver.find_element_by_xpath(\"//div[@class= 'priceSection']\")\n",
    "        price.append(pr.text.replace(\"/n\",\"new line\"))\n",
    "    except:\n",
    "        price.append(\"-\")"
   ]
  },
  {
   "cell_type": "code",
   "execution_count": 118,
   "id": "87d0afa9",
   "metadata": {},
   "outputs": [
    {
     "data": {
      "text/plain": [
       "150"
      ]
     },
     "execution_count": 118,
     "metadata": {},
     "output_type": "execute_result"
    }
   ],
   "source": [
    "len(name)"
   ]
  },
  {
   "cell_type": "code",
   "execution_count": 99,
   "id": "590127a6",
   "metadata": {},
   "outputs": [],
   "source": [
    "year = []\n",
    "for i in name:\n",
    "    i = i[:4]\n",
    "    year.append(i)"
   ]
  },
  {
   "cell_type": "code",
   "execution_count": 101,
   "id": "a64b17b0",
   "metadata": {},
   "outputs": [],
   "source": [
    "model = []\n",
    "for i in name:\n",
    "    i = i[-6:]\n",
    "    model.append(i)"
   ]
  },
  {
   "cell_type": "code",
   "execution_count": 103,
   "id": "59f147e3",
   "metadata": {},
   "outputs": [],
   "source": [
    "brand = []\n",
    "for i in name:\n",
    "    i = i[4:-6]\n",
    "    brand.append(i)"
   ]
  },
  {
   "cell_type": "code",
   "execution_count": 105,
   "id": "26c53f4c",
   "metadata": {},
   "outputs": [
    {
     "data": {
      "text/plain": [
       "150"
      ]
     },
     "execution_count": 105,
     "metadata": {},
     "output_type": "execute_result"
    }
   ],
   "source": [
    "len(brand)"
   ]
  },
  {
   "cell_type": "code",
   "execution_count": 106,
   "id": "7cf4b641",
   "metadata": {},
   "outputs": [
    {
     "data": {
      "text/plain": [
       "150"
      ]
     },
     "execution_count": 106,
     "metadata": {},
     "output_type": "execute_result"
    }
   ],
   "source": [
    "len(model)"
   ]
  },
  {
   "cell_type": "code",
   "execution_count": 107,
   "id": "b3174cba",
   "metadata": {},
   "outputs": [
    {
     "data": {
      "text/plain": [
       "150"
      ]
     },
     "execution_count": 107,
     "metadata": {},
     "output_type": "execute_result"
    }
   ],
   "source": [
    "len(year)"
   ]
  },
  {
   "cell_type": "code",
   "execution_count": 109,
   "id": "f9057dcf",
   "metadata": {},
   "outputs": [
    {
     "data": {
      "text/plain": [
       "150"
      ]
     },
     "execution_count": 109,
     "metadata": {},
     "output_type": "execute_result"
    }
   ],
   "source": [
    "len(fuel)"
   ]
  },
  {
   "cell_type": "code",
   "execution_count": 111,
   "id": "20239487",
   "metadata": {},
   "outputs": [
    {
     "data": {
      "text/plain": [
       "150"
      ]
     },
     "execution_count": 111,
     "metadata": {},
     "output_type": "execute_result"
    }
   ],
   "source": [
    "len(kilo)"
   ]
  },
  {
   "cell_type": "code",
   "execution_count": 113,
   "id": "faa1cd49",
   "metadata": {},
   "outputs": [
    {
     "data": {
      "text/plain": [
       "150"
      ]
     },
     "execution_count": 113,
     "metadata": {},
     "output_type": "execute_result"
    }
   ],
   "source": [
    "len(owner)"
   ]
  },
  {
   "cell_type": "code",
   "execution_count": 115,
   "id": "adc6f065",
   "metadata": {},
   "outputs": [
    {
     "data": {
      "text/plain": [
       "150"
      ]
     },
     "execution_count": 115,
     "metadata": {},
     "output_type": "execute_result"
    }
   ],
   "source": [
    "len(location)"
   ]
  },
  {
   "cell_type": "code",
   "execution_count": 117,
   "id": "4d2567e4",
   "metadata": {},
   "outputs": [
    {
     "data": {
      "text/plain": [
       "150"
      ]
     },
     "execution_count": 117,
     "metadata": {},
     "output_type": "execute_result"
    }
   ],
   "source": [
    "len(price)"
   ]
  },
  {
   "cell_type": "code",
   "execution_count": 119,
   "id": "2acffc0a",
   "metadata": {},
   "outputs": [],
   "source": [
    "car6 = pd.DataFrame({'Brand': brand, 'Model': model, 'Year': year, 'Fuel': fuel, 'Driven Kilometers': kilo, 'Owner': owner,\n",
    "                    'Location': location, 'Price': price})"
   ]
  },
  {
   "cell_type": "code",
   "execution_count": 121,
   "id": "8dbda932",
   "metadata": {},
   "outputs": [],
   "source": [
    "car6 = car6.to_csv('car6.csv')"
   ]
  },
  {
   "cell_type": "code",
   "execution_count": 123,
   "id": "8b5cb6aa",
   "metadata": {},
   "outputs": [],
   "source": [
    "driver.get('https://www.cardekho.com/buy-used-cars+in+delhi-ncr?utm_campaign=UCR-Search-SaleCar-Delhi&utm_device=c&utm_term=car%20second%20hand%20for%20sale&network=g&utm_medium=cpc&utm_source=google&agid=131627860967&ap=&aoi=&ci=14858885652&cre=549875387676&fid=&lop=9061686&ma=p&mo=&pl=&ti=kwd-297652187221&gclid=Cj0KCQiAu62QBhC7ARIsALXijXTXwea0RL7h3_6tqo0wR8P7_buRBRRNCioEsaTMIMNWMW9TLYMsgFYaAijlEALw_wcB')"
   ]
  },
  {
   "cell_type": "code",
   "execution_count": 124,
   "id": "0db104fa",
   "metadata": {},
   "outputs": [],
   "source": [
    "url = []\n",
    "for i in driver.find_elements_by_xpath(\"//div[@class= 'gsc_col-xs-6  carsName']/a\"):\n",
    "    url.append(i.get_attribute('href'))"
   ]
  },
  {
   "cell_type": "code",
   "execution_count": 126,
   "id": "4476d62f",
   "metadata": {},
   "outputs": [
    {
     "data": {
      "text/plain": [
       "167"
      ]
     },
     "execution_count": 126,
     "metadata": {},
     "output_type": "execute_result"
    }
   ],
   "source": [
    "len(url)"
   ]
  },
  {
   "cell_type": "code",
   "execution_count": 127,
   "id": "427e3390",
   "metadata": {},
   "outputs": [],
   "source": [
    "name = []\n",
    "fuel = []\n",
    "kilo = []\n",
    "owner = []\n",
    "location = []\n",
    "price = []\n",
    "for i in url:\n",
    "    driver.get(i)\n",
    "    time.sleep(2)\n",
    "    try:\n",
    "        na = driver.find_element_by_xpath(\"//div[@class= 'gsc_col-xs-12']/h1\")\n",
    "        name.append(na.text.replace(\"/n\",\"new line\"))\n",
    "    except:\n",
    "        name.append(\"-\")\n",
    "        \n",
    "    try:\n",
    "        fu = driver.find_element_by_xpath(\"//ul[@class= 'gsc_row detailsList']/li[3]/div/div[2]\")\n",
    "        fuel.append(fu.text.replace(\"/n\",\"new line\"))\n",
    "    except:\n",
    "        fuel.append(\"-\")\n",
    "        \n",
    "    try:\n",
    "        ki = driver.find_element_by_xpath(\"//ul[@class= 'gsc_row detailsList']/li[4]/div/div[2]\")\n",
    "        kilo.append(ki.text.replace(\"/n\",\"new line\"))\n",
    "    except:\n",
    "        kilo.append(\"-\")\n",
    "        \n",
    "    try:\n",
    "        ow = driver.find_element_by_xpath(\"//ul[@class= 'gsc_row detailsList']/li[6]/div/div[2]\")\n",
    "        owner.append(ow.text.replace(\"/n\",\"new line\"))\n",
    "    except:\n",
    "        owner.append(\"-\")\n",
    "        \n",
    "    try:\n",
    "        lo = driver.find_element_by_xpath(\"//span[@class= 'store-address']\")\n",
    "        location.append(lo.text.replace(\"/n\",\"new line\"))\n",
    "    except:\n",
    "        location.append(\"-\")\n",
    "        \n",
    "    try:\n",
    "        pr = driver.find_element_by_xpath(\"//div[@class= 'priceSection']\")\n",
    "        price.append(pr.text.replace(\"/n\",\"new line\"))\n",
    "    except:\n",
    "        price.append(\"-\")    "
   ]
  },
  {
   "cell_type": "code",
   "execution_count": 148,
   "id": "d5def899",
   "metadata": {},
   "outputs": [
    {
     "data": {
      "text/plain": [
       "167"
      ]
     },
     "execution_count": 148,
     "metadata": {},
     "output_type": "execute_result"
    }
   ],
   "source": [
    "len(name)"
   ]
  },
  {
   "cell_type": "code",
   "execution_count": 129,
   "id": "25c2c8ba",
   "metadata": {},
   "outputs": [],
   "source": [
    "year = []\n",
    "for i in name:\n",
    "    i = i[:4]\n",
    "    year.append(i)"
   ]
  },
  {
   "cell_type": "code",
   "execution_count": 131,
   "id": "9e575b14",
   "metadata": {},
   "outputs": [],
   "source": [
    "model = []\n",
    "for i in name:\n",
    "    i = i[-7:]\n",
    "    model.append(i)"
   ]
  },
  {
   "cell_type": "code",
   "execution_count": 133,
   "id": "97b67710",
   "metadata": {},
   "outputs": [],
   "source": [
    "brand = []\n",
    "for i in name:\n",
    "    i = i[4:-7]\n",
    "    brand.append(i)"
   ]
  },
  {
   "cell_type": "code",
   "execution_count": 135,
   "id": "f3ff95e0",
   "metadata": {},
   "outputs": [
    {
     "data": {
      "text/plain": [
       "167"
      ]
     },
     "execution_count": 135,
     "metadata": {},
     "output_type": "execute_result"
    }
   ],
   "source": [
    "len(brand)"
   ]
  },
  {
   "cell_type": "code",
   "execution_count": 136,
   "id": "24754395",
   "metadata": {},
   "outputs": [
    {
     "data": {
      "text/plain": [
       "167"
      ]
     },
     "execution_count": 136,
     "metadata": {},
     "output_type": "execute_result"
    }
   ],
   "source": [
    "len(model)"
   ]
  },
  {
   "cell_type": "code",
   "execution_count": 137,
   "id": "a18f450d",
   "metadata": {},
   "outputs": [
    {
     "data": {
      "text/plain": [
       "167"
      ]
     },
     "execution_count": 137,
     "metadata": {},
     "output_type": "execute_result"
    }
   ],
   "source": [
    "len(year)"
   ]
  },
  {
   "cell_type": "code",
   "execution_count": 139,
   "id": "14acf055",
   "metadata": {},
   "outputs": [
    {
     "data": {
      "text/plain": [
       "167"
      ]
     },
     "execution_count": 139,
     "metadata": {},
     "output_type": "execute_result"
    }
   ],
   "source": [
    "len(fuel)"
   ]
  },
  {
   "cell_type": "code",
   "execution_count": 141,
   "id": "1bb6bd3e",
   "metadata": {},
   "outputs": [
    {
     "data": {
      "text/plain": [
       "167"
      ]
     },
     "execution_count": 141,
     "metadata": {},
     "output_type": "execute_result"
    }
   ],
   "source": [
    "len(kilo)"
   ]
  },
  {
   "cell_type": "code",
   "execution_count": 143,
   "id": "1ba5e5a8",
   "metadata": {},
   "outputs": [
    {
     "data": {
      "text/plain": [
       "167"
      ]
     },
     "execution_count": 143,
     "metadata": {},
     "output_type": "execute_result"
    }
   ],
   "source": [
    "len(owner)"
   ]
  },
  {
   "cell_type": "code",
   "execution_count": 145,
   "id": "a598806d",
   "metadata": {},
   "outputs": [
    {
     "data": {
      "text/plain": [
       "167"
      ]
     },
     "execution_count": 145,
     "metadata": {},
     "output_type": "execute_result"
    }
   ],
   "source": [
    "len(location)"
   ]
  },
  {
   "cell_type": "code",
   "execution_count": 147,
   "id": "b9227243",
   "metadata": {},
   "outputs": [
    {
     "data": {
      "text/plain": [
       "167"
      ]
     },
     "execution_count": 147,
     "metadata": {},
     "output_type": "execute_result"
    }
   ],
   "source": [
    "len(price)"
   ]
  },
  {
   "cell_type": "code",
   "execution_count": 149,
   "id": "e15c2b85",
   "metadata": {},
   "outputs": [],
   "source": [
    "car7 = pd.DataFrame({'Brand': brand, 'Model': model, 'Year': year, 'Fuel': fuel, 'Driven Kilometers': kilo, 'Owner': owner,\n",
    "                    'Location': location, 'Price': price})"
   ]
  },
  {
   "cell_type": "code",
   "execution_count": 150,
   "id": "6c4b311f",
   "metadata": {},
   "outputs": [],
   "source": [
    "car7 = car7.to_csv('car7.csv')"
   ]
  },
  {
   "cell_type": "code",
   "execution_count": 3,
   "id": "7f65fce9",
   "metadata": {},
   "outputs": [],
   "source": [
    "driver.get('https://www.cars24.com/buy-used-car?sort=P&storeCityId=2&pinId=110001')"
   ]
  },
  {
   "cell_type": "code",
   "execution_count": 4,
   "id": "d85892f4",
   "metadata": {},
   "outputs": [],
   "source": [
    "url = []\n",
    "for i in driver.find_elements_by_xpath(\"//div[@class= 'col-4']/a\"):\n",
    "    url.append(i.get_attribute('href'))"
   ]
  },
  {
   "cell_type": "code",
   "execution_count": 6,
   "id": "40514b2e",
   "metadata": {},
   "outputs": [
    {
     "data": {
      "text/plain": [
       "722"
      ]
     },
     "execution_count": 6,
     "metadata": {},
     "output_type": "execute_result"
    }
   ],
   "source": [
    "len(url)"
   ]
  },
  {
   "cell_type": "code",
   "execution_count": 7,
   "id": "67b375b1",
   "metadata": {},
   "outputs": [],
   "source": [
    "name = []\n",
    "fuel = []\n",
    "kilo = []\n",
    "owner = []\n",
    "location = []\n",
    "price = []\n",
    "for i in url:\n",
    "    driver.get(i)\n",
    "    time.sleep(2)\n",
    "    try:\n",
    "        na = driver.find_element_by_xpath(\"//h2[@class= '_2geSF']\")\n",
    "        name.append(na.text.replace(\"/n\",\"new line\"))\n",
    "    except:\n",
    "        name.append(\"-\")\n",
    "        \n",
    "    try:\n",
    "        ki = driver.find_element_by_xpath(\"//ul[@class= '_2tp8h']/li[1]\")\n",
    "        kilo.append(ki.text.replace(\"/n\",\"new line\"))\n",
    "    except:\n",
    "        kilo.append(\"-\")\n",
    "        \n",
    "    try:\n",
    "        fu = driver.find_element_by_xpath(\"//ul[@class= '_2tp8h']/li[3]\")\n",
    "        fuel.append(fu.text.replace(\"/n\",\"new line\"))\n",
    "    except:\n",
    "        fuel.append(\"-\")\n",
    "        \n",
    "    try:\n",
    "        ow = driver.find_element_by_xpath(\"//ul[@class= '_2tp8h']/li[5]\")\n",
    "        owner.append(ow.text.replace(\"/n\",\"new line\"))\n",
    "    except:\n",
    "        owner.append(\"-\")\n",
    "        \n",
    "    try:\n",
    "        lo = driver.find_element_by_xpath(\"//p[@class= '_2NHUv']/span\")\n",
    "        location.append(lo.text.replace(\"/n\",\"new line\"))\n",
    "    except:\n",
    "        location.append(\"-\")\n",
    "        \n",
    "    try:\n",
    "        pr = driver.find_element_by_xpath(\"//strong[@class= '_2yYvS Wqfj6']\")\n",
    "        price.append(pr.text.replace(\"/n\",\"new line\"))\n",
    "    except:\n",
    "        price.append(\"-\")"
   ]
  },
  {
   "cell_type": "code",
   "execution_count": 14,
   "id": "74a34297",
   "metadata": {},
   "outputs": [],
   "source": [
    "pri = []\n",
    "for i in price:\n",
    "    i = i[-9:]\n",
    "    pri.append(i)"
   ]
  },
  {
   "cell_type": "code",
   "execution_count": 16,
   "id": "2aaa812a",
   "metadata": {},
   "outputs": [
    {
     "data": {
      "text/plain": [
       "722"
      ]
     },
     "execution_count": 16,
     "metadata": {},
     "output_type": "execute_result"
    }
   ],
   "source": [
    "len(pri)"
   ]
  },
  {
   "cell_type": "code",
   "execution_count": 25,
   "id": "d94e9bd6",
   "metadata": {},
   "outputs": [
    {
     "data": {
      "text/plain": [
       "722"
      ]
     },
     "execution_count": 25,
     "metadata": {},
     "output_type": "execute_result"
    }
   ],
   "source": [
    "len(name)"
   ]
  },
  {
   "cell_type": "code",
   "execution_count": 18,
   "id": "78709925",
   "metadata": {},
   "outputs": [],
   "source": [
    "year = []\n",
    "for i in name:\n",
    "    i = i[:4]\n",
    "    year.append(i)"
   ]
  },
  {
   "cell_type": "code",
   "execution_count": 20,
   "id": "42d4a9e7",
   "metadata": {},
   "outputs": [],
   "source": [
    "brand = []\n",
    "for i in name:\n",
    "    i = i[5:11]\n",
    "    brand.append(i)"
   ]
  },
  {
   "cell_type": "code",
   "execution_count": 22,
   "id": "0d8efd8f",
   "metadata": {},
   "outputs": [],
   "source": [
    "model = []\n",
    "for i in name:\n",
    "    i = i[12:23]\n",
    "    model.append(i)"
   ]
  },
  {
   "cell_type": "code",
   "execution_count": 24,
   "id": "ef318d6d",
   "metadata": {},
   "outputs": [
    {
     "data": {
      "text/plain": [
       "722"
      ]
     },
     "execution_count": 24,
     "metadata": {},
     "output_type": "execute_result"
    }
   ],
   "source": [
    "len(model)"
   ]
  },
  {
   "cell_type": "code",
   "execution_count": 26,
   "id": "753a00f4",
   "metadata": {},
   "outputs": [
    {
     "data": {
      "text/plain": [
       "722"
      ]
     },
     "execution_count": 26,
     "metadata": {},
     "output_type": "execute_result"
    }
   ],
   "source": [
    "len(year)"
   ]
  },
  {
   "cell_type": "code",
   "execution_count": 27,
   "id": "4d3a3b5b",
   "metadata": {},
   "outputs": [
    {
     "data": {
      "text/plain": [
       "722"
      ]
     },
     "execution_count": 27,
     "metadata": {},
     "output_type": "execute_result"
    }
   ],
   "source": [
    "len(brand)"
   ]
  },
  {
   "cell_type": "code",
   "execution_count": 28,
   "id": "5767ca4b",
   "metadata": {},
   "outputs": [
    {
     "data": {
      "text/plain": [
       "722"
      ]
     },
     "execution_count": 28,
     "metadata": {},
     "output_type": "execute_result"
    }
   ],
   "source": [
    "len(fuel)"
   ]
  },
  {
   "cell_type": "code",
   "execution_count": 29,
   "id": "55d4ae6b",
   "metadata": {},
   "outputs": [
    {
     "data": {
      "text/plain": [
       "722"
      ]
     },
     "execution_count": 29,
     "metadata": {},
     "output_type": "execute_result"
    }
   ],
   "source": [
    "len(kilo)"
   ]
  },
  {
   "cell_type": "code",
   "execution_count": 30,
   "id": "5573926e",
   "metadata": {},
   "outputs": [
    {
     "data": {
      "text/plain": [
       "722"
      ]
     },
     "execution_count": 30,
     "metadata": {},
     "output_type": "execute_result"
    }
   ],
   "source": [
    "len(owner)"
   ]
  },
  {
   "cell_type": "code",
   "execution_count": 31,
   "id": "10738cc3",
   "metadata": {},
   "outputs": [
    {
     "data": {
      "text/plain": [
       "722"
      ]
     },
     "execution_count": 31,
     "metadata": {},
     "output_type": "execute_result"
    }
   ],
   "source": [
    "len(location)"
   ]
  },
  {
   "cell_type": "code",
   "execution_count": 32,
   "id": "acc0a70e",
   "metadata": {},
   "outputs": [],
   "source": [
    "car8 = pd.DataFrame({'Brand': brand, 'Model': model, 'Year': year, 'Fuel': fuel, 'Driven Kilometers': kilo, 'Owner': owner,\n",
    "                    'Location': location, 'Price': pri})"
   ]
  },
  {
   "cell_type": "code",
   "execution_count": 34,
   "id": "8e6b8d2d",
   "metadata": {},
   "outputs": [],
   "source": [
    "car8 = car8.to_csv('car8.csv')"
   ]
  },
  {
   "cell_type": "code",
   "execution_count": 36,
   "id": "aaee9690",
   "metadata": {},
   "outputs": [],
   "source": [
    "driver.get('https://www.cars24.com/buy-used-car?sort=P&storeCityId=2378&pinId=400001')"
   ]
  },
  {
   "cell_type": "code",
   "execution_count": 37,
   "id": "b9e9744e",
   "metadata": {},
   "outputs": [],
   "source": [
    "url = []\n",
    "for i in driver.find_elements_by_xpath(\"//div[@class= 'col-4']/a\"):\n",
    "    url.append(i.get_attribute('href'))"
   ]
  },
  {
   "cell_type": "code",
   "execution_count": 39,
   "id": "88577b05",
   "metadata": {},
   "outputs": [
    {
     "data": {
      "text/plain": [
       "661"
      ]
     },
     "execution_count": 39,
     "metadata": {},
     "output_type": "execute_result"
    }
   ],
   "source": [
    "len(url)"
   ]
  },
  {
   "cell_type": "code",
   "execution_count": 40,
   "id": "4dfe7acd",
   "metadata": {},
   "outputs": [],
   "source": [
    "name = []\n",
    "fuel = []\n",
    "kilo = []\n",
    "owner = []\n",
    "location = []\n",
    "price = []\n",
    "for i in url:\n",
    "    driver.get(i)\n",
    "    time.sleep(2)\n",
    "    try:\n",
    "        na = driver.find_element_by_xpath(\"//h2[@class= '_2geSF']\")\n",
    "        name.append(na.text.replace(\"/n\",\"new line\"))\n",
    "    except:\n",
    "        name.append(\"-\")\n",
    "        \n",
    "    try:\n",
    "        ki = driver.find_element_by_xpath(\"//ul[@class= '_2tp8h']/li[1]\")\n",
    "        kilo.append(ki.text.replace(\"/n\",\"new line\"))\n",
    "    except:\n",
    "        kilo.append(\"-\")\n",
    "        \n",
    "    try:\n",
    "        fu = driver.find_element_by_xpath(\"//ul[@class= '_2tp8h']/li[3]\")\n",
    "        fuel.append(fu.text.replace(\"/n\",\"new line\"))\n",
    "    except:\n",
    "        fuel.append(\"-\")\n",
    "        \n",
    "    try:\n",
    "        ow = driver.find_element_by_xpath(\"//ul[@class= '_2tp8h']/li[5]\")\n",
    "        owner.append(ow.text.replace(\"/n\",\"new line\"))\n",
    "    except:\n",
    "        owner.append(\"-\")\n",
    "        \n",
    "    try:\n",
    "        lo = driver.find_element_by_xpath(\"//p[@class= '_2NHUv']/span\")\n",
    "        location.append(lo.text.replace(\"/n\",\"new line\"))\n",
    "    except:\n",
    "        location.append(\"-\")\n",
    "        \n",
    "    try:\n",
    "        pr = driver.find_element_by_xpath(\"//strong[@class= '_2yYvS Wqfj6']\")\n",
    "        price.append(pr.text.replace(\"/n\",\"new line\"))\n",
    "    except:\n",
    "        price.append(\"-\")    "
   ]
  },
  {
   "cell_type": "code",
   "execution_count": 51,
   "id": "c73747f4",
   "metadata": {},
   "outputs": [],
   "source": [
    "pri = []\n",
    "for i in price:\n",
    "    i = i[-9:]\n",
    "    pri.append(i)"
   ]
  },
  {
   "cell_type": "code",
   "execution_count": 53,
   "id": "cf711950",
   "metadata": {},
   "outputs": [
    {
     "data": {
      "text/plain": [
       "661"
      ]
     },
     "execution_count": 53,
     "metadata": {},
     "output_type": "execute_result"
    }
   ],
   "source": [
    "len(pri)"
   ]
  },
  {
   "cell_type": "code",
   "execution_count": 63,
   "id": "d4ee548e",
   "metadata": {},
   "outputs": [
    {
     "data": {
      "text/plain": [
       "661"
      ]
     },
     "execution_count": 63,
     "metadata": {},
     "output_type": "execute_result"
    }
   ],
   "source": [
    "len(name)"
   ]
  },
  {
   "cell_type": "code",
   "execution_count": 55,
   "id": "a059faff",
   "metadata": {},
   "outputs": [],
   "source": [
    "year = []\n",
    "for i in name:\n",
    "    i = i[:4]\n",
    "    year.append(i)"
   ]
  },
  {
   "cell_type": "code",
   "execution_count": 57,
   "id": "90551720",
   "metadata": {},
   "outputs": [],
   "source": [
    "brand = []\n",
    "for i in name:\n",
    "    i = i[5:12]\n",
    "    brand.append(i)"
   ]
  },
  {
   "cell_type": "code",
   "execution_count": 61,
   "id": "7f3f1864",
   "metadata": {},
   "outputs": [],
   "source": [
    "model = []\n",
    "for i in name:\n",
    "    i = i[12:23]\n",
    "    model.append(i)"
   ]
  },
  {
   "cell_type": "code",
   "execution_count": 64,
   "id": "f04a8579",
   "metadata": {},
   "outputs": [
    {
     "data": {
      "text/plain": [
       "661"
      ]
     },
     "execution_count": 64,
     "metadata": {},
     "output_type": "execute_result"
    }
   ],
   "source": [
    "len(year)"
   ]
  },
  {
   "cell_type": "code",
   "execution_count": 65,
   "id": "510f8546",
   "metadata": {},
   "outputs": [
    {
     "data": {
      "text/plain": [
       "661"
      ]
     },
     "execution_count": 65,
     "metadata": {},
     "output_type": "execute_result"
    }
   ],
   "source": [
    "len(brand)"
   ]
  },
  {
   "cell_type": "code",
   "execution_count": 66,
   "id": "b8ac0ea7",
   "metadata": {},
   "outputs": [
    {
     "data": {
      "text/plain": [
       "661"
      ]
     },
     "execution_count": 66,
     "metadata": {},
     "output_type": "execute_result"
    }
   ],
   "source": [
    "len(model)"
   ]
  },
  {
   "cell_type": "code",
   "execution_count": 68,
   "id": "70a2fa7b",
   "metadata": {},
   "outputs": [
    {
     "data": {
      "text/plain": [
       "661"
      ]
     },
     "execution_count": 68,
     "metadata": {},
     "output_type": "execute_result"
    }
   ],
   "source": [
    "len(owner)"
   ]
  },
  {
   "cell_type": "code",
   "execution_count": 70,
   "id": "90f7968b",
   "metadata": {},
   "outputs": [
    {
     "data": {
      "text/plain": [
       "661"
      ]
     },
     "execution_count": 70,
     "metadata": {},
     "output_type": "execute_result"
    }
   ],
   "source": [
    "len(fuel)"
   ]
  },
  {
   "cell_type": "code",
   "execution_count": 72,
   "id": "367fd7da",
   "metadata": {},
   "outputs": [
    {
     "data": {
      "text/plain": [
       "661"
      ]
     },
     "execution_count": 72,
     "metadata": {},
     "output_type": "execute_result"
    }
   ],
   "source": [
    "len(kilo)"
   ]
  },
  {
   "cell_type": "code",
   "execution_count": 74,
   "id": "0bb282d6",
   "metadata": {},
   "outputs": [
    {
     "data": {
      "text/plain": [
       "661"
      ]
     },
     "execution_count": 74,
     "metadata": {},
     "output_type": "execute_result"
    }
   ],
   "source": [
    "len(location)"
   ]
  },
  {
   "cell_type": "code",
   "execution_count": null,
   "id": "6ffd256c",
   "metadata": {},
   "outputs": [],
   "source": [
    "car9 = pd.DataFrame({'Brand': brand, 'Model': model, 'Year': year, 'Fuel': fuel, 'Driven Kilometers': kilo, 'Owner': owner,\n",
    "                    'Location': location, 'Price': pri})"
   ]
  },
  {
   "cell_type": "code",
   "execution_count": null,
   "id": "8c2a0e81",
   "metadata": {},
   "outputs": [],
   "source": [
    "car9 = car9.to_csv('car9.csv')"
   ]
  },
  {
   "cell_type": "code",
   "execution_count": 9,
   "id": "2cc11bc6",
   "metadata": {},
   "outputs": [],
   "source": [
    "driver.get('https://www.cars24.com/buy-used-car?sort=P&storeCityId=2423&pinId=411001')"
   ]
  },
  {
   "cell_type": "code",
   "execution_count": 10,
   "id": "40eaae6f",
   "metadata": {},
   "outputs": [],
   "source": [
    "url = []\n",
    "for i in driver.find_elements_by_xpath(\"//div[@class= 'col-4']/a\"):\n",
    "    url.append(i.get_attribute('href'))"
   ]
  },
  {
   "cell_type": "code",
   "execution_count": 11,
   "id": "3e1b16c9",
   "metadata": {},
   "outputs": [
    {
     "data": {
      "text/plain": [
       "1140"
      ]
     },
     "execution_count": 11,
     "metadata": {},
     "output_type": "execute_result"
    }
   ],
   "source": [
    "len(url)"
   ]
  },
  {
   "cell_type": "code",
   "execution_count": 12,
   "id": "786cf609",
   "metadata": {},
   "outputs": [],
   "source": [
    "name = []\n",
    "fuel = []\n",
    "kilo = []\n",
    "owner = []\n",
    "location = []\n",
    "price = []\n",
    "for i in url:\n",
    "    driver.get(i)\n",
    "    time.sleep(2)\n",
    "    try:\n",
    "        na = driver.find_element_by_xpath(\"//h2[@class= '_2geSF']\")\n",
    "        name.append(na.text.replace(\"/n\",\"new line\"))\n",
    "    except:\n",
    "        name.append(\"-\")\n",
    "        \n",
    "    try:\n",
    "        ki = driver.find_element_by_xpath(\"//ul[@class= '_2tp8h']/li[1]\")\n",
    "        kilo.append(ki.text.replace(\"/n\",\"new line\"))\n",
    "    except:\n",
    "        kilo.append(\"-\")\n",
    "        \n",
    "    try:\n",
    "        fu = driver.find_element_by_xpath(\"//ul[@class= '_2tp8h']/li[3]\")\n",
    "        fuel.append(fu.text.replace(\"/n\",\"new line\"))\n",
    "    except:\n",
    "        fuel.append(\"-\")\n",
    "        \n",
    "    try:\n",
    "        ow = driver.find_element_by_xpath(\"//ul[@class= '_2tp8h']/li[5]\")\n",
    "        owner.append(ow.text.replace(\"/n\",\"new line\"))\n",
    "    except:\n",
    "        owner.append(\"-\")\n",
    "        \n",
    "    try:\n",
    "        lo = driver.find_element_by_xpath(\"//p[@class= '_2NHUv']/span\")\n",
    "        location.append(lo.text.replace(\"/n\",\"new line\"))\n",
    "    except:\n",
    "        location.append(\"-\")\n",
    "        \n",
    "    try:\n",
    "        pr = driver.find_element_by_xpath(\"//strong[@class= '_2yYvS Wqfj6']\")\n",
    "        price.append(pr.text.replace(\"/n\",\"new line\"))\n",
    "    except:\n",
    "        price.append(\"-\")"
   ]
  },
  {
   "cell_type": "code",
   "execution_count": 43,
   "id": "de069102",
   "metadata": {},
   "outputs": [
    {
     "data": {
      "text/plain": [
       "1140"
      ]
     },
     "execution_count": 43,
     "metadata": {},
     "output_type": "execute_result"
    }
   ],
   "source": [
    "len(price)"
   ]
  },
  {
   "cell_type": "code",
   "execution_count": 19,
   "id": "cb691765",
   "metadata": {},
   "outputs": [],
   "source": [
    "pri = []\n",
    "for i in price:\n",
    "    i = i[-9:]\n",
    "    pri.append(i)"
   ]
  },
  {
   "cell_type": "code",
   "execution_count": 21,
   "id": "1b3eee4d",
   "metadata": {},
   "outputs": [
    {
     "data": {
      "text/plain": [
       "1140"
      ]
     },
     "execution_count": 21,
     "metadata": {},
     "output_type": "execute_result"
    }
   ],
   "source": [
    "len(pri)"
   ]
  },
  {
   "cell_type": "code",
   "execution_count": 42,
   "id": "f29bbbad",
   "metadata": {},
   "outputs": [
    {
     "data": {
      "text/plain": [
       "1140"
      ]
     },
     "execution_count": 42,
     "metadata": {},
     "output_type": "execute_result"
    }
   ],
   "source": [
    "len(name)"
   ]
  },
  {
   "cell_type": "code",
   "execution_count": 23,
   "id": "2f919c57",
   "metadata": {},
   "outputs": [],
   "source": [
    "year = []\n",
    "for i in name:\n",
    "    i = i[:4]\n",
    "    year.append(i)"
   ]
  },
  {
   "cell_type": "code",
   "execution_count": 25,
   "id": "13381aa9",
   "metadata": {},
   "outputs": [],
   "source": [
    "brand = []\n",
    "for i in name:\n",
    "    i = i[5:12]\n",
    "    brand.append(i)"
   ]
  },
  {
   "cell_type": "code",
   "execution_count": 29,
   "id": "8a765b8b",
   "metadata": {},
   "outputs": [],
   "source": [
    "model = []\n",
    "for i in name:\n",
    "    i = i[12:23]\n",
    "    model.append(i)"
   ]
  },
  {
   "cell_type": "code",
   "execution_count": 31,
   "id": "0664687e",
   "metadata": {},
   "outputs": [
    {
     "data": {
      "text/plain": [
       "1140"
      ]
     },
     "execution_count": 31,
     "metadata": {},
     "output_type": "execute_result"
    }
   ],
   "source": [
    "len(year)"
   ]
  },
  {
   "cell_type": "code",
   "execution_count": 32,
   "id": "65d7829e",
   "metadata": {},
   "outputs": [
    {
     "data": {
      "text/plain": [
       "1140"
      ]
     },
     "execution_count": 32,
     "metadata": {},
     "output_type": "execute_result"
    }
   ],
   "source": [
    "len(model)"
   ]
  },
  {
   "cell_type": "code",
   "execution_count": 33,
   "id": "26f56ed0",
   "metadata": {},
   "outputs": [
    {
     "data": {
      "text/plain": [
       "1140"
      ]
     },
     "execution_count": 33,
     "metadata": {},
     "output_type": "execute_result"
    }
   ],
   "source": [
    "len(brand)"
   ]
  },
  {
   "cell_type": "code",
   "execution_count": 35,
   "id": "0f169967",
   "metadata": {},
   "outputs": [
    {
     "data": {
      "text/plain": [
       "1140"
      ]
     },
     "execution_count": 35,
     "metadata": {},
     "output_type": "execute_result"
    }
   ],
   "source": [
    "len(kilo)"
   ]
  },
  {
   "cell_type": "code",
   "execution_count": 37,
   "id": "d7c628df",
   "metadata": {},
   "outputs": [
    {
     "data": {
      "text/plain": [
       "1140"
      ]
     },
     "execution_count": 37,
     "metadata": {},
     "output_type": "execute_result"
    }
   ],
   "source": [
    "len(fuel)"
   ]
  },
  {
   "cell_type": "code",
   "execution_count": 39,
   "id": "a183f799",
   "metadata": {},
   "outputs": [
    {
     "data": {
      "text/plain": [
       "1140"
      ]
     },
     "execution_count": 39,
     "metadata": {},
     "output_type": "execute_result"
    }
   ],
   "source": [
    "len(owner)"
   ]
  },
  {
   "cell_type": "code",
   "execution_count": 41,
   "id": "51038b46",
   "metadata": {},
   "outputs": [
    {
     "data": {
      "text/plain": [
       "1140"
      ]
     },
     "execution_count": 41,
     "metadata": {},
     "output_type": "execute_result"
    }
   ],
   "source": [
    "len(location)"
   ]
  },
  {
   "cell_type": "code",
   "execution_count": 44,
   "id": "c9a01f3b",
   "metadata": {},
   "outputs": [],
   "source": [
    "car10 = pd.DataFrame({'Brand': brand, 'Model': model, 'Year': year, 'Fuel': fuel, 'Driven Kilometers': kilo, 'Owner': owner,\n",
    "                    'Location': location, 'Price': pri})"
   ]
  },
  {
   "cell_type": "code",
   "execution_count": 46,
   "id": "7a7e1189",
   "metadata": {},
   "outputs": [],
   "source": [
    "car10 = car10.to_csv('car10.csv')"
   ]
  },
  {
   "cell_type": "code",
   "execution_count": 3,
   "id": "7730ebb1",
   "metadata": {},
   "outputs": [],
   "source": [
    "driver.get('https://www.cars24.com/buy-used-car?sort=P&storeCityId=5732&pinId=600001')"
   ]
  },
  {
   "cell_type": "code",
   "execution_count": 4,
   "id": "6bb0cd47",
   "metadata": {},
   "outputs": [],
   "source": [
    "url = []\n",
    "for i in driver.find_elements_by_xpath(\"//div[@class= 'col-4']/a\"):\n",
    "    url.append(i.get_attribute(\"href\"))"
   ]
  },
  {
   "cell_type": "code",
   "execution_count": 6,
   "id": "29965e04",
   "metadata": {},
   "outputs": [
    {
     "data": {
      "text/plain": [
       "653"
      ]
     },
     "execution_count": 6,
     "metadata": {},
     "output_type": "execute_result"
    }
   ],
   "source": [
    "len(url)"
   ]
  },
  {
   "cell_type": "code",
   "execution_count": 8,
   "id": "dcfff664",
   "metadata": {},
   "outputs": [],
   "source": [
    "name = []\n",
    "fuel = []\n",
    "kilo = []\n",
    "owner = []\n",
    "location = []\n",
    "price = []\n",
    "for i in url:\n",
    "    driver.get(i)\n",
    "    time.sleep(2)\n",
    "    try:\n",
    "        na = driver.find_element_by_xpath(\"//h2[@class= '_2geSF']\")\n",
    "        name.append(na.text.replace(\"/n\",\"new line\"))\n",
    "    except:\n",
    "        name.append(\"-\")\n",
    "        \n",
    "    try:\n",
    "        fu = driver.find_element_by_xpath(\"//ul[@class= '_2tp8h']/li[1]\")\n",
    "        fuel.append(fu.text.replace(\"/n\",\"new line\"))\n",
    "    except:\n",
    "        fuel.append(\"-\")\n",
    "        \n",
    "    try:\n",
    "        ki = driver.find_element_by_xpath(\"//ul[@class= '_2tp8h']/li[3]\")\n",
    "        kilo.append(ki.text.replace(\"/n\",\"new line\"))\n",
    "    except:\n",
    "        kilo.append(\"-\")\n",
    "        \n",
    "    try:\n",
    "        ow = driver.find_element_by_xpath(\"//ul[@class= '_2tp8h']/li[5]\")\n",
    "        owner.append(ow.text.replace(\"/n\",\"new line\"))\n",
    "    except:\n",
    "        owner.append(\"-\")\n",
    "        \n",
    "    try:\n",
    "        lo = driver.find_element_by_xpath(\"//p[@class= '_2NHUv']/span\")\n",
    "        location.append(lo.text.replace(\"/n\",\"new line\"))\n",
    "    except:\n",
    "        location.append(\"-\")\n",
    "        \n",
    "    try:\n",
    "        pr = driver.find_element_by_xpath(\"//strong[@class= '_2yYvS Wqfj6']\")\n",
    "        price.append(pr.text.replace(\"/n\",\"new line\"))\n",
    "    except:\n",
    "        price.append(\"-\")"
   ]
  },
  {
   "cell_type": "code",
   "execution_count": 12,
   "id": "c00eeaa1",
   "metadata": {},
   "outputs": [
    {
     "data": {
      "text/plain": [
       "653"
      ]
     },
     "execution_count": 12,
     "metadata": {},
     "output_type": "execute_result"
    }
   ],
   "source": [
    "len(price)"
   ]
  },
  {
   "cell_type": "code",
   "execution_count": 10,
   "id": "46815118",
   "metadata": {},
   "outputs": [],
   "source": [
    "pri = []\n",
    "for i in price:\n",
    "    i = i[-9:]\n",
    "    pri.append(i)"
   ]
  },
  {
   "cell_type": "code",
   "execution_count": 13,
   "id": "0e122345",
   "metadata": {},
   "outputs": [
    {
     "data": {
      "text/plain": [
       "653"
      ]
     },
     "execution_count": 13,
     "metadata": {},
     "output_type": "execute_result"
    }
   ],
   "source": [
    "len(pri)"
   ]
  },
  {
   "cell_type": "code",
   "execution_count": 37,
   "id": "9e119e87",
   "metadata": {},
   "outputs": [
    {
     "data": {
      "text/plain": [
       "653"
      ]
     },
     "execution_count": 37,
     "metadata": {},
     "output_type": "execute_result"
    }
   ],
   "source": [
    "len(name)"
   ]
  },
  {
   "cell_type": "code",
   "execution_count": 15,
   "id": "2c66b8ea",
   "metadata": {},
   "outputs": [],
   "source": [
    "year = []\n",
    "for i in name:\n",
    "    i = i[:4]\n",
    "    year.append(i)"
   ]
  },
  {
   "cell_type": "code",
   "execution_count": 16,
   "id": "96c6a299",
   "metadata": {},
   "outputs": [],
   "source": [
    "brand = []\n",
    "for i in name:\n",
    "    i = i[5:12]\n",
    "    brand.append(i)"
   ]
  },
  {
   "cell_type": "code",
   "execution_count": 21,
   "id": "c1aba71e",
   "metadata": {},
   "outputs": [],
   "source": [
    "model = []\n",
    "for i in name:\n",
    "    i = i[12:20]\n",
    "    model.append(i)"
   ]
  },
  {
   "cell_type": "code",
   "execution_count": 23,
   "id": "e86eb6da",
   "metadata": {},
   "outputs": [
    {
     "data": {
      "text/plain": [
       "653"
      ]
     },
     "execution_count": 23,
     "metadata": {},
     "output_type": "execute_result"
    }
   ],
   "source": [
    "len(model)"
   ]
  },
  {
   "cell_type": "code",
   "execution_count": 24,
   "id": "792b566b",
   "metadata": {},
   "outputs": [
    {
     "data": {
      "text/plain": [
       "653"
      ]
     },
     "execution_count": 24,
     "metadata": {},
     "output_type": "execute_result"
    }
   ],
   "source": [
    "len(year)"
   ]
  },
  {
   "cell_type": "code",
   "execution_count": 25,
   "id": "63d60047",
   "metadata": {},
   "outputs": [
    {
     "data": {
      "text/plain": [
       "653"
      ]
     },
     "execution_count": 25,
     "metadata": {},
     "output_type": "execute_result"
    }
   ],
   "source": [
    "len(brand)"
   ]
  },
  {
   "cell_type": "code",
   "execution_count": 28,
   "id": "772209a4",
   "metadata": {},
   "outputs": [
    {
     "data": {
      "text/plain": [
       "653"
      ]
     },
     "execution_count": 28,
     "metadata": {},
     "output_type": "execute_result"
    }
   ],
   "source": [
    "fue = kilo\n",
    "len(fue)"
   ]
  },
  {
   "cell_type": "code",
   "execution_count": 32,
   "id": "95e47a97",
   "metadata": {},
   "outputs": [
    {
     "data": {
      "text/plain": [
       "653"
      ]
     },
     "execution_count": 32,
     "metadata": {},
     "output_type": "execute_result"
    }
   ],
   "source": [
    "kil = fuel\n",
    "len(kil)"
   ]
  },
  {
   "cell_type": "code",
   "execution_count": 34,
   "id": "af43f156",
   "metadata": {},
   "outputs": [
    {
     "data": {
      "text/plain": [
       "653"
      ]
     },
     "execution_count": 34,
     "metadata": {},
     "output_type": "execute_result"
    }
   ],
   "source": [
    "len(owner) "
   ]
  },
  {
   "cell_type": "code",
   "execution_count": 36,
   "id": "a32eae8d",
   "metadata": {},
   "outputs": [
    {
     "data": {
      "text/plain": [
       "653"
      ]
     },
     "execution_count": 36,
     "metadata": {},
     "output_type": "execute_result"
    }
   ],
   "source": [
    "len(location)"
   ]
  },
  {
   "cell_type": "code",
   "execution_count": 38,
   "id": "d5c49fec",
   "metadata": {},
   "outputs": [],
   "source": [
    "car11 = pd.DataFrame({'Brand': brand, 'Model': model, 'Year': year, 'Fuel': fue, 'Driven Kilometers': kil, 'Owner': owner,\n",
    "                    'Location': location, 'Price': pri})"
   ]
  },
  {
   "cell_type": "code",
   "execution_count": 40,
   "id": "f608a6d0",
   "metadata": {},
   "outputs": [],
   "source": [
    "car11 = car11.to_csv('car11.csv')"
   ]
  },
  {
   "cell_type": "code",
   "execution_count": 42,
   "id": "6340e1eb",
   "metadata": {},
   "outputs": [],
   "source": [
    "driver.get('https://www.cars24.com/buy-used-car?sort=P&storeCityId=4709&pinId=560001')"
   ]
  },
  {
   "cell_type": "code",
   "execution_count": 43,
   "id": "f1be1b88",
   "metadata": {},
   "outputs": [],
   "source": [
    "url = []\n",
    "for i in driver.find_elements_by_xpath(\"//div[@class= 'col-4']/a\"):\n",
    "    url.append(i.get_attribute('href'))"
   ]
  },
  {
   "cell_type": "code",
   "execution_count": 45,
   "id": "1ece6e1e",
   "metadata": {},
   "outputs": [
    {
     "data": {
      "text/plain": [
       "480"
      ]
     },
     "execution_count": 45,
     "metadata": {},
     "output_type": "execute_result"
    }
   ],
   "source": [
    "len(url)"
   ]
  },
  {
   "cell_type": "code",
   "execution_count": 46,
   "id": "df80b984",
   "metadata": {},
   "outputs": [],
   "source": [
    "name = []\n",
    "fuel = []\n",
    "kilo = []\n",
    "owner = []\n",
    "location = []\n",
    "price = []\n",
    "for i in url:\n",
    "    driver.get(i)\n",
    "    time.sleep(2)\n",
    "    try:\n",
    "        na = driver.find_element_by_xpath(\"//h2[@class= '_2geSF']\")\n",
    "        name.append(na.text.replace(\"/n\",\"new line\"))\n",
    "    except:\n",
    "        name.append(\"-\")\n",
    "        \n",
    "    try:\n",
    "        ki = driver.find_element_by_xpath(\"//ul[@class= '_2tp8h']/li[1]\")\n",
    "        kilo.append(ki.text.replace(\"/n\",\"new line\"))\n",
    "    except:\n",
    "        kilo.append(\"-\")\n",
    "        \n",
    "    try:\n",
    "        fu = driver.find_element_by_xpath(\"//ul[@class= '_2tp8h']/li[3]\")\n",
    "        fuel.append(fu.text.replace(\"/n\",\"new line\"))\n",
    "    except:\n",
    "        fuel.append(\"-\")\n",
    "        \n",
    "    try:\n",
    "        ow = driver.find_element_by_xpath(\"//ul[@class= '_2tp8h']/li[5]\")\n",
    "        owner.append(ow.text.replace(\"/n\",\"new line\"))\n",
    "    except:\n",
    "        owner.append(\"-\")\n",
    "        \n",
    "    try:\n",
    "        lo = driver.find_element_by_xpath(\"//p[@class= '_2NHUv']/span\")\n",
    "        location.append(lo.text.replace(\"/n\",\"new line\"))\n",
    "    except:\n",
    "        location.append(\"-\")\n",
    "        \n",
    "    try:\n",
    "        pr = driver.find_element_by_xpath(\"//strong[@class= '_2yYvS Wqfj6']\")\n",
    "        price.append(pr.text.replace(\"/n\",\"new line\"))\n",
    "    except:\n",
    "        price.append(\"-\")"
   ]
  },
  {
   "cell_type": "code",
   "execution_count": 48,
   "id": "4982396d",
   "metadata": {},
   "outputs": [
    {
     "data": {
      "text/plain": [
       "480"
      ]
     },
     "execution_count": 48,
     "metadata": {},
     "output_type": "execute_result"
    }
   ],
   "source": [
    "len(price)"
   ]
  },
  {
   "cell_type": "code",
   "execution_count": 49,
   "id": "06d60ebd",
   "metadata": {},
   "outputs": [],
   "source": [
    "pri = []\n",
    "for i in price:\n",
    "    i = i[-9:]\n",
    "    pri.append(i)"
   ]
  },
  {
   "cell_type": "code",
   "execution_count": 51,
   "id": "b1119cb7",
   "metadata": {},
   "outputs": [
    {
     "data": {
      "text/plain": [
       "480"
      ]
     },
     "execution_count": 51,
     "metadata": {},
     "output_type": "execute_result"
    }
   ],
   "source": [
    "len(pri)"
   ]
  },
  {
   "cell_type": "code",
   "execution_count": 73,
   "id": "4557f267",
   "metadata": {},
   "outputs": [
    {
     "data": {
      "text/plain": [
       "480"
      ]
     },
     "execution_count": 73,
     "metadata": {},
     "output_type": "execute_result"
    }
   ],
   "source": [
    "len(name)"
   ]
  },
  {
   "cell_type": "code",
   "execution_count": 53,
   "id": "b0cc7053",
   "metadata": {},
   "outputs": [],
   "source": [
    "year = []\n",
    "for i in name:\n",
    "    i = i[:4]\n",
    "    year.append(i)"
   ]
  },
  {
   "cell_type": "code",
   "execution_count": 55,
   "id": "6aec2fab",
   "metadata": {},
   "outputs": [],
   "source": [
    "brand = []\n",
    "for i in name:\n",
    "    i = i[5:12]\n",
    "    brand.append(i)"
   ]
  },
  {
   "cell_type": "code",
   "execution_count": 59,
   "id": "a345d3af",
   "metadata": {},
   "outputs": [],
   "source": [
    "model = []\n",
    "for i in name:\n",
    "    i = i[12:22]\n",
    "    model.append(i)"
   ]
  },
  {
   "cell_type": "code",
   "execution_count": 61,
   "id": "a2436397",
   "metadata": {},
   "outputs": [
    {
     "data": {
      "text/plain": [
       "480"
      ]
     },
     "execution_count": 61,
     "metadata": {},
     "output_type": "execute_result"
    }
   ],
   "source": [
    "len(year)"
   ]
  },
  {
   "cell_type": "code",
   "execution_count": 62,
   "id": "512a274a",
   "metadata": {},
   "outputs": [
    {
     "data": {
      "text/plain": [
       "480"
      ]
     },
     "execution_count": 62,
     "metadata": {},
     "output_type": "execute_result"
    }
   ],
   "source": [
    "len(brand)"
   ]
  },
  {
   "cell_type": "code",
   "execution_count": 64,
   "id": "9ff73a3b",
   "metadata": {},
   "outputs": [
    {
     "data": {
      "text/plain": [
       "480"
      ]
     },
     "execution_count": 64,
     "metadata": {},
     "output_type": "execute_result"
    }
   ],
   "source": [
    "len(model)"
   ]
  },
  {
   "cell_type": "code",
   "execution_count": 66,
   "id": "c01c479f",
   "metadata": {},
   "outputs": [
    {
     "data": {
      "text/plain": [
       "480"
      ]
     },
     "execution_count": 66,
     "metadata": {},
     "output_type": "execute_result"
    }
   ],
   "source": [
    "len(fuel)"
   ]
  },
  {
   "cell_type": "code",
   "execution_count": 68,
   "id": "caef0ab8",
   "metadata": {},
   "outputs": [
    {
     "data": {
      "text/plain": [
       "480"
      ]
     },
     "execution_count": 68,
     "metadata": {},
     "output_type": "execute_result"
    }
   ],
   "source": [
    "len(kilo)"
   ]
  },
  {
   "cell_type": "code",
   "execution_count": 70,
   "id": "854d6cef",
   "metadata": {},
   "outputs": [
    {
     "data": {
      "text/plain": [
       "480"
      ]
     },
     "execution_count": 70,
     "metadata": {},
     "output_type": "execute_result"
    }
   ],
   "source": [
    "len(owner)"
   ]
  },
  {
   "cell_type": "code",
   "execution_count": 72,
   "id": "e54ffe8c",
   "metadata": {},
   "outputs": [
    {
     "data": {
      "text/plain": [
       "480"
      ]
     },
     "execution_count": 72,
     "metadata": {},
     "output_type": "execute_result"
    }
   ],
   "source": [
    "len(location)"
   ]
  },
  {
   "cell_type": "code",
   "execution_count": 74,
   "id": "5d763453",
   "metadata": {},
   "outputs": [],
   "source": [
    "car12 = pd.DataFrame({'Brand': brand, 'Model': model, 'Year': year, 'Fuel': fuel, 'Driven Kilometers': kilo, 'Owner': owner,\n",
    "                    'Location': location, 'Price': pri})"
   ]
  },
  {
   "cell_type": "code",
   "execution_count": 76,
   "id": "b6c7b0b5",
   "metadata": {},
   "outputs": [],
   "source": [
    "car12 = car12.to_csv('car12.csv')"
   ]
  },
  {
   "cell_type": "code",
   "execution_count": 104,
   "id": "301c10f9",
   "metadata": {},
   "outputs": [],
   "source": [
    "a = pd.read_csv('car1.csv')"
   ]
  },
  {
   "cell_type": "code",
   "execution_count": 105,
   "id": "a6d06806",
   "metadata": {},
   "outputs": [],
   "source": [
    "b = pd.read_csv('car2.csv')"
   ]
  },
  {
   "cell_type": "code",
   "execution_count": 106,
   "id": "64d34c48",
   "metadata": {},
   "outputs": [],
   "source": [
    "c = pd.read_csv('car3.csv')"
   ]
  },
  {
   "cell_type": "code",
   "execution_count": 107,
   "id": "6b8eec29",
   "metadata": {},
   "outputs": [],
   "source": [
    "d = pd.read_csv('car4.csv')"
   ]
  },
  {
   "cell_type": "code",
   "execution_count": 108,
   "id": "7dac1598",
   "metadata": {},
   "outputs": [],
   "source": [
    "e = pd.read_csv('car5.csv')"
   ]
  },
  {
   "cell_type": "code",
   "execution_count": 109,
   "id": "1a0292e1",
   "metadata": {},
   "outputs": [],
   "source": [
    "f = pd.read_csv('car6.csv')"
   ]
  },
  {
   "cell_type": "code",
   "execution_count": 110,
   "id": "47cddfbb",
   "metadata": {},
   "outputs": [],
   "source": [
    "g = pd.read_csv('car7.csv')"
   ]
  },
  {
   "cell_type": "code",
   "execution_count": 111,
   "id": "a01bbc5d",
   "metadata": {},
   "outputs": [],
   "source": [
    "h = pd.read_csv('car8.csv')"
   ]
  },
  {
   "cell_type": "code",
   "execution_count": 112,
   "id": "76d556aa",
   "metadata": {},
   "outputs": [],
   "source": [
    "i = pd.read_csv('car9.csv')"
   ]
  },
  {
   "cell_type": "code",
   "execution_count": 113,
   "id": "090559d4",
   "metadata": {},
   "outputs": [],
   "source": [
    "j = pd.read_csv('car10.csv')"
   ]
  },
  {
   "cell_type": "code",
   "execution_count": 114,
   "id": "14958f95",
   "metadata": {},
   "outputs": [],
   "source": [
    "k = pd.read_csv('car11.csv')"
   ]
  },
  {
   "cell_type": "code",
   "execution_count": 115,
   "id": "23271fc7",
   "metadata": {},
   "outputs": [],
   "source": [
    "l = pd.read_csv('car12.csv')"
   ]
  },
  {
   "cell_type": "code",
   "execution_count": 116,
   "id": "8d73eb0f",
   "metadata": {},
   "outputs": [
    {
     "data": {
      "text/html": [
       "<div>\n",
       "<style scoped>\n",
       "    .dataframe tbody tr th:only-of-type {\n",
       "        vertical-align: middle;\n",
       "    }\n",
       "\n",
       "    .dataframe tbody tr th {\n",
       "        vertical-align: top;\n",
       "    }\n",
       "\n",
       "    .dataframe thead th {\n",
       "        text-align: right;\n",
       "    }\n",
       "</style>\n",
       "<table border=\"1\" class=\"dataframe\">\n",
       "  <thead>\n",
       "    <tr style=\"text-align: right;\">\n",
       "      <th></th>\n",
       "      <th>Unnamed: 0</th>\n",
       "      <th>Brand</th>\n",
       "      <th>Model</th>\n",
       "      <th>Year</th>\n",
       "      <th>Fuel</th>\n",
       "      <th>Driven Kilometers</th>\n",
       "      <th>Owner</th>\n",
       "      <th>Location</th>\n",
       "      <th>Price</th>\n",
       "    </tr>\n",
       "  </thead>\n",
       "  <tbody>\n",
       "    <tr>\n",
       "      <th>0</th>\n",
       "      <td>0</td>\n",
       "      <td>Skoda</td>\n",
       "      <td>Fabia</td>\n",
       "      <td>2009.0</td>\n",
       "      <td>PETROL</td>\n",
       "      <td>86000.0 KM</td>\n",
       "      <td>Owner\\n2nd</td>\n",
       "      <td>Location\\nAnant Nagar, Nagpur</td>\n",
       "      <td>₹ 1,70,000</td>\n",
       "    </tr>\n",
       "    <tr>\n",
       "      <th>1</th>\n",
       "      <td>1</td>\n",
       "      <td>Audi</td>\n",
       "      <td>6</td>\n",
       "      <td>2012.0</td>\n",
       "      <td>DIESEL</td>\n",
       "      <td>50500.0 KM</td>\n",
       "      <td>Owner\\n1st</td>\n",
       "      <td>Location\\nJubilee Hills, Hyderabad</td>\n",
       "      <td>₹ 10,90,000</td>\n",
       "    </tr>\n",
       "    <tr>\n",
       "      <th>2</th>\n",
       "      <td>2</td>\n",
       "      <td>Bmw 5</td>\n",
       "      <td>Series</td>\n",
       "      <td>2015.0</td>\n",
       "      <td>DIESEL</td>\n",
       "      <td>144000.0 KM</td>\n",
       "      <td>Owner\\n1st</td>\n",
       "      <td>Location\\nRS Puram, Coimbatore</td>\n",
       "      <td>₹ 26,00,000</td>\n",
       "    </tr>\n",
       "    <tr>\n",
       "      <th>3</th>\n",
       "      <td>3</td>\n",
       "      <td>Renau</td>\n",
       "      <td>t Duster</td>\n",
       "      <td>2014.0</td>\n",
       "      <td>DIESEL</td>\n",
       "      <td>30000 KM</td>\n",
       "      <td>Owner\\nFirst</td>\n",
       "      <td>Location\\nDr Mukherjee Nagar, Delhi</td>\n",
       "      <td>₹ 4,25,000</td>\n",
       "    </tr>\n",
       "    <tr>\n",
       "      <th>4</th>\n",
       "      <td>4</td>\n",
       "      <td>Chevr</td>\n",
       "      <td>let Beat</td>\n",
       "      <td>2011.0</td>\n",
       "      <td>CNG</td>\n",
       "      <td>120000 KM</td>\n",
       "      <td>Owner\\nSecond</td>\n",
       "      <td>Location\\nSector 74, Noida</td>\n",
       "      <td>₹ 1,50,000</td>\n",
       "    </tr>\n",
       "  </tbody>\n",
       "</table>\n",
       "</div>"
      ],
      "text/plain": [
       "   Unnamed: 0  Brand      Model    Year    Fuel Driven Kilometers  \\\n",
       "0           0  Skoda     Fabia   2009.0  PETROL        86000.0 KM   \n",
       "1           1  Audi          6   2012.0  DIESEL        50500.0 KM   \n",
       "2           2  Bmw 5    Series   2015.0  DIESEL       144000.0 KM   \n",
       "3           3  Renau  t Duster   2014.0  DIESEL          30000 KM   \n",
       "4           4  Chevr  let Beat   2011.0     CNG         120000 KM   \n",
       "\n",
       "           Owner                             Location        Price  \n",
       "0     Owner\\n2nd        Location\\nAnant Nagar, Nagpur   ₹ 1,70,000  \n",
       "1     Owner\\n1st   Location\\nJubilee Hills, Hyderabad  ₹ 10,90,000  \n",
       "2     Owner\\n1st       Location\\nRS Puram, Coimbatore  ₹ 26,00,000  \n",
       "3   Owner\\nFirst  Location\\nDr Mukherjee Nagar, Delhi   ₹ 4,25,000  \n",
       "4  Owner\\nSecond           Location\\nSector 74, Noida   ₹ 1,50,000  "
      ]
     },
     "execution_count": 116,
     "metadata": {},
     "output_type": "execute_result"
    }
   ],
   "source": [
    "used_cars = pd.concat([a,b,c,d,e,f,g,h,i,j,k,l], axis= 0)\n",
    "used_cars.head()"
   ]
  },
  {
   "cell_type": "code",
   "execution_count": 117,
   "id": "8fee32e9",
   "metadata": {},
   "outputs": [],
   "source": [
    "used_cars.drop(['Unnamed: 0'], axis= 1, inplace= True)"
   ]
  },
  {
   "cell_type": "code",
   "execution_count": 118,
   "id": "111c34f3",
   "metadata": {},
   "outputs": [],
   "source": [
    "used_cars = used_cars.reset_index()"
   ]
  },
  {
   "cell_type": "code",
   "execution_count": 119,
   "id": "227427a7",
   "metadata": {},
   "outputs": [
    {
     "data": {
      "text/html": [
       "<div>\n",
       "<style scoped>\n",
       "    .dataframe tbody tr th:only-of-type {\n",
       "        vertical-align: middle;\n",
       "    }\n",
       "\n",
       "    .dataframe tbody tr th {\n",
       "        vertical-align: top;\n",
       "    }\n",
       "\n",
       "    .dataframe thead th {\n",
       "        text-align: right;\n",
       "    }\n",
       "</style>\n",
       "<table border=\"1\" class=\"dataframe\">\n",
       "  <thead>\n",
       "    <tr style=\"text-align: right;\">\n",
       "      <th></th>\n",
       "      <th>index</th>\n",
       "      <th>Brand</th>\n",
       "      <th>Model</th>\n",
       "      <th>Year</th>\n",
       "      <th>Fuel</th>\n",
       "      <th>Driven Kilometers</th>\n",
       "      <th>Owner</th>\n",
       "      <th>Location</th>\n",
       "      <th>Price</th>\n",
       "    </tr>\n",
       "  </thead>\n",
       "  <tbody>\n",
       "    <tr>\n",
       "      <th>0</th>\n",
       "      <td>0</td>\n",
       "      <td>Skoda</td>\n",
       "      <td>Fabia</td>\n",
       "      <td>2009.0</td>\n",
       "      <td>PETROL</td>\n",
       "      <td>86000.0 KM</td>\n",
       "      <td>Owner\\n2nd</td>\n",
       "      <td>Location\\nAnant Nagar, Nagpur</td>\n",
       "      <td>₹ 1,70,000</td>\n",
       "    </tr>\n",
       "    <tr>\n",
       "      <th>1</th>\n",
       "      <td>1</td>\n",
       "      <td>Audi</td>\n",
       "      <td>6</td>\n",
       "      <td>2012.0</td>\n",
       "      <td>DIESEL</td>\n",
       "      <td>50500.0 KM</td>\n",
       "      <td>Owner\\n1st</td>\n",
       "      <td>Location\\nJubilee Hills, Hyderabad</td>\n",
       "      <td>₹ 10,90,000</td>\n",
       "    </tr>\n",
       "    <tr>\n",
       "      <th>2</th>\n",
       "      <td>2</td>\n",
       "      <td>Bmw 5</td>\n",
       "      <td>Series</td>\n",
       "      <td>2015.0</td>\n",
       "      <td>DIESEL</td>\n",
       "      <td>144000.0 KM</td>\n",
       "      <td>Owner\\n1st</td>\n",
       "      <td>Location\\nRS Puram, Coimbatore</td>\n",
       "      <td>₹ 26,00,000</td>\n",
       "    </tr>\n",
       "    <tr>\n",
       "      <th>3</th>\n",
       "      <td>3</td>\n",
       "      <td>Renau</td>\n",
       "      <td>t Duster</td>\n",
       "      <td>2014.0</td>\n",
       "      <td>DIESEL</td>\n",
       "      <td>30000 KM</td>\n",
       "      <td>Owner\\nFirst</td>\n",
       "      <td>Location\\nDr Mukherjee Nagar, Delhi</td>\n",
       "      <td>₹ 4,25,000</td>\n",
       "    </tr>\n",
       "    <tr>\n",
       "      <th>4</th>\n",
       "      <td>4</td>\n",
       "      <td>Chevr</td>\n",
       "      <td>let Beat</td>\n",
       "      <td>2011.0</td>\n",
       "      <td>CNG</td>\n",
       "      <td>120000 KM</td>\n",
       "      <td>Owner\\nSecond</td>\n",
       "      <td>Location\\nSector 74, Noida</td>\n",
       "      <td>₹ 1,50,000</td>\n",
       "    </tr>\n",
       "  </tbody>\n",
       "</table>\n",
       "</div>"
      ],
      "text/plain": [
       "   index  Brand      Model    Year    Fuel Driven Kilometers          Owner  \\\n",
       "0      0  Skoda     Fabia   2009.0  PETROL        86000.0 KM     Owner\\n2nd   \n",
       "1      1  Audi          6   2012.0  DIESEL        50500.0 KM     Owner\\n1st   \n",
       "2      2  Bmw 5    Series   2015.0  DIESEL       144000.0 KM     Owner\\n1st   \n",
       "3      3  Renau  t Duster   2014.0  DIESEL          30000 KM   Owner\\nFirst   \n",
       "4      4  Chevr  let Beat   2011.0     CNG         120000 KM  Owner\\nSecond   \n",
       "\n",
       "                              Location        Price  \n",
       "0        Location\\nAnant Nagar, Nagpur   ₹ 1,70,000  \n",
       "1   Location\\nJubilee Hills, Hyderabad  ₹ 10,90,000  \n",
       "2       Location\\nRS Puram, Coimbatore  ₹ 26,00,000  \n",
       "3  Location\\nDr Mukherjee Nagar, Delhi   ₹ 4,25,000  \n",
       "4           Location\\nSector 74, Noida   ₹ 1,50,000  "
      ]
     },
     "execution_count": 119,
     "metadata": {},
     "output_type": "execute_result"
    }
   ],
   "source": [
    "used_cars.head()"
   ]
  },
  {
   "cell_type": "code",
   "execution_count": 120,
   "id": "0b11a7ce",
   "metadata": {},
   "outputs": [],
   "source": [
    "used_cars.drop(['index'], axis= 1, inplace= True)"
   ]
  },
  {
   "cell_type": "code",
   "execution_count": 121,
   "id": "4f923c48",
   "metadata": {},
   "outputs": [
    {
     "data": {
      "text/html": [
       "<div>\n",
       "<style scoped>\n",
       "    .dataframe tbody tr th:only-of-type {\n",
       "        vertical-align: middle;\n",
       "    }\n",
       "\n",
       "    .dataframe tbody tr th {\n",
       "        vertical-align: top;\n",
       "    }\n",
       "\n",
       "    .dataframe thead th {\n",
       "        text-align: right;\n",
       "    }\n",
       "</style>\n",
       "<table border=\"1\" class=\"dataframe\">\n",
       "  <thead>\n",
       "    <tr style=\"text-align: right;\">\n",
       "      <th></th>\n",
       "      <th>Brand</th>\n",
       "      <th>Model</th>\n",
       "      <th>Year</th>\n",
       "      <th>Fuel</th>\n",
       "      <th>Driven Kilometers</th>\n",
       "      <th>Owner</th>\n",
       "      <th>Location</th>\n",
       "      <th>Price</th>\n",
       "    </tr>\n",
       "  </thead>\n",
       "  <tbody>\n",
       "    <tr>\n",
       "      <th>0</th>\n",
       "      <td>Skoda</td>\n",
       "      <td>Fabia</td>\n",
       "      <td>2009.0</td>\n",
       "      <td>PETROL</td>\n",
       "      <td>86000.0 KM</td>\n",
       "      <td>Owner\\n2nd</td>\n",
       "      <td>Location\\nAnant Nagar, Nagpur</td>\n",
       "      <td>₹ 1,70,000</td>\n",
       "    </tr>\n",
       "    <tr>\n",
       "      <th>1</th>\n",
       "      <td>Audi</td>\n",
       "      <td>6</td>\n",
       "      <td>2012.0</td>\n",
       "      <td>DIESEL</td>\n",
       "      <td>50500.0 KM</td>\n",
       "      <td>Owner\\n1st</td>\n",
       "      <td>Location\\nJubilee Hills, Hyderabad</td>\n",
       "      <td>₹ 10,90,000</td>\n",
       "    </tr>\n",
       "    <tr>\n",
       "      <th>2</th>\n",
       "      <td>Bmw 5</td>\n",
       "      <td>Series</td>\n",
       "      <td>2015.0</td>\n",
       "      <td>DIESEL</td>\n",
       "      <td>144000.0 KM</td>\n",
       "      <td>Owner\\n1st</td>\n",
       "      <td>Location\\nRS Puram, Coimbatore</td>\n",
       "      <td>₹ 26,00,000</td>\n",
       "    </tr>\n",
       "    <tr>\n",
       "      <th>3</th>\n",
       "      <td>Renau</td>\n",
       "      <td>t Duster</td>\n",
       "      <td>2014.0</td>\n",
       "      <td>DIESEL</td>\n",
       "      <td>30000 KM</td>\n",
       "      <td>Owner\\nFirst</td>\n",
       "      <td>Location\\nDr Mukherjee Nagar, Delhi</td>\n",
       "      <td>₹ 4,25,000</td>\n",
       "    </tr>\n",
       "    <tr>\n",
       "      <th>4</th>\n",
       "      <td>Chevr</td>\n",
       "      <td>let Beat</td>\n",
       "      <td>2011.0</td>\n",
       "      <td>CNG</td>\n",
       "      <td>120000 KM</td>\n",
       "      <td>Owner\\nSecond</td>\n",
       "      <td>Location\\nSector 74, Noida</td>\n",
       "      <td>₹ 1,50,000</td>\n",
       "    </tr>\n",
       "  </tbody>\n",
       "</table>\n",
       "</div>"
      ],
      "text/plain": [
       "   Brand      Model    Year    Fuel Driven Kilometers          Owner  \\\n",
       "0  Skoda     Fabia   2009.0  PETROL        86000.0 KM     Owner\\n2nd   \n",
       "1  Audi          6   2012.0  DIESEL        50500.0 KM     Owner\\n1st   \n",
       "2  Bmw 5    Series   2015.0  DIESEL       144000.0 KM     Owner\\n1st   \n",
       "3  Renau  t Duster   2014.0  DIESEL          30000 KM   Owner\\nFirst   \n",
       "4  Chevr  let Beat   2011.0     CNG         120000 KM  Owner\\nSecond   \n",
       "\n",
       "                              Location        Price  \n",
       "0        Location\\nAnant Nagar, Nagpur   ₹ 1,70,000  \n",
       "1   Location\\nJubilee Hills, Hyderabad  ₹ 10,90,000  \n",
       "2       Location\\nRS Puram, Coimbatore  ₹ 26,00,000  \n",
       "3  Location\\nDr Mukherjee Nagar, Delhi   ₹ 4,25,000  \n",
       "4           Location\\nSector 74, Noida   ₹ 1,50,000  "
      ]
     },
     "execution_count": 121,
     "metadata": {},
     "output_type": "execute_result"
    }
   ],
   "source": [
    "used_cars.head()"
   ]
  },
  {
   "cell_type": "code",
   "execution_count": 122,
   "id": "d9bc8115",
   "metadata": {},
   "outputs": [],
   "source": [
    "used_cars = used_cars.to_csv('used_cars.csv')"
   ]
  },
  {
   "cell_type": "code",
   "execution_count": null,
   "id": "1aa45a7c",
   "metadata": {},
   "outputs": [],
   "source": []
  }
 ],
 "metadata": {
  "kernelspec": {
   "display_name": "Python 3 (ipykernel)",
   "language": "python",
   "name": "python3"
  },
  "language_info": {
   "codemirror_mode": {
    "name": "ipython",
    "version": 3
   },
   "file_extension": ".py",
   "mimetype": "text/x-python",
   "name": "python",
   "nbconvert_exporter": "python",
   "pygments_lexer": "ipython3",
   "version": "3.9.7"
  }
 },
 "nbformat": 4,
 "nbformat_minor": 5
}
